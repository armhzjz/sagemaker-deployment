{
 "cells": [
  {
   "cell_type": "markdown",
   "metadata": {},
   "source": [
    "# Sentiment Analysis Web App\n",
    "\n",
    "_Deep Learning Nanodegree Program | Deployment_\n",
    "\n",
    "---\n",
    "\n",
    "In this notebook we will use Amazon's SageMaker service to construct a random tree model to predict the sentiment of a movie review. In addition, we will deploy this model to an endpoint and construct a very simple web app which will interact with our model's deployed endpoint.\n",
    "\n",
    "## General Outline\n",
    "\n",
    "Typically, when using a notebook instance with SageMaker, you will proceed through the following steps. Of course, not every step will need to be done with each project. Also, there is quite a lot of room for variation in many of the steps, as you will see throughout these lessons.\n",
    "\n",
    "1. Download or otherwise retrieve the data.\n",
    "2. Process / Prepare the data.\n",
    "3. Upload the processed data to S3.\n",
    "4. Train a chosen model.\n",
    "5. Test the trained model (typically using a batch transform job).\n",
    "6. Deploy the trained model.\n",
    "7. Use the deployed model.\n",
    "\n",
    "In this notebook we will progress through each of the steps above. We will also see that the final step, using the deployed model, can be quite challenging."
   ]
  },
  {
   "cell_type": "code",
   "execution_count": 1,
   "metadata": {},
   "outputs": [
    {
     "name": "stdout",
     "output_type": "stream",
     "text": [
      "Collecting sagemaker==1.72.0\n",
      "  Downloading sagemaker-1.72.0.tar.gz (297 kB)\n",
      "\u001b[K     |████████████████████████████████| 297 kB 19.5 MB/s eta 0:00:01\n",
      "\u001b[?25hRequirement already satisfied: boto3>=1.14.12 in /home/ec2-user/anaconda3/envs/python3/lib/python3.6/site-packages (from sagemaker==1.72.0) (1.16.37)\n",
      "Requirement already satisfied: numpy>=1.9.0 in /home/ec2-user/anaconda3/envs/python3/lib/python3.6/site-packages (from sagemaker==1.72.0) (1.19.4)\n",
      "Requirement already satisfied: protobuf>=3.1 in /home/ec2-user/anaconda3/envs/python3/lib/python3.6/site-packages (from sagemaker==1.72.0) (3.14.0)\n",
      "Requirement already satisfied: scipy>=0.19.0 in /home/ec2-user/anaconda3/envs/python3/lib/python3.6/site-packages (from sagemaker==1.72.0) (1.4.1)\n",
      "Requirement already satisfied: protobuf3-to-dict>=0.1.5 in /home/ec2-user/anaconda3/envs/python3/lib/python3.6/site-packages (from sagemaker==1.72.0) (0.1.5)\n",
      "Requirement already satisfied: importlib-metadata>=1.4.0 in /home/ec2-user/anaconda3/envs/python3/lib/python3.6/site-packages (from sagemaker==1.72.0) (3.1.0)\n",
      "Requirement already satisfied: packaging>=20.0 in /home/ec2-user/anaconda3/envs/python3/lib/python3.6/site-packages (from sagemaker==1.72.0) (20.7)\n",
      "Requirement already satisfied: botocore<1.20.0,>=1.19.37 in /home/ec2-user/anaconda3/envs/python3/lib/python3.6/site-packages (from boto3>=1.14.12->sagemaker==1.72.0) (1.19.37)\n",
      "Requirement already satisfied: s3transfer<0.4.0,>=0.3.0 in /home/ec2-user/anaconda3/envs/python3/lib/python3.6/site-packages (from boto3>=1.14.12->sagemaker==1.72.0) (0.3.3)\n",
      "Requirement already satisfied: jmespath<1.0.0,>=0.7.1 in /home/ec2-user/anaconda3/envs/python3/lib/python3.6/site-packages (from boto3>=1.14.12->sagemaker==1.72.0) (0.10.0)\n",
      "Requirement already satisfied: urllib3<1.27,>=1.25.4 in /home/ec2-user/anaconda3/envs/python3/lib/python3.6/site-packages (from botocore<1.20.0,>=1.19.37->boto3>=1.14.12->sagemaker==1.72.0) (1.25.11)\n",
      "Requirement already satisfied: jmespath<1.0.0,>=0.7.1 in /home/ec2-user/anaconda3/envs/python3/lib/python3.6/site-packages (from boto3>=1.14.12->sagemaker==1.72.0) (0.10.0)\n",
      "Requirement already satisfied: python-dateutil<3.0.0,>=2.1 in /home/ec2-user/anaconda3/envs/python3/lib/python3.6/site-packages (from botocore<1.20.0,>=1.19.37->boto3>=1.14.12->sagemaker==1.72.0) (2.8.1)\n",
      "Requirement already satisfied: zipp>=0.5 in /home/ec2-user/anaconda3/envs/python3/lib/python3.6/site-packages (from importlib-metadata>=1.4.0->sagemaker==1.72.0) (3.4.0)\n",
      "Requirement already satisfied: pyparsing>=2.0.2 in /home/ec2-user/anaconda3/envs/python3/lib/python3.6/site-packages (from packaging>=20.0->sagemaker==1.72.0) (2.4.7)\n",
      "Requirement already satisfied: six>=1.9 in /home/ec2-user/anaconda3/envs/python3/lib/python3.6/site-packages (from protobuf>=3.1->sagemaker==1.72.0) (1.15.0)\n",
      "Requirement already satisfied: protobuf>=3.1 in /home/ec2-user/anaconda3/envs/python3/lib/python3.6/site-packages (from sagemaker==1.72.0) (3.14.0)\n",
      "Requirement already satisfied: six>=1.9 in /home/ec2-user/anaconda3/envs/python3/lib/python3.6/site-packages (from protobuf>=3.1->sagemaker==1.72.0) (1.15.0)\n",
      "Requirement already satisfied: six>=1.9 in /home/ec2-user/anaconda3/envs/python3/lib/python3.6/site-packages (from protobuf>=3.1->sagemaker==1.72.0) (1.15.0)\n",
      "Requirement already satisfied: botocore<1.20.0,>=1.19.37 in /home/ec2-user/anaconda3/envs/python3/lib/python3.6/site-packages (from boto3>=1.14.12->sagemaker==1.72.0) (1.19.37)\n",
      "Requirement already satisfied: numpy>=1.9.0 in /home/ec2-user/anaconda3/envs/python3/lib/python3.6/site-packages (from sagemaker==1.72.0) (1.19.4)\n",
      "Collecting smdebug-rulesconfig==0.1.4\n",
      "  Downloading smdebug_rulesconfig-0.1.4-py2.py3-none-any.whl (10 kB)\n",
      "Building wheels for collected packages: sagemaker\n",
      "  Building wheel for sagemaker (setup.py) ... \u001b[?25ldone\n",
      "\u001b[?25h  Created wheel for sagemaker: filename=sagemaker-1.72.0-py2.py3-none-any.whl size=386358 sha256=4e582e87a3c38ebe1f20e08a12be44883621b271b85fcad9cb98d3ffb86144ac\n",
      "  Stored in directory: /home/ec2-user/.cache/pip/wheels/c3/58/70/85faf4437568bfaa4c419937569ba1fe54d44c5db42406bbd7\n",
      "Successfully built sagemaker\n",
      "Installing collected packages: smdebug-rulesconfig, sagemaker\n",
      "  Attempting uninstall: smdebug-rulesconfig\n",
      "    Found existing installation: smdebug-rulesconfig 1.0.0\n",
      "    Uninstalling smdebug-rulesconfig-1.0.0:\n",
      "      Successfully uninstalled smdebug-rulesconfig-1.0.0\n",
      "  Attempting uninstall: sagemaker\n",
      "    Found existing installation: sagemaker 2.19.0\n",
      "    Uninstalling sagemaker-2.19.0:\n",
      "      Successfully uninstalled sagemaker-2.19.0\n",
      "Successfully installed sagemaker-1.72.0 smdebug-rulesconfig-0.1.4\n",
      "\u001b[33mWARNING: You are using pip version 20.3; however, version 21.0 is available.\n",
      "You should consider upgrading via the '/home/ec2-user/anaconda3/envs/python3/bin/python -m pip install --upgrade pip' command.\u001b[0m\n"
     ]
    }
   ],
   "source": [
    "# Make sure that we use SageMaker 1.x\n",
    "!pip install sagemaker==1.72.0"
   ]
  },
  {
   "cell_type": "markdown",
   "metadata": {},
   "source": [
    "## Step 1: Downloading the data\n",
    "\n",
    "The dataset we are going to use is very popular among researchers in Natural Language Processing, usually referred to as the [IMDb dataset](http://ai.stanford.edu/~amaas/data/sentiment/). It consists of movie reviews from the website [imdb.com](http://www.imdb.com/), each labeled as either '**pos**itive', if the reviewer enjoyed the film, or '**neg**ative' otherwise.\n",
    "\n",
    "> Maas, Andrew L., et al. [Learning Word Vectors for Sentiment Analysis](http://ai.stanford.edu/~amaas/data/sentiment/). In _Proceedings of the 49th Annual Meeting of the Association for Computational Linguistics: Human Language Technologies_. Association for Computational Linguistics, 2011.\n",
    "\n",
    "We begin by using some Jupyter Notebook magic to download and extract the dataset."
   ]
  },
  {
   "cell_type": "code",
   "execution_count": 2,
   "metadata": {},
   "outputs": [
    {
     "name": "stdout",
     "output_type": "stream",
     "text": [
      "mkdir: cannot create directory ‘../data’: File exists\n",
      "--2021-01-26 19:04:25--  http://ai.stanford.edu/~amaas/data/sentiment/aclImdb_v1.tar.gz\n",
      "Resolving ai.stanford.edu (ai.stanford.edu)... 171.64.68.10\n",
      "Connecting to ai.stanford.edu (ai.stanford.edu)|171.64.68.10|:80... connected.\n",
      "HTTP request sent, awaiting response... 200 OK\n",
      "Length: 84125825 (80M) [application/x-gzip]\n",
      "Saving to: ‘../data/aclImdb_v1.tar.gz’\n",
      "\n",
      "../data/aclImdb_v1. 100%[===================>]  80.23M  10.2MB/s    in 11s     \n",
      "\n",
      "2021-01-26 19:04:37 (7.28 MB/s) - ‘../data/aclImdb_v1.tar.gz’ saved [84125825/84125825]\n",
      "\n"
     ]
    }
   ],
   "source": [
    "%mkdir ../data\n",
    "!wget -O ../data/aclImdb_v1.tar.gz http://ai.stanford.edu/~amaas/data/sentiment/aclImdb_v1.tar.gz\n",
    "!tar -zxf ../data/aclImdb_v1.tar.gz -C ../data"
   ]
  },
  {
   "cell_type": "markdown",
   "metadata": {},
   "source": [
    "## Step 2: Preparing and Processing the data\n",
    "\n",
    "The data we have downloaded is split into various files, each of which contains a single review. It will be much easier going forward if we combine these individual files into two large files, one for training and one for testing."
   ]
  },
  {
   "cell_type": "code",
   "execution_count": 3,
   "metadata": {},
   "outputs": [],
   "source": [
    "import os\n",
    "import glob\n",
    "\n",
    "def read_imdb_data(data_dir='../data/aclImdb'):\n",
    "    data = {}\n",
    "    labels = {}\n",
    "    \n",
    "    for data_type in ['train', 'test']:\n",
    "        data[data_type] = {}\n",
    "        labels[data_type] = {}\n",
    "        \n",
    "        for sentiment in ['pos', 'neg']:\n",
    "            data[data_type][sentiment] = []\n",
    "            labels[data_type][sentiment] = []\n",
    "            \n",
    "            path = os.path.join(data_dir, data_type, sentiment, '*.txt')\n",
    "            files = glob.glob(path)\n",
    "            \n",
    "            for f in files:\n",
    "                with open(f) as review:\n",
    "                    data[data_type][sentiment].append(review.read())\n",
    "                    # Here we represent a positive review by '1' and a negative review by '0'\n",
    "                    labels[data_type][sentiment].append(1 if sentiment == 'pos' else 0)\n",
    "                    \n",
    "            assert len(data[data_type][sentiment]) == len(labels[data_type][sentiment]), \\\n",
    "                    \"{}/{} data size does not match labels size\".format(data_type, sentiment)\n",
    "                \n",
    "    return data, labels"
   ]
  },
  {
   "cell_type": "code",
   "execution_count": 4,
   "metadata": {},
   "outputs": [
    {
     "name": "stdout",
     "output_type": "stream",
     "text": [
      "IMDB reviews: train = 12500 pos / 12500 neg, test = 12500 pos / 12500 neg\n"
     ]
    }
   ],
   "source": [
    "data, labels = read_imdb_data()\n",
    "print(\"IMDB reviews: train = {} pos / {} neg, test = {} pos / {} neg\".format(\n",
    "            len(data['train']['pos']), len(data['train']['neg']),\n",
    "            len(data['test']['pos']), len(data['test']['neg'])))"
   ]
  },
  {
   "cell_type": "code",
   "execution_count": 5,
   "metadata": {},
   "outputs": [],
   "source": [
    "from sklearn.utils import shuffle\n",
    "\n",
    "def prepare_imdb_data(data, labels):\n",
    "    \"\"\"Prepare training and test sets from IMDb movie reviews.\"\"\"\n",
    "    \n",
    "    #Combine positive and negative reviews and labels\n",
    "    data_train = data['train']['pos'] + data['train']['neg']\n",
    "    data_test = data['test']['pos'] + data['test']['neg']\n",
    "    labels_train = labels['train']['pos'] + labels['train']['neg']\n",
    "    labels_test = labels['test']['pos'] + labels['test']['neg']\n",
    "    \n",
    "    #Shuffle reviews and corresponding labels within training and test sets\n",
    "    data_train, labels_train = shuffle(data_train, labels_train)\n",
    "    data_test, labels_test = shuffle(data_test, labels_test)\n",
    "    \n",
    "    # Return a unified training data, test data, training labels, test labets\n",
    "    return data_train, data_test, labels_train, labels_test"
   ]
  },
  {
   "cell_type": "code",
   "execution_count": 6,
   "metadata": {},
   "outputs": [
    {
     "name": "stdout",
     "output_type": "stream",
     "text": [
      "IMDb reviews (combined): train = 25000, test = 25000\n"
     ]
    }
   ],
   "source": [
    "train_X, test_X, train_y, test_y = prepare_imdb_data(data, labels)\n",
    "print(\"IMDb reviews (combined): train = {}, test = {}\".format(len(train_X), len(test_X)))"
   ]
  },
  {
   "cell_type": "code",
   "execution_count": 7,
   "metadata": {},
   "outputs": [
    {
     "data": {
      "text/plain": [
       "'Let\\'s face it; some lame kid who dies and has his soul transfered into a scarecrow. Das no gonna happen neva! OMFG This stupid loser kid who can\\'t stand up for himself gets his ass handed to him by some drunk bastard screwing his mom. Right as he dies, he looks up at the scarecrow and he let\\'s his spirit go into the scarecrow. The drunk guy covered up his death by making it seem suicidal and thought he had gotten away with it. We later see he is tossed out of the trailer and later earns another encounter with the scarecrow. They had a brief encounter which includes the drunk calling him a loser and the scarecrow rebounding with \"Takes one to know one, loser!\" The scarecrow flips off the building, calls him \"daddy-o\", and then beheads the poor man. We can see how this awesome movie unfolds from that. He goes on to kill many people, afterward. He mainly kills the people who gave him a hard time in rl and goes off to kill some random ass people, just for some laughs. No laughing here. He adds a punchline to every kill, too. Every time he killed someone, he would do some karate flips and finish it all off with one of his signature punchlines. In the case of someone who was hard of hearing, he would say \"Here, have an EAR of corn!\" then shove it up their ass. OR we can actually take an example from the movie! He just got done killing a cop and was on his way to killing the only person who ever stood up for him. Her father, the sheriff, yelled to the madman to stop, and he said \"Hey, stay awhile!\" and threw a dagger threw his chest and stuck him onto some tree. In the end of the movie, he killed two guys and threw in the punchline \"Gotta split!\" and killed two guys by shoving a scythe into their heads. Wowzors, this movie made me want to cream my pants so bad. Maybe next time this guy makes a movie, it won\\'t be gay.'"
      ]
     },
     "execution_count": 7,
     "metadata": {},
     "output_type": "execute_result"
    }
   ],
   "source": [
    "train_X[100]"
   ]
  },
  {
   "cell_type": "markdown",
   "metadata": {},
   "source": [
    "## Processing the data\n",
    "\n",
    "Now that we have our training and testing datasets merged and ready to use, we need to start processing the raw data into something that will be useable by our machine learning algorithm. To begin with, we remove any html formatting and any non-alpha numeric characters that may appear in the reviews. We will do this in a very simplistic way using Python's regular expression module. We will discuss the reason for this rather simplistic pre-processing later on."
   ]
  },
  {
   "cell_type": "code",
   "execution_count": 8,
   "metadata": {},
   "outputs": [],
   "source": [
    "import re\n",
    "\n",
    "REPLACE_NO_SPACE = re.compile(\"(\\.)|(\\;)|(\\:)|(\\!)|(\\')|(\\?)|(\\,)|(\\\")|(\\()|(\\))|(\\[)|(\\])\")\n",
    "REPLACE_WITH_SPACE = re.compile(\"(<br\\s*/><br\\s*/>)|(\\-)|(\\/)\")\n",
    "\n",
    "def review_to_words(review):\n",
    "    words = REPLACE_NO_SPACE.sub(\"\", review.lower())\n",
    "    words = REPLACE_WITH_SPACE.sub(\" \", words)\n",
    "    return words"
   ]
  },
  {
   "cell_type": "code",
   "execution_count": 9,
   "metadata": {},
   "outputs": [
    {
     "data": {
      "text/plain": [
       "'lets face it some lame kid who dies and has his soul transfered into a scarecrow das no gonna happen neva omfg this stupid loser kid who cant stand up for himself gets his ass handed to him by some drunk bastard screwing his mom right as he dies he looks up at the scarecrow and he lets his spirit go into the scarecrow the drunk guy covered up his death by making it seem suicidal and thought he had gotten away with it we later see he is tossed out of the trailer and later earns another encounter with the scarecrow they had a brief encounter which includes the drunk calling him a loser and the scarecrow rebounding with takes one to know one loser the scarecrow flips off the building calls him daddy o and then beheads the poor man we can see how this awesome movie unfolds from that he goes on to kill many people afterward he mainly kills the people who gave him a hard time in rl and goes off to kill some random ass people just for some laughs no laughing here he adds a punchline to every kill too every time he killed someone he would do some karate flips and finish it all off with one of his signature punchlines in the case of someone who was hard of hearing he would say here have an ear of corn then shove it up their ass or we can actually take an example from the movie he just got done killing a cop and was on his way to killing the only person who ever stood up for him her father the sheriff yelled to the madman to stop and he said hey stay awhile and threw a dagger threw his chest and stuck him onto some tree in the end of the movie he killed two guys and threw in the punchline gotta split and killed two guys by shoving a scythe into their heads wowzors this movie made me want to cream my pants so bad maybe next time this guy makes a movie it wont be gay'"
      ]
     },
     "execution_count": 9,
     "metadata": {},
     "output_type": "execute_result"
    }
   ],
   "source": [
    "review_to_words(train_X[100])"
   ]
  },
  {
   "cell_type": "code",
   "execution_count": 10,
   "metadata": {},
   "outputs": [],
   "source": [
    "import pickle\n",
    "\n",
    "cache_dir = os.path.join(\"../cache\", \"sentiment_web_app\")  # where to store cache files\n",
    "os.makedirs(cache_dir, exist_ok=True)  # ensure cache directory exists\n",
    "\n",
    "def preprocess_data(data_train, data_test, labels_train, labels_test,\n",
    "                    cache_dir=cache_dir, cache_file=\"preprocessed_data.pkl\"):\n",
    "    \"\"\"Convert each review to words; read from cache if available.\"\"\"\n",
    "\n",
    "    # If cache_file is not None, try to read from it first\n",
    "    cache_data = None\n",
    "    if cache_file is not None:\n",
    "        try:\n",
    "            with open(os.path.join(cache_dir, cache_file), \"rb\") as f:\n",
    "                cache_data = pickle.load(f)\n",
    "            print(\"Read preprocessed data from cache file:\", cache_file)\n",
    "        except:\n",
    "            pass  # unable to read from cache, but that's okay\n",
    "    \n",
    "    # If cache is missing, then do the heavy lifting\n",
    "    if cache_data is None:\n",
    "        # Preprocess training and test data to obtain words for each review\n",
    "        #words_train = list(map(review_to_words, data_train))\n",
    "        #words_test = list(map(review_to_words, data_test))\n",
    "        words_train = [review_to_words(review) for review in data_train]\n",
    "        words_test = [review_to_words(review) for review in data_test]\n",
    "        \n",
    "        # Write to cache file for future runs\n",
    "        if cache_file is not None:\n",
    "            cache_data = dict(words_train=words_train, words_test=words_test,\n",
    "                              labels_train=labels_train, labels_test=labels_test)\n",
    "            with open(os.path.join(cache_dir, cache_file), \"wb\") as f:\n",
    "                pickle.dump(cache_data, f)\n",
    "            print(\"Wrote preprocessed data to cache file:\", cache_file)\n",
    "    else:\n",
    "        # Unpack data loaded from cache file\n",
    "        words_train, words_test, labels_train, labels_test = (cache_data['words_train'],\n",
    "                cache_data['words_test'], cache_data['labels_train'], cache_data['labels_test'])\n",
    "    \n",
    "    return words_train, words_test, labels_train, labels_test"
   ]
  },
  {
   "cell_type": "code",
   "execution_count": 11,
   "metadata": {},
   "outputs": [
    {
     "name": "stdout",
     "output_type": "stream",
     "text": [
      "Read preprocessed data from cache file: preprocessed_data.pkl\n"
     ]
    }
   ],
   "source": [
    "# Preprocess data\n",
    "train_X, test_X, train_y, test_y = preprocess_data(train_X, test_X, train_y, test_y)"
   ]
  },
  {
   "cell_type": "markdown",
   "metadata": {},
   "source": [
    "### Extract Bag-of-Words features\n",
    "\n",
    "For the model we will be implementing, rather than using the reviews directly, we are going to transform each review into a Bag-of-Words feature representation. Keep in mind that 'in the wild' we will only have access to the training set so our transformer can only use the training set to construct a representation."
   ]
  },
  {
   "cell_type": "code",
   "execution_count": 12,
   "metadata": {},
   "outputs": [],
   "source": [
    "import numpy as np\n",
    "from sklearn.feature_extraction.text import CountVectorizer\n",
    "\n",
    "# sklearn.externals.joblib is deprecated in 0.21 and will be removed in 0.23. \n",
    "# from sklearn.externals import joblib\n",
    "\n",
    "# Import joblib package directly\n",
    "import joblib\n",
    "# joblib is an enhanced version of pickle that is more efficient for storing NumPy arrays\n",
    "\n",
    "def extract_BoW_features(words_train, words_test, vocabulary_size=5000,\n",
    "                         cache_dir=cache_dir, cache_file=\"bow_features.pkl\"):\n",
    "    \"\"\"Extract Bag-of-Words for a given set of documents, already preprocessed into words.\"\"\"\n",
    "    \n",
    "    # If cache_file is not None, try to read from it first\n",
    "    cache_data = None\n",
    "    if cache_file is not None:\n",
    "        try:\n",
    "            with open(os.path.join(cache_dir, cache_file), \"rb\") as f:\n",
    "                cache_data = joblib.load(f)\n",
    "            print(\"Read features from cache file:\", cache_file)\n",
    "        except:\n",
    "            pass  # unable to read from cache, but that's okay\n",
    "    \n",
    "    # If cache is missing, then do the heavy lifting\n",
    "    if cache_data is None:\n",
    "        # Fit a vectorizer to training documents and use it to transform them\n",
    "        # NOTE: Training documents have already been preprocessed and tokenized into words;\n",
    "        #       pass in dummy functions to skip those steps, e.g. preprocessor=lambda x: x\n",
    "        vectorizer = CountVectorizer(max_features=vocabulary_size)\n",
    "        features_train = vectorizer.fit_transform(words_train).toarray()\n",
    "\n",
    "        # Apply the same vectorizer to transform the test documents (ignore unknown words)\n",
    "        features_test = vectorizer.transform(words_test).toarray()\n",
    "        \n",
    "        # NOTE: Remember to convert the features using .toarray() for a compact representation\n",
    "        \n",
    "        # Write to cache file for future runs (store vocabulary as well)\n",
    "        if cache_file is not None:\n",
    "            vocabulary = vectorizer.vocabulary_\n",
    "            cache_data = dict(features_train=features_train, features_test=features_test,\n",
    "                             vocabulary=vocabulary)\n",
    "            with open(os.path.join(cache_dir, cache_file), \"wb\") as f:\n",
    "                joblib.dump(cache_data, f)\n",
    "            print(\"Wrote features to cache file:\", cache_file)\n",
    "    else:\n",
    "        # Unpack data loaded from cache file\n",
    "        features_train, features_test, vocabulary = (cache_data['features_train'],\n",
    "                cache_data['features_test'], cache_data['vocabulary'])\n",
    "    \n",
    "    # Return both the extracted features as well as the vocabulary\n",
    "    return features_train, features_test, vocabulary"
   ]
  },
  {
   "cell_type": "code",
   "execution_count": 13,
   "metadata": {},
   "outputs": [
    {
     "name": "stdout",
     "output_type": "stream",
     "text": [
      "Read features from cache file: bow_features.pkl\n"
     ]
    }
   ],
   "source": [
    "# Extract Bag of Words features for both training and test datasets\n",
    "train_X, test_X, vocabulary = extract_BoW_features(train_X, test_X)"
   ]
  },
  {
   "cell_type": "code",
   "execution_count": 14,
   "metadata": {},
   "outputs": [
    {
     "data": {
      "text/plain": [
       "5000"
      ]
     },
     "execution_count": 14,
     "metadata": {},
     "output_type": "execute_result"
    }
   ],
   "source": [
    "len(train_X[100])"
   ]
  },
  {
   "cell_type": "markdown",
   "metadata": {},
   "source": [
    "## Step 3: Upload data to S3\n",
    "\n",
    "Now that we have created the feature representation of our training (and testing) data, it is time to start setting up and using the XGBoost classifier provided by SageMaker.\n",
    "\n",
    "### Writing the datasets\n",
    "\n",
    "The XGBoost classifier that we will be using requires the dataset to be written to a file and stored using Amazon S3. To do this, we will start by splitting the training dataset into two parts, the data we will train the model with and a validation set. Then, we will write those datasets to a file locally and then upload the files to S3. In addition, we will write the test set to a file and upload that file to S3. This is so that we can use SageMakers Batch Transform functionality to test our model once we've fit it."
   ]
  },
  {
   "cell_type": "code",
   "execution_count": 15,
   "metadata": {},
   "outputs": [],
   "source": [
    "import pandas as pd\n",
    "\n",
    "# Earlier we shuffled the training dataset so to make things simple we can just assign\n",
    "# the first 10 000 reviews to the validation set and use the remaining reviews for training.\n",
    "val_X = pd.DataFrame(train_X[:10000])\n",
    "train_X = pd.DataFrame(train_X[10000:])\n",
    "\n",
    "val_y = pd.DataFrame(train_y[:10000])\n",
    "train_y = pd.DataFrame(train_y[10000:])"
   ]
  },
  {
   "cell_type": "markdown",
   "metadata": {},
   "source": [
    "The documentation for the XGBoost algorithm in SageMaker requires that the training and validation datasets should contain no headers or index and that the label should occur first for each sample.\n",
    "\n",
    "For more information about this and other algorithms, the SageMaker developer documentation can be found on __[Amazon's website.](https://docs.aws.amazon.com/sagemaker/latest/dg/)__"
   ]
  },
  {
   "cell_type": "code",
   "execution_count": 16,
   "metadata": {},
   "outputs": [],
   "source": [
    "# First we make sure that the local directory in which we'd like to store the training and validation csv files exists.\n",
    "data_dir = '../data/sentiment_web_app'\n",
    "if not os.path.exists(data_dir):\n",
    "    os.makedirs(data_dir)"
   ]
  },
  {
   "cell_type": "code",
   "execution_count": 17,
   "metadata": {},
   "outputs": [],
   "source": [
    "pd.DataFrame(test_X).to_csv(os.path.join(data_dir, 'test.csv'), header=False, index=False)\n",
    "\n",
    "pd.concat([val_y, val_X], axis=1).to_csv(os.path.join(data_dir, 'validation.csv'), header=False, index=False)\n",
    "pd.concat([train_y, train_X], axis=1).to_csv(os.path.join(data_dir, 'train.csv'), header=False, index=False)"
   ]
  },
  {
   "cell_type": "code",
   "execution_count": 18,
   "metadata": {},
   "outputs": [],
   "source": [
    "# To save a bit of memory we can set text_X, train_X, val_X, train_y and val_y to None.\n",
    "\n",
    "test_X = train_X = val_X = train_y = val_y = None"
   ]
  },
  {
   "cell_type": "markdown",
   "metadata": {},
   "source": [
    "### Uploading Training / Validation files to S3\n",
    "\n",
    "Amazon's S3 service allows us to store files that can be accessed by both the built-in training models such as the XGBoost model we will be using as well as custom models such as the one we will see a little later.\n",
    "\n",
    "For this and most other tasks we will be doing using SageMaker, there are two methods we could use. The first is to use the low level functionality of SageMaker which requires knowing each of the objects involved in the SageMaker environment. The second is to use the high level functionality in which certain choices have been made on the user's behalf. The low level approach benefits from allowing the user a great deal of flexibility while the high level approach makes development much quicker. For our purposes we will opt to use the high level approach although using the low-level approach is certainly an option.\n",
    "\n",
    "Recall the method `upload_data()` which is a member of the object representing our current SageMaker session. What this method does is upload the data to the default bucket (which is created if it does not exist) into the path described by the key_prefix variable. To see this for yourself, once you have uploaded the data files, go to the S3 console and look to see where the files have been uploaded.\n",
    "\n",
    "For additional resources, see the __[SageMaker API documentation](http://sagemaker.readthedocs.io/en/latest/)__ and in addition the __[SageMaker Developer Guide.](https://docs.aws.amazon.com/sagemaker/latest/dg/)__"
   ]
  },
  {
   "cell_type": "code",
   "execution_count": 19,
   "metadata": {},
   "outputs": [],
   "source": [
    "import sagemaker\n",
    "\n",
    "session = sagemaker.Session() # Store the current SageMaker session\n",
    "\n",
    "# S3 prefix (which folder will we use)\n",
    "prefix = 'sentiment-web-app'\n",
    "\n",
    "test_location = session.upload_data(os.path.join(data_dir, 'test.csv'), key_prefix=prefix)\n",
    "val_location = session.upload_data(os.path.join(data_dir, 'validation.csv'), key_prefix=prefix)\n",
    "train_location = session.upload_data(os.path.join(data_dir, 'train.csv'), key_prefix=prefix)"
   ]
  },
  {
   "cell_type": "markdown",
   "metadata": {},
   "source": [
    "## Step 4: Creating the XGBoost model\n",
    "\n",
    "Now that the data has been uploaded it is time to create the XGBoost model. To begin with, we need to do some setup. At this point it is worth discussing what a model is in SageMaker. It is easiest to think of a model of comprising three different objects in the SageMaker ecosystem, which interact with one another.\n",
    "\n",
    "- Model Artifacts\n",
    "- Training Code (Container)\n",
    "- Inference Code (Container)\n",
    "\n",
    "The Model Artifacts are what you might think of as the actual model itself. For example, if you were building a neural network, the model artifacts would be the weights of the various layers. In our case, for an XGBoost model, the artifacts are the actual trees that are created during training.\n",
    "\n",
    "The other two objects, the training code and the inference code are then used to manipulate the training artifacts. More precisely, the training code uses the training data that is provided and creates the model artifacts, while the inference code uses the model artifacts to make predictions on new data.\n",
    "\n",
    "The way that SageMaker runs the training and inference code is by making use of Docker containers. For now, think of a container as being a way of packaging code up so that dependencies aren't an issue."
   ]
  },
  {
   "cell_type": "code",
   "execution_count": 20,
   "metadata": {},
   "outputs": [],
   "source": [
    "from sagemaker import get_execution_role\n",
    "\n",
    "# Our current execution role is required when creating the model as the training\n",
    "# and inference code will need to access the model artifacts.\n",
    "role = get_execution_role()"
   ]
  },
  {
   "cell_type": "code",
   "execution_count": 21,
   "metadata": {},
   "outputs": [
    {
     "name": "stderr",
     "output_type": "stream",
     "text": [
      "'get_image_uri' method will be deprecated in favor of 'ImageURIProvider' class in SageMaker Python SDK v2.\n",
      "There is a more up to date SageMaker XGBoost image. To use the newer image, please set 'repo_version'='1.0-1'. For example:\n",
      "\tget_image_uri(region, 'xgboost', '1.0-1').\n"
     ]
    }
   ],
   "source": [
    "# We need to retrieve the location of the container which is provided by Amazon for using XGBoost.\n",
    "# As a matter of convenience, the training and inference code both use the same container.\n",
    "from sagemaker.amazon.amazon_estimator import get_image_uri\n",
    "\n",
    "container = get_image_uri(session.boto_region_name, 'xgboost')"
   ]
  },
  {
   "cell_type": "code",
   "execution_count": 22,
   "metadata": {},
   "outputs": [
    {
     "name": "stderr",
     "output_type": "stream",
     "text": [
      "Parameter image_name will be renamed to image_uri in SageMaker Python SDK v2.\n"
     ]
    }
   ],
   "source": [
    "# First we create a SageMaker estimator object for our model.\n",
    "xgb = sagemaker.estimator.Estimator(container, # The location of the container we wish to use\n",
    "                                    role,                                    # What is our current IAM Role\n",
    "                                    train_instance_count=1,                  # How many compute instances\n",
    "                                    train_instance_type='ml.m4.xlarge',      # What kind of compute instances\n",
    "                                    output_path='s3://{}/{}/output'.format(session.default_bucket(), prefix),\n",
    "                                    sagemaker_session=session)\n",
    "\n",
    "# And then set the algorithm specific parameters.\n",
    "xgb.set_hyperparameters(max_depth=5,\n",
    "                        eta=0.2,\n",
    "                        gamma=4,\n",
    "                        min_child_weight=6,\n",
    "                        subsample=0.8,\n",
    "                        silent=0,\n",
    "                        objective='binary:logistic',\n",
    "                        early_stopping_rounds=10,\n",
    "                        num_round=500)"
   ]
  },
  {
   "cell_type": "markdown",
   "metadata": {},
   "source": [
    "### Fit the XGBoost model\n",
    "\n",
    "Now that our model has been set up we simply need to attach the training and validation datasets and then ask SageMaker to set up the computation."
   ]
  },
  {
   "cell_type": "code",
   "execution_count": 23,
   "metadata": {},
   "outputs": [
    {
     "name": "stderr",
     "output_type": "stream",
     "text": [
      "'s3_input' class will be renamed to 'TrainingInput' in SageMaker Python SDK v2.\n",
      "'s3_input' class will be renamed to 'TrainingInput' in SageMaker Python SDK v2.\n"
     ]
    }
   ],
   "source": [
    "s3_input_train = sagemaker.s3_input(s3_data=train_location, content_type='csv')\n",
    "s3_input_validation = sagemaker.s3_input(s3_data=val_location, content_type='csv')"
   ]
  },
  {
   "cell_type": "code",
   "execution_count": 24,
   "metadata": {},
   "outputs": [
    {
     "name": "stdout",
     "output_type": "stream",
     "text": [
      "2021-01-26 19:06:54 Starting - Starting the training job...\n",
      "2021-01-26 19:06:56 Starting - Launching requested ML instances......\n",
      "2021-01-26 19:08:04 Starting - Preparing the instances for training......\n",
      "2021-01-26 19:09:22 Downloading - Downloading input data\n",
      "2021-01-26 19:09:22 Training - Downloading the training image...\n",
      "2021-01-26 19:09:42 Training - Training image download completed. Training in progress.\u001b[34mArguments: train\u001b[0m\n",
      "\u001b[34m[2021-01-26:19:09:43:INFO] Running standalone xgboost training.\u001b[0m\n",
      "\u001b[34m[2021-01-26:19:09:43:INFO] File size need to be processed in the node: 238.5mb. Available memory size in the node: 8420.57mb\u001b[0m\n",
      "\u001b[34m[2021-01-26:19:09:43:INFO] Determined delimiter of CSV input is ','\u001b[0m\n",
      "\u001b[34m[19:09:43] S3DistributionType set as FullyReplicated\u001b[0m\n",
      "\u001b[34m[19:09:45] 15000x5000 matrix with 75000000 entries loaded from /opt/ml/input/data/train?format=csv&label_column=0&delimiter=,\u001b[0m\n",
      "\u001b[34m[2021-01-26:19:09:45:INFO] Determined delimiter of CSV input is ','\u001b[0m\n",
      "\u001b[34m[19:09:45] S3DistributionType set as FullyReplicated\u001b[0m\n",
      "\u001b[34m[19:09:46] 10000x5000 matrix with 50000000 entries loaded from /opt/ml/input/data/validation?format=csv&label_column=0&delimiter=,\u001b[0m\n",
      "\u001b[34m[19:09:50] src/tree/updater_prune.cc:74: tree pruning end, 1 roots, 44 extra nodes, 4 pruned nodes, max_depth=5\u001b[0m\n",
      "\u001b[34m[0]#011train-error:0.286933#011validation-error:0.3045\u001b[0m\n",
      "\u001b[34mMultiple eval metrics have been passed: 'validation-error' will be used for early stopping.\n",
      "\u001b[0m\n",
      "\u001b[34mWill train until validation-error hasn't improved in 10 rounds.\u001b[0m\n",
      "\u001b[34m[19:09:51] src/tree/updater_prune.cc:74: tree pruning end, 1 roots, 42 extra nodes, 6 pruned nodes, max_depth=5\u001b[0m\n",
      "\u001b[34m[1]#011train-error:0.284533#011validation-error:0.3059\u001b[0m\n",
      "\u001b[34m[19:09:52] src/tree/updater_prune.cc:74: tree pruning end, 1 roots, 36 extra nodes, 10 pruned nodes, max_depth=5\u001b[0m\n",
      "\u001b[34m[2]#011train-error:0.281933#011validation-error:0.3029\u001b[0m\n",
      "\u001b[34m[19:09:54] src/tree/updater_prune.cc:74: tree pruning end, 1 roots, 42 extra nodes, 4 pruned nodes, max_depth=5\u001b[0m\n",
      "\u001b[34m[3]#011train-error:0.2674#011validation-error:0.2861\u001b[0m\n",
      "\u001b[34m[19:09:55] src/tree/updater_prune.cc:74: tree pruning end, 1 roots, 28 extra nodes, 8 pruned nodes, max_depth=5\u001b[0m\n",
      "\u001b[34m[4]#011train-error:0.265133#011validation-error:0.2824\u001b[0m\n",
      "\u001b[34m[19:09:57] src/tree/updater_prune.cc:74: tree pruning end, 1 roots, 32 extra nodes, 6 pruned nodes, max_depth=5\u001b[0m\n",
      "\u001b[34m[5]#011train-error:0.257067#011validation-error:0.2755\u001b[0m\n",
      "\u001b[34m[19:09:58] src/tree/updater_prune.cc:74: tree pruning end, 1 roots, 44 extra nodes, 4 pruned nodes, max_depth=5\u001b[0m\n",
      "\u001b[34m[6]#011train-error:0.2484#011validation-error:0.2669\u001b[0m\n",
      "\u001b[34m[19:09:59] src/tree/updater_prune.cc:74: tree pruning end, 1 roots, 28 extra nodes, 6 pruned nodes, max_depth=5\u001b[0m\n",
      "\u001b[34m[7]#011train-error:0.2412#011validation-error:0.2622\u001b[0m\n",
      "\u001b[34m[19:10:01] src/tree/updater_prune.cc:74: tree pruning end, 1 roots, 46 extra nodes, 6 pruned nodes, max_depth=5\u001b[0m\n",
      "\u001b[34m[8]#011train-error:0.230933#011validation-error:0.2505\u001b[0m\n",
      "\u001b[34m[19:10:02] src/tree/updater_prune.cc:74: tree pruning end, 1 roots, 20 extra nodes, 10 pruned nodes, max_depth=5\u001b[0m\n",
      "\u001b[34m[9]#011train-error:0.2264#011validation-error:0.2515\u001b[0m\n",
      "\u001b[34m[19:10:03] src/tree/updater_prune.cc:74: tree pruning end, 1 roots, 30 extra nodes, 14 pruned nodes, max_depth=5\u001b[0m\n",
      "\u001b[34m[10]#011train-error:0.222867#011validation-error:0.2467\u001b[0m\n",
      "\u001b[34m[19:10:05] src/tree/updater_prune.cc:74: tree pruning end, 1 roots, 28 extra nodes, 8 pruned nodes, max_depth=5\u001b[0m\n",
      "\u001b[34m[11]#011train-error:0.217667#011validation-error:0.2412\u001b[0m\n",
      "\u001b[34m[19:10:06] src/tree/updater_prune.cc:74: tree pruning end, 1 roots, 36 extra nodes, 4 pruned nodes, max_depth=5\u001b[0m\n",
      "\u001b[34m[12]#011train-error:0.2158#011validation-error:0.2405\u001b[0m\n",
      "\u001b[34m[19:10:08] src/tree/updater_prune.cc:74: tree pruning end, 1 roots, 22 extra nodes, 6 pruned nodes, max_depth=5\u001b[0m\n",
      "\u001b[34m[13]#011train-error:0.211467#011validation-error:0.2333\u001b[0m\n",
      "\u001b[34m[19:10:09] src/tree/updater_prune.cc:74: tree pruning end, 1 roots, 32 extra nodes, 2 pruned nodes, max_depth=5\u001b[0m\n",
      "\u001b[34m[14]#011train-error:0.209267#011validation-error:0.2323\u001b[0m\n",
      "\u001b[34m[19:10:10] src/tree/updater_prune.cc:74: tree pruning end, 1 roots, 32 extra nodes, 4 pruned nodes, max_depth=5\u001b[0m\n",
      "\u001b[34m[15]#011train-error:0.2036#011validation-error:0.2306\u001b[0m\n",
      "\u001b[34m[19:10:12] src/tree/updater_prune.cc:74: tree pruning end, 1 roots, 26 extra nodes, 8 pruned nodes, max_depth=5\u001b[0m\n",
      "\u001b[34m[16]#011train-error:0.2004#011validation-error:0.227\u001b[0m\n",
      "\u001b[34m[19:10:13] src/tree/updater_prune.cc:74: tree pruning end, 1 roots, 36 extra nodes, 16 pruned nodes, max_depth=5\u001b[0m\n",
      "\u001b[34m[17]#011train-error:0.196#011validation-error:0.225\u001b[0m\n",
      "\u001b[34m[19:10:14] src/tree/updater_prune.cc:74: tree pruning end, 1 roots, 24 extra nodes, 10 pruned nodes, max_depth=5\u001b[0m\n",
      "\u001b[34m[18]#011train-error:0.194333#011validation-error:0.2233\u001b[0m\n",
      "\u001b[34m[19:10:15] src/tree/updater_prune.cc:74: tree pruning end, 1 roots, 40 extra nodes, 6 pruned nodes, max_depth=5\u001b[0m\n",
      "\u001b[34m[19]#011train-error:0.191#011validation-error:0.2196\u001b[0m\n",
      "\u001b[34m[19:10:17] src/tree/updater_prune.cc:74: tree pruning end, 1 roots, 32 extra nodes, 14 pruned nodes, max_depth=5\u001b[0m\n",
      "\u001b[34m[20]#011train-error:0.188267#011validation-error:0.2177\u001b[0m\n",
      "\u001b[34m[19:10:18] src/tree/updater_prune.cc:74: tree pruning end, 1 roots, 16 extra nodes, 12 pruned nodes, max_depth=5\u001b[0m\n",
      "\u001b[34m[21]#011train-error:0.1858#011validation-error:0.2147\u001b[0m\n",
      "\u001b[34m[19:10:19] src/tree/updater_prune.cc:74: tree pruning end, 1 roots, 32 extra nodes, 4 pruned nodes, max_depth=5\u001b[0m\n",
      "\u001b[34m[22]#011train-error:0.1822#011validation-error:0.2124\u001b[0m\n",
      "\u001b[34m[19:10:20] src/tree/updater_prune.cc:74: tree pruning end, 1 roots, 34 extra nodes, 6 pruned nodes, max_depth=5\u001b[0m\n",
      "\u001b[34m[23]#011train-error:0.180467#011validation-error:0.2132\u001b[0m\n",
      "\u001b[34m[19:10:22] src/tree/updater_prune.cc:74: tree pruning end, 1 roots, 26 extra nodes, 6 pruned nodes, max_depth=5\u001b[0m\n",
      "\u001b[34m[24]#011train-error:0.1808#011validation-error:0.2119\u001b[0m\n",
      "\u001b[34m[19:10:23] src/tree/updater_prune.cc:74: tree pruning end, 1 roots, 32 extra nodes, 4 pruned nodes, max_depth=5\u001b[0m\n",
      "\u001b[34m[25]#011train-error:0.177533#011validation-error:0.2095\u001b[0m\n",
      "\u001b[34m[19:10:24] src/tree/updater_prune.cc:74: tree pruning end, 1 roots, 34 extra nodes, 10 pruned nodes, max_depth=5\u001b[0m\n",
      "\u001b[34m[26]#011train-error:0.174867#011validation-error:0.2081\u001b[0m\n",
      "\u001b[34m[19:10:26] src/tree/updater_prune.cc:74: tree pruning end, 1 roots, 24 extra nodes, 8 pruned nodes, max_depth=5\u001b[0m\n",
      "\u001b[34m[27]#011train-error:0.173267#011validation-error:0.206\u001b[0m\n",
      "\u001b[34m[19:10:27] src/tree/updater_prune.cc:74: tree pruning end, 1 roots, 18 extra nodes, 8 pruned nodes, max_depth=5\u001b[0m\n",
      "\u001b[34m[28]#011train-error:0.171067#011validation-error:0.2043\u001b[0m\n",
      "\u001b[34m[19:10:28] src/tree/updater_prune.cc:74: tree pruning end, 1 roots, 48 extra nodes, 4 pruned nodes, max_depth=5\u001b[0m\n",
      "\u001b[34m[29]#011train-error:0.1666#011validation-error:0.2033\u001b[0m\n",
      "\u001b[34m[19:10:29] src/tree/updater_prune.cc:74: tree pruning end, 1 roots, 30 extra nodes, 4 pruned nodes, max_depth=5\u001b[0m\n",
      "\u001b[34m[30]#011train-error:0.164467#011validation-error:0.2015\u001b[0m\n",
      "\u001b[34m[19:10:31] src/tree/updater_prune.cc:74: tree pruning end, 1 roots, 32 extra nodes, 4 pruned nodes, max_depth=5\u001b[0m\n",
      "\u001b[34m[31]#011train-error:0.162267#011validation-error:0.1988\u001b[0m\n",
      "\u001b[34m[19:10:32] src/tree/updater_prune.cc:74: tree pruning end, 1 roots, 28 extra nodes, 4 pruned nodes, max_depth=5\u001b[0m\n",
      "\u001b[34m[32]#011train-error:0.161667#011validation-error:0.1986\u001b[0m\n",
      "\u001b[34m[19:10:33] src/tree/updater_prune.cc:74: tree pruning end, 1 roots, 26 extra nodes, 6 pruned nodes, max_depth=5\u001b[0m\n",
      "\u001b[34m[33]#011train-error:0.159667#011validation-error:0.196\u001b[0m\n",
      "\u001b[34m[19:10:34] src/tree/updater_prune.cc:74: tree pruning end, 1 roots, 14 extra nodes, 6 pruned nodes, max_depth=5\u001b[0m\n",
      "\u001b[34m[34]#011train-error:0.1588#011validation-error:0.1953\u001b[0m\n",
      "\u001b[34m[19:10:36] src/tree/updater_prune.cc:74: tree pruning end, 1 roots, 18 extra nodes, 10 pruned nodes, max_depth=5\u001b[0m\n",
      "\u001b[34m[35]#011train-error:0.157867#011validation-error:0.1937\u001b[0m\n",
      "\u001b[34m[19:10:37] src/tree/updater_prune.cc:74: tree pruning end, 1 roots, 22 extra nodes, 12 pruned nodes, max_depth=5\u001b[0m\n",
      "\u001b[34m[36]#011train-error:0.157067#011validation-error:0.1918\u001b[0m\n",
      "\u001b[34m[19:10:38] src/tree/updater_prune.cc:74: tree pruning end, 1 roots, 16 extra nodes, 8 pruned nodes, max_depth=5\u001b[0m\n",
      "\u001b[34m[37]#011train-error:0.156867#011validation-error:0.1908\u001b[0m\n",
      "\u001b[34m[19:10:40] src/tree/updater_prune.cc:74: tree pruning end, 1 roots, 38 extra nodes, 8 pruned nodes, max_depth=5\u001b[0m\n",
      "\u001b[34m[38]#011train-error:0.1544#011validation-error:0.1912\u001b[0m\n",
      "\u001b[34m[19:10:41] src/tree/updater_prune.cc:74: tree pruning end, 1 roots, 32 extra nodes, 10 pruned nodes, max_depth=5\u001b[0m\n",
      "\u001b[34m[39]#011train-error:0.1526#011validation-error:0.1896\u001b[0m\n",
      "\u001b[34m[19:10:42] src/tree/updater_prune.cc:74: tree pruning end, 1 roots, 20 extra nodes, 16 pruned nodes, max_depth=5\u001b[0m\n",
      "\u001b[34m[40]#011train-error:0.151333#011validation-error:0.1886\u001b[0m\n"
     ]
    },
    {
     "name": "stdout",
     "output_type": "stream",
     "text": [
      "\u001b[34m[19:10:43] src/tree/updater_prune.cc:74: tree pruning end, 1 roots, 24 extra nodes, 10 pruned nodes, max_depth=5\u001b[0m\n",
      "\u001b[34m[41]#011train-error:0.1496#011validation-error:0.1876\u001b[0m\n",
      "\u001b[34m[19:10:45] src/tree/updater_prune.cc:74: tree pruning end, 1 roots, 16 extra nodes, 8 pruned nodes, max_depth=5\u001b[0m\n",
      "\u001b[34m[42]#011train-error:0.148333#011validation-error:0.1866\u001b[0m\n",
      "\u001b[34m[19:10:46] src/tree/updater_prune.cc:74: tree pruning end, 1 roots, 26 extra nodes, 8 pruned nodes, max_depth=5\u001b[0m\n",
      "\u001b[34m[43]#011train-error:0.147867#011validation-error:0.1863\u001b[0m\n",
      "\u001b[34m[19:10:47] src/tree/updater_prune.cc:74: tree pruning end, 1 roots, 28 extra nodes, 10 pruned nodes, max_depth=5\u001b[0m\n",
      "\u001b[34m[44]#011train-error:0.146933#011validation-error:0.1849\u001b[0m\n",
      "\u001b[34m[19:10:48] src/tree/updater_prune.cc:74: tree pruning end, 1 roots, 32 extra nodes, 6 pruned nodes, max_depth=5\u001b[0m\n",
      "\u001b[34m[45]#011train-error:0.145133#011validation-error:0.1833\u001b[0m\n",
      "\u001b[34m[19:10:50] src/tree/updater_prune.cc:74: tree pruning end, 1 roots, 18 extra nodes, 8 pruned nodes, max_depth=5\u001b[0m\n",
      "\u001b[34m[46]#011train-error:0.143733#011validation-error:0.1824\u001b[0m\n",
      "\u001b[34m[19:10:51] src/tree/updater_prune.cc:74: tree pruning end, 1 roots, 24 extra nodes, 10 pruned nodes, max_depth=5\u001b[0m\n",
      "\u001b[34m[47]#011train-error:0.141933#011validation-error:0.1826\u001b[0m\n",
      "\u001b[34m[19:10:52] src/tree/updater_prune.cc:74: tree pruning end, 1 roots, 22 extra nodes, 14 pruned nodes, max_depth=5\u001b[0m\n",
      "\u001b[34m[48]#011train-error:0.140733#011validation-error:0.1824\u001b[0m\n",
      "\u001b[34m[19:10:54] src/tree/updater_prune.cc:74: tree pruning end, 1 roots, 30 extra nodes, 8 pruned nodes, max_depth=5\u001b[0m\n",
      "\u001b[34m[49]#011train-error:0.139067#011validation-error:0.1808\u001b[0m\n",
      "\u001b[34m[19:10:55] src/tree/updater_prune.cc:74: tree pruning end, 1 roots, 24 extra nodes, 4 pruned nodes, max_depth=5\u001b[0m\n",
      "\u001b[34m[50]#011train-error:0.1392#011validation-error:0.1807\u001b[0m\n",
      "\u001b[34m[19:10:56] src/tree/updater_prune.cc:74: tree pruning end, 1 roots, 26 extra nodes, 6 pruned nodes, max_depth=5\u001b[0m\n",
      "\u001b[34m[51]#011train-error:0.136867#011validation-error:0.1784\u001b[0m\n",
      "\u001b[34m[19:10:57] src/tree/updater_prune.cc:74: tree pruning end, 1 roots, 16 extra nodes, 6 pruned nodes, max_depth=5\u001b[0m\n",
      "\u001b[34m[52]#011train-error:0.135467#011validation-error:0.1779\u001b[0m\n",
      "\u001b[34m[19:10:59] src/tree/updater_prune.cc:74: tree pruning end, 1 roots, 16 extra nodes, 14 pruned nodes, max_depth=5\u001b[0m\n",
      "\u001b[34m[53]#011train-error:0.134467#011validation-error:0.1782\u001b[0m\n",
      "\u001b[34m[19:11:00] src/tree/updater_prune.cc:74: tree pruning end, 1 roots, 32 extra nodes, 8 pruned nodes, max_depth=5\u001b[0m\n",
      "\u001b[34m[54]#011train-error:0.132867#011validation-error:0.1771\u001b[0m\n",
      "\u001b[34m[19:11:01] src/tree/updater_prune.cc:74: tree pruning end, 1 roots, 22 extra nodes, 8 pruned nodes, max_depth=5\u001b[0m\n",
      "\u001b[34m[55]#011train-error:0.1324#011validation-error:0.1767\u001b[0m\n",
      "\u001b[34m[19:11:03] src/tree/updater_prune.cc:74: tree pruning end, 1 roots, 28 extra nodes, 10 pruned nodes, max_depth=5\u001b[0m\n",
      "\u001b[34m[56]#011train-error:0.132267#011validation-error:0.1755\u001b[0m\n",
      "\u001b[34m[19:11:04] src/tree/updater_prune.cc:74: tree pruning end, 1 roots, 18 extra nodes, 2 pruned nodes, max_depth=5\u001b[0m\n",
      "\u001b[34m[57]#011train-error:0.131933#011validation-error:0.1749\u001b[0m\n",
      "\u001b[34m[19:11:06] src/tree/updater_prune.cc:74: tree pruning end, 1 roots, 18 extra nodes, 6 pruned nodes, max_depth=5\u001b[0m\n",
      "\u001b[34m[58]#011train-error:0.131067#011validation-error:0.1741\u001b[0m\n",
      "\u001b[34m[19:11:07] src/tree/updater_prune.cc:74: tree pruning end, 1 roots, 12 extra nodes, 14 pruned nodes, max_depth=5\u001b[0m\n",
      "\u001b[34m[59]#011train-error:0.131067#011validation-error:0.1738\u001b[0m\n",
      "\u001b[34m[19:11:09] src/tree/updater_prune.cc:74: tree pruning end, 1 roots, 30 extra nodes, 4 pruned nodes, max_depth=5\u001b[0m\n",
      "\u001b[34m[60]#011train-error:0.130933#011validation-error:0.1733\u001b[0m\n",
      "\u001b[34m[19:11:10] src/tree/updater_prune.cc:74: tree pruning end, 1 roots, 20 extra nodes, 14 pruned nodes, max_depth=5\u001b[0m\n",
      "\u001b[34m[61]#011train-error:0.128933#011validation-error:0.1724\u001b[0m\n",
      "\u001b[34m[19:11:11] src/tree/updater_prune.cc:74: tree pruning end, 1 roots, 16 extra nodes, 8 pruned nodes, max_depth=5\u001b[0m\n",
      "\u001b[34m[62]#011train-error:0.1282#011validation-error:0.1727\u001b[0m\n",
      "\u001b[34m[19:11:12] src/tree/updater_prune.cc:74: tree pruning end, 1 roots, 26 extra nodes, 8 pruned nodes, max_depth=5\u001b[0m\n",
      "\u001b[34m[63]#011train-error:0.128#011validation-error:0.1719\u001b[0m\n",
      "\u001b[34m[19:11:14] src/tree/updater_prune.cc:74: tree pruning end, 1 roots, 32 extra nodes, 10 pruned nodes, max_depth=5\u001b[0m\n",
      "\u001b[34m[64]#011train-error:0.1262#011validation-error:0.1702\u001b[0m\n",
      "\u001b[34m[19:11:15] src/tree/updater_prune.cc:74: tree pruning end, 1 roots, 16 extra nodes, 4 pruned nodes, max_depth=5\u001b[0m\n",
      "\u001b[34m[65]#011train-error:0.126067#011validation-error:0.1696\u001b[0m\n",
      "\u001b[34m[19:11:16] src/tree/updater_prune.cc:74: tree pruning end, 1 roots, 18 extra nodes, 2 pruned nodes, max_depth=5\u001b[0m\n",
      "\u001b[34m[66]#011train-error:0.125333#011validation-error:0.1689\u001b[0m\n",
      "\u001b[34m[19:11:17] src/tree/updater_prune.cc:74: tree pruning end, 1 roots, 38 extra nodes, 6 pruned nodes, max_depth=5\u001b[0m\n",
      "\u001b[34m[67]#011train-error:0.123667#011validation-error:0.1697\u001b[0m\n",
      "\u001b[34m[19:11:19] src/tree/updater_prune.cc:74: tree pruning end, 1 roots, 16 extra nodes, 10 pruned nodes, max_depth=5\u001b[0m\n",
      "\u001b[34m[68]#011train-error:0.122933#011validation-error:0.169\u001b[0m\n",
      "\u001b[34m[19:11:20] src/tree/updater_prune.cc:74: tree pruning end, 1 roots, 24 extra nodes, 12 pruned nodes, max_depth=5\u001b[0m\n",
      "\u001b[34m[69]#011train-error:0.122067#011validation-error:0.1682\u001b[0m\n",
      "\u001b[34m[19:11:21] src/tree/updater_prune.cc:74: tree pruning end, 1 roots, 28 extra nodes, 8 pruned nodes, max_depth=5\u001b[0m\n",
      "\u001b[34m[70]#011train-error:0.1216#011validation-error:0.1683\u001b[0m\n",
      "\u001b[34m[19:11:23] src/tree/updater_prune.cc:74: tree pruning end, 1 roots, 18 extra nodes, 4 pruned nodes, max_depth=5\u001b[0m\n",
      "\u001b[34m[71]#011train-error:0.121467#011validation-error:0.1672\u001b[0m\n",
      "\u001b[34m[19:11:24] src/tree/updater_prune.cc:74: tree pruning end, 1 roots, 18 extra nodes, 12 pruned nodes, max_depth=5\u001b[0m\n",
      "\u001b[34m[72]#011train-error:0.1196#011validation-error:0.1668\u001b[0m\n",
      "\u001b[34m[19:11:25] src/tree/updater_prune.cc:74: tree pruning end, 1 roots, 24 extra nodes, 8 pruned nodes, max_depth=5\u001b[0m\n",
      "\u001b[34m[73]#011train-error:0.119733#011validation-error:0.1664\u001b[0m\n",
      "\u001b[34m[19:11:26] src/tree/updater_prune.cc:74: tree pruning end, 1 roots, 20 extra nodes, 6 pruned nodes, max_depth=5\u001b[0m\n",
      "\u001b[34m[74]#011train-error:0.119467#011validation-error:0.1668\u001b[0m\n",
      "\u001b[34m[19:11:28] src/tree/updater_prune.cc:74: tree pruning end, 1 roots, 22 extra nodes, 12 pruned nodes, max_depth=5\u001b[0m\n",
      "\u001b[34m[75]#011train-error:0.118933#011validation-error:0.1649\u001b[0m\n",
      "\u001b[34m[19:11:29] src/tree/updater_prune.cc:74: tree pruning end, 1 roots, 28 extra nodes, 6 pruned nodes, max_depth=5\u001b[0m\n",
      "\u001b[34m[76]#011train-error:0.117667#011validation-error:0.1643\u001b[0m\n",
      "\u001b[34m[19:11:30] src/tree/updater_prune.cc:74: tree pruning end, 1 roots, 12 extra nodes, 6 pruned nodes, max_depth=5\u001b[0m\n",
      "\u001b[34m[77]#011train-error:0.1168#011validation-error:0.1642\u001b[0m\n",
      "\u001b[34m[19:11:32] src/tree/updater_prune.cc:74: tree pruning end, 1 roots, 26 extra nodes, 4 pruned nodes, max_depth=5\u001b[0m\n",
      "\u001b[34m[78]#011train-error:0.117#011validation-error:0.1642\u001b[0m\n",
      "\u001b[34m[19:11:33] src/tree/updater_prune.cc:74: tree pruning end, 1 roots, 12 extra nodes, 2 pruned nodes, max_depth=5\u001b[0m\n",
      "\u001b[34m[79]#011train-error:0.115667#011validation-error:0.1637\u001b[0m\n",
      "\u001b[34m[19:11:34] src/tree/updater_prune.cc:74: tree pruning end, 1 roots, 14 extra nodes, 2 pruned nodes, max_depth=5\u001b[0m\n",
      "\u001b[34m[80]#011train-error:0.116#011validation-error:0.1638\u001b[0m\n",
      "\u001b[34m[19:11:35] src/tree/updater_prune.cc:74: tree pruning end, 1 roots, 24 extra nodes, 10 pruned nodes, max_depth=5\u001b[0m\n",
      "\u001b[34m[81]#011train-error:0.1142#011validation-error:0.163\u001b[0m\n",
      "\u001b[34m[19:11:37] src/tree/updater_prune.cc:74: tree pruning end, 1 roots, 20 extra nodes, 14 pruned nodes, max_depth=5\u001b[0m\n",
      "\u001b[34m[82]#011train-error:0.1144#011validation-error:0.1618\u001b[0m\n",
      "\u001b[34m[19:11:38] src/tree/updater_prune.cc:74: tree pruning end, 1 roots, 20 extra nodes, 6 pruned nodes, max_depth=5\u001b[0m\n",
      "\u001b[34m[83]#011train-error:0.1138#011validation-error:0.1608\u001b[0m\n",
      "\u001b[34m[19:11:39] src/tree/updater_prune.cc:74: tree pruning end, 1 roots, 16 extra nodes, 8 pruned nodes, max_depth=5\u001b[0m\n",
      "\u001b[34m[84]#011train-error:0.113533#011validation-error:0.1612\u001b[0m\n",
      "\u001b[34m[19:11:41] src/tree/updater_prune.cc:74: tree pruning end, 1 roots, 14 extra nodes, 12 pruned nodes, max_depth=5\u001b[0m\n",
      "\u001b[34m[85]#011train-error:0.113133#011validation-error:0.1604\u001b[0m\n",
      "\u001b[34m[19:11:42] src/tree/updater_prune.cc:74: tree pruning end, 1 roots, 22 extra nodes, 4 pruned nodes, max_depth=5\u001b[0m\n",
      "\u001b[34m[86]#011train-error:0.110667#011validation-error:0.1603\u001b[0m\n",
      "\u001b[34m[19:11:43] src/tree/updater_prune.cc:74: tree pruning end, 1 roots, 24 extra nodes, 8 pruned nodes, max_depth=5\u001b[0m\n",
      "\u001b[34m[87]#011train-error:0.109667#011validation-error:0.1598\u001b[0m\n",
      "\u001b[34m[19:11:44] src/tree/updater_prune.cc:74: tree pruning end, 1 roots, 12 extra nodes, 20 pruned nodes, max_depth=5\u001b[0m\n",
      "\u001b[34m[88]#011train-error:0.108733#011validation-error:0.1597\u001b[0m\n",
      "\u001b[34m[19:11:46] src/tree/updater_prune.cc:74: tree pruning end, 1 roots, 16 extra nodes, 8 pruned nodes, max_depth=5\u001b[0m\n",
      "\u001b[34m[89]#011train-error:0.1088#011validation-error:0.1591\u001b[0m\n",
      "\u001b[34m[19:11:47] src/tree/updater_prune.cc:74: tree pruning end, 1 roots, 20 extra nodes, 4 pruned nodes, max_depth=5\u001b[0m\n",
      "\u001b[34m[90]#011train-error:0.1086#011validation-error:0.159\u001b[0m\n",
      "\u001b[34m[19:11:48] src/tree/updater_prune.cc:74: tree pruning end, 1 roots, 20 extra nodes, 10 pruned nodes, max_depth=5\u001b[0m\n",
      "\u001b[34m[91]#011train-error:0.107533#011validation-error:0.1584\u001b[0m\n",
      "\u001b[34m[19:11:49] src/tree/updater_prune.cc:74: tree pruning end, 1 roots, 30 extra nodes, 10 pruned nodes, max_depth=5\u001b[0m\n",
      "\u001b[34m[92]#011train-error:0.106667#011validation-error:0.1577\u001b[0m\n"
     ]
    },
    {
     "name": "stdout",
     "output_type": "stream",
     "text": [
      "\u001b[34m[19:11:51] src/tree/updater_prune.cc:74: tree pruning end, 1 roots, 14 extra nodes, 4 pruned nodes, max_depth=5\u001b[0m\n",
      "\u001b[34m[93]#011train-error:0.106533#011validation-error:0.157\u001b[0m\n",
      "\u001b[34m[19:11:52] src/tree/updater_prune.cc:74: tree pruning end, 1 roots, 18 extra nodes, 6 pruned nodes, max_depth=5\u001b[0m\n",
      "\u001b[34m[94]#011train-error:0.105867#011validation-error:0.1571\u001b[0m\n",
      "\u001b[34m[19:11:53] src/tree/updater_prune.cc:74: tree pruning end, 1 roots, 24 extra nodes, 12 pruned nodes, max_depth=5\u001b[0m\n",
      "\u001b[34m[95]#011train-error:0.104933#011validation-error:0.1561\u001b[0m\n",
      "\u001b[34m[19:11:55] src/tree/updater_prune.cc:74: tree pruning end, 1 roots, 20 extra nodes, 6 pruned nodes, max_depth=5\u001b[0m\n",
      "\u001b[34m[96]#011train-error:0.1052#011validation-error:0.1559\u001b[0m\n",
      "\u001b[34m[19:11:56] src/tree/updater_prune.cc:74: tree pruning end, 1 roots, 14 extra nodes, 12 pruned nodes, max_depth=5\u001b[0m\n",
      "\u001b[34m[97]#011train-error:0.104733#011validation-error:0.1562\u001b[0m\n",
      "\u001b[34m[19:11:57] src/tree/updater_prune.cc:74: tree pruning end, 1 roots, 18 extra nodes, 6 pruned nodes, max_depth=5\u001b[0m\n",
      "\u001b[34m[98]#011train-error:0.104267#011validation-error:0.1564\u001b[0m\n",
      "\u001b[34m[19:11:58] src/tree/updater_prune.cc:74: tree pruning end, 1 roots, 16 extra nodes, 6 pruned nodes, max_depth=5\u001b[0m\n",
      "\u001b[34m[99]#011train-error:0.104467#011validation-error:0.1566\u001b[0m\n",
      "\u001b[34m[19:12:00] src/tree/updater_prune.cc:74: tree pruning end, 1 roots, 18 extra nodes, 16 pruned nodes, max_depth=5\u001b[0m\n",
      "\u001b[34m[100]#011train-error:0.1046#011validation-error:0.157\u001b[0m\n",
      "\u001b[34m[19:12:01] src/tree/updater_prune.cc:74: tree pruning end, 1 roots, 12 extra nodes, 6 pruned nodes, max_depth=5\u001b[0m\n",
      "\u001b[34m[101]#011train-error:0.1038#011validation-error:0.1561\u001b[0m\n",
      "\u001b[34m[19:12:02] src/tree/updater_prune.cc:74: tree pruning end, 1 roots, 18 extra nodes, 4 pruned nodes, max_depth=5\u001b[0m\n",
      "\u001b[34m[102]#011train-error:0.103467#011validation-error:0.1552\u001b[0m\n",
      "\u001b[34m[19:12:04] src/tree/updater_prune.cc:74: tree pruning end, 1 roots, 16 extra nodes, 12 pruned nodes, max_depth=5\u001b[0m\n",
      "\u001b[34m[103]#011train-error:0.103333#011validation-error:0.1544\u001b[0m\n",
      "\u001b[34m[19:12:06] src/tree/updater_prune.cc:74: tree pruning end, 1 roots, 36 extra nodes, 8 pruned nodes, max_depth=5\u001b[0m\n",
      "\u001b[34m[104]#011train-error:0.102333#011validation-error:0.1532\u001b[0m\n",
      "\u001b[34m[19:12:07] src/tree/updater_prune.cc:74: tree pruning end, 1 roots, 22 extra nodes, 10 pruned nodes, max_depth=5\u001b[0m\n",
      "\u001b[34m[105]#011train-error:0.101533#011validation-error:0.1538\u001b[0m\n",
      "\u001b[34m[19:12:08] src/tree/updater_prune.cc:74: tree pruning end, 1 roots, 22 extra nodes, 4 pruned nodes, max_depth=5\u001b[0m\n",
      "\u001b[34m[106]#011train-error:0.101067#011validation-error:0.1525\u001b[0m\n",
      "\u001b[34m[19:12:10] src/tree/updater_prune.cc:74: tree pruning end, 1 roots, 10 extra nodes, 8 pruned nodes, max_depth=5\u001b[0m\n",
      "\u001b[34m[107]#011train-error:0.100933#011validation-error:0.1523\u001b[0m\n",
      "\u001b[34m[19:12:11] src/tree/updater_prune.cc:74: tree pruning end, 1 roots, 14 extra nodes, 2 pruned nodes, max_depth=5\u001b[0m\n",
      "\u001b[34m[108]#011train-error:0.100067#011validation-error:0.1514\u001b[0m\n",
      "\u001b[34m[19:12:12] src/tree/updater_prune.cc:74: tree pruning end, 1 roots, 22 extra nodes, 14 pruned nodes, max_depth=5\u001b[0m\n",
      "\u001b[34m[109]#011train-error:0.0996#011validation-error:0.1521\u001b[0m\n",
      "\u001b[34m[19:12:14] src/tree/updater_prune.cc:74: tree pruning end, 1 roots, 12 extra nodes, 4 pruned nodes, max_depth=5\u001b[0m\n",
      "\u001b[34m[110]#011train-error:0.099333#011validation-error:0.1513\u001b[0m\n",
      "\u001b[34m[19:12:15] src/tree/updater_prune.cc:74: tree pruning end, 1 roots, 24 extra nodes, 4 pruned nodes, max_depth=5\u001b[0m\n",
      "\u001b[34m[111]#011train-error:0.098533#011validation-error:0.1512\u001b[0m\n",
      "\u001b[34m[19:12:16] src/tree/updater_prune.cc:74: tree pruning end, 1 roots, 16 extra nodes, 8 pruned nodes, max_depth=5\u001b[0m\n",
      "\u001b[34m[112]#011train-error:0.098267#011validation-error:0.1509\u001b[0m\n",
      "\u001b[34m[19:12:17] src/tree/updater_prune.cc:74: tree pruning end, 1 roots, 22 extra nodes, 12 pruned nodes, max_depth=5\u001b[0m\n",
      "\u001b[34m[113]#011train-error:0.097333#011validation-error:0.1518\u001b[0m\n",
      "\u001b[34m[19:12:19] src/tree/updater_prune.cc:74: tree pruning end, 1 roots, 10 extra nodes, 10 pruned nodes, max_depth=5\u001b[0m\n",
      "\u001b[34m[114]#011train-error:0.096667#011validation-error:0.1513\u001b[0m\n",
      "\u001b[34m[19:12:20] src/tree/updater_prune.cc:74: tree pruning end, 1 roots, 18 extra nodes, 12 pruned nodes, max_depth=5\u001b[0m\n",
      "\u001b[34m[115]#011train-error:0.0964#011validation-error:0.1515\u001b[0m\n",
      "\u001b[34m[19:12:21] src/tree/updater_prune.cc:74: tree pruning end, 1 roots, 16 extra nodes, 8 pruned nodes, max_depth=5\u001b[0m\n",
      "\u001b[34m[116]#011train-error:0.095667#011validation-error:0.1514\u001b[0m\n",
      "\u001b[34m[19:12:22] src/tree/updater_prune.cc:74: tree pruning end, 1 roots, 14 extra nodes, 6 pruned nodes, max_depth=5\u001b[0m\n",
      "\u001b[34m[117]#011train-error:0.095333#011validation-error:0.1506\u001b[0m\n",
      "\u001b[34m[19:12:24] src/tree/updater_prune.cc:74: tree pruning end, 1 roots, 10 extra nodes, 10 pruned nodes, max_depth=5\u001b[0m\n",
      "\u001b[34m[118]#011train-error:0.095467#011validation-error:0.1501\u001b[0m\n",
      "\u001b[34m[19:12:25] src/tree/updater_prune.cc:74: tree pruning end, 1 roots, 16 extra nodes, 2 pruned nodes, max_depth=5\u001b[0m\n",
      "\u001b[34m[119]#011train-error:0.095333#011validation-error:0.1495\u001b[0m\n",
      "\u001b[34m[19:12:26] src/tree/updater_prune.cc:74: tree pruning end, 1 roots, 28 extra nodes, 10 pruned nodes, max_depth=5\u001b[0m\n",
      "\u001b[34m[120]#011train-error:0.0952#011validation-error:0.1504\u001b[0m\n",
      "\u001b[34m[19:12:28] src/tree/updater_prune.cc:74: tree pruning end, 1 roots, 16 extra nodes, 14 pruned nodes, max_depth=5\u001b[0m\n",
      "\u001b[34m[121]#011train-error:0.0946#011validation-error:0.1493\u001b[0m\n",
      "\u001b[34m[19:12:29] src/tree/updater_prune.cc:74: tree pruning end, 1 roots, 14 extra nodes, 0 pruned nodes, max_depth=5\u001b[0m\n",
      "\u001b[34m[122]#011train-error:0.094067#011validation-error:0.1493\u001b[0m\n",
      "\u001b[34m[19:12:30] src/tree/updater_prune.cc:74: tree pruning end, 1 roots, 20 extra nodes, 10 pruned nodes, max_depth=5\u001b[0m\n",
      "\u001b[34m[123]#011train-error:0.0938#011validation-error:0.1498\u001b[0m\n",
      "\u001b[34m[19:12:31] src/tree/updater_prune.cc:74: tree pruning end, 1 roots, 10 extra nodes, 4 pruned nodes, max_depth=5\u001b[0m\n",
      "\u001b[34m[124]#011train-error:0.0936#011validation-error:0.1499\u001b[0m\n",
      "\u001b[34m[19:12:33] src/tree/updater_prune.cc:74: tree pruning end, 1 roots, 20 extra nodes, 16 pruned nodes, max_depth=5\u001b[0m\n",
      "\u001b[34m[125]#011train-error:0.092867#011validation-error:0.1497\u001b[0m\n",
      "\u001b[34m[19:12:34] src/tree/updater_prune.cc:74: tree pruning end, 1 roots, 16 extra nodes, 8 pruned nodes, max_depth=5\u001b[0m\n",
      "\u001b[34m[126]#011train-error:0.092667#011validation-error:0.15\u001b[0m\n",
      "\u001b[34m[19:12:35] src/tree/updater_prune.cc:74: tree pruning end, 1 roots, 20 extra nodes, 6 pruned nodes, max_depth=5\u001b[0m\n",
      "\u001b[34m[127]#011train-error:0.092867#011validation-error:0.1496\u001b[0m\n",
      "\u001b[34m[19:12:36] src/tree/updater_prune.cc:74: tree pruning end, 1 roots, 20 extra nodes, 4 pruned nodes, max_depth=5\u001b[0m\n",
      "\u001b[34m[128]#011train-error:0.0922#011validation-error:0.1492\u001b[0m\n",
      "\u001b[34m[19:12:38] src/tree/updater_prune.cc:74: tree pruning end, 1 roots, 24 extra nodes, 10 pruned nodes, max_depth=5\u001b[0m\n",
      "\u001b[34m[129]#011train-error:0.092333#011validation-error:0.1483\u001b[0m\n",
      "\u001b[34m[19:12:39] src/tree/updater_prune.cc:74: tree pruning end, 1 roots, 16 extra nodes, 8 pruned nodes, max_depth=5\u001b[0m\n",
      "\u001b[34m[130]#011train-error:0.092333#011validation-error:0.1484\u001b[0m\n",
      "\u001b[34m[19:12:40] src/tree/updater_prune.cc:74: tree pruning end, 1 roots, 12 extra nodes, 4 pruned nodes, max_depth=5\u001b[0m\n",
      "\u001b[34m[131]#011train-error:0.0922#011validation-error:0.148\u001b[0m\n",
      "\u001b[34m[19:12:41] src/tree/updater_prune.cc:74: tree pruning end, 1 roots, 18 extra nodes, 12 pruned nodes, max_depth=5\u001b[0m\n",
      "\u001b[34m[132]#011train-error:0.091133#011validation-error:0.1477\u001b[0m\n",
      "\u001b[34m[19:12:43] src/tree/updater_prune.cc:74: tree pruning end, 1 roots, 22 extra nodes, 8 pruned nodes, max_depth=5\u001b[0m\n",
      "\u001b[34m[133]#011train-error:0.090867#011validation-error:0.1479\u001b[0m\n",
      "\u001b[34m[19:12:44] src/tree/updater_prune.cc:74: tree pruning end, 1 roots, 16 extra nodes, 4 pruned nodes, max_depth=5\u001b[0m\n",
      "\u001b[34m[134]#011train-error:0.0902#011validation-error:0.1479\u001b[0m\n",
      "\u001b[34m[19:12:45] src/tree/updater_prune.cc:74: tree pruning end, 1 roots, 12 extra nodes, 6 pruned nodes, max_depth=5\u001b[0m\n",
      "\u001b[34m[135]#011train-error:0.089733#011validation-error:0.1478\u001b[0m\n",
      "\u001b[34m[19:12:47] src/tree/updater_prune.cc:74: tree pruning end, 1 roots, 20 extra nodes, 18 pruned nodes, max_depth=5\u001b[0m\n",
      "\u001b[34m[136]#011train-error:0.089#011validation-error:0.1484\u001b[0m\n",
      "\u001b[34m[19:12:48] src/tree/updater_prune.cc:74: tree pruning end, 1 roots, 10 extra nodes, 8 pruned nodes, max_depth=5\u001b[0m\n",
      "\u001b[34m[137]#011train-error:0.089267#011validation-error:0.1481\u001b[0m\n",
      "\u001b[34m[19:12:49] src/tree/updater_prune.cc:74: tree pruning end, 1 roots, 12 extra nodes, 8 pruned nodes, max_depth=5\u001b[0m\n",
      "\u001b[34m[138]#011train-error:0.089133#011validation-error:0.1475\u001b[0m\n",
      "\u001b[34m[19:12:50] src/tree/updater_prune.cc:74: tree pruning end, 1 roots, 16 extra nodes, 8 pruned nodes, max_depth=5\u001b[0m\n",
      "\u001b[34m[139]#011train-error:0.0882#011validation-error:0.1477\u001b[0m\n",
      "\u001b[34m[19:12:52] src/tree/updater_prune.cc:74: tree pruning end, 1 roots, 16 extra nodes, 8 pruned nodes, max_depth=5\u001b[0m\n",
      "\u001b[34m[140]#011train-error:0.087667#011validation-error:0.1478\u001b[0m\n"
     ]
    },
    {
     "name": "stdout",
     "output_type": "stream",
     "text": [
      "\u001b[34m[19:12:53] src/tree/updater_prune.cc:74: tree pruning end, 1 roots, 20 extra nodes, 6 pruned nodes, max_depth=5\u001b[0m\n",
      "\u001b[34m[141]#011train-error:0.087467#011validation-error:0.1477\u001b[0m\n",
      "\u001b[34m[19:12:54] src/tree/updater_prune.cc:74: tree pruning end, 1 roots, 18 extra nodes, 14 pruned nodes, max_depth=5\u001b[0m\n",
      "\u001b[34m[142]#011train-error:0.087733#011validation-error:0.1466\u001b[0m\n",
      "\u001b[34m[19:12:55] src/tree/updater_prune.cc:74: tree pruning end, 1 roots, 18 extra nodes, 14 pruned nodes, max_depth=5\u001b[0m\n",
      "\u001b[34m[143]#011train-error:0.087467#011validation-error:0.146\u001b[0m\n",
      "\u001b[34m[19:12:57] src/tree/updater_prune.cc:74: tree pruning end, 1 roots, 10 extra nodes, 6 pruned nodes, max_depth=5\u001b[0m\n",
      "\u001b[34m[144]#011train-error:0.087533#011validation-error:0.1456\u001b[0m\n",
      "\u001b[34m[19:12:58] src/tree/updater_prune.cc:74: tree pruning end, 1 roots, 16 extra nodes, 12 pruned nodes, max_depth=5\u001b[0m\n",
      "\u001b[34m[145]#011train-error:0.0872#011validation-error:0.1463\u001b[0m\n",
      "\u001b[34m[19:12:59] src/tree/updater_prune.cc:74: tree pruning end, 1 roots, 34 extra nodes, 12 pruned nodes, max_depth=5\u001b[0m\n",
      "\u001b[34m[146]#011train-error:0.0866#011validation-error:0.1461\u001b[0m\n",
      "\u001b[34m[19:13:00] src/tree/updater_prune.cc:74: tree pruning end, 1 roots, 14 extra nodes, 8 pruned nodes, max_depth=5\u001b[0m\n",
      "\u001b[34m[147]#011train-error:0.0864#011validation-error:0.1468\u001b[0m\n",
      "\u001b[34m[19:13:02] src/tree/updater_prune.cc:74: tree pruning end, 1 roots, 18 extra nodes, 12 pruned nodes, max_depth=5\u001b[0m\n",
      "\u001b[34m[148]#011train-error:0.086267#011validation-error:0.1465\u001b[0m\n",
      "\u001b[34m[19:13:03] src/tree/updater_prune.cc:74: tree pruning end, 1 roots, 10 extra nodes, 0 pruned nodes, max_depth=5\u001b[0m\n",
      "\u001b[34m[149]#011train-error:0.085733#011validation-error:0.1461\u001b[0m\n",
      "\u001b[34m[19:13:05] src/tree/updater_prune.cc:74: tree pruning end, 1 roots, 12 extra nodes, 8 pruned nodes, max_depth=5\u001b[0m\n",
      "\u001b[34m[150]#011train-error:0.0852#011validation-error:0.146\u001b[0m\n",
      "\u001b[34m[19:13:06] src/tree/updater_prune.cc:74: tree pruning end, 1 roots, 16 extra nodes, 0 pruned nodes, max_depth=5\u001b[0m\n",
      "\u001b[34m[151]#011train-error:0.0846#011validation-error:0.1458\u001b[0m\n",
      "\u001b[34m[19:13:08] src/tree/updater_prune.cc:74: tree pruning end, 1 roots, 24 extra nodes, 10 pruned nodes, max_depth=5\u001b[0m\n",
      "\u001b[34m[152]#011train-error:0.084533#011validation-error:0.1465\u001b[0m\n",
      "\u001b[34m[19:13:09] src/tree/updater_prune.cc:74: tree pruning end, 1 roots, 12 extra nodes, 0 pruned nodes, max_depth=5\u001b[0m\n",
      "\u001b[34m[153]#011train-error:0.084867#011validation-error:0.1463\u001b[0m\n",
      "\u001b[34m[19:13:10] src/tree/updater_prune.cc:74: tree pruning end, 1 roots, 20 extra nodes, 10 pruned nodes, max_depth=5\u001b[0m\n",
      "\u001b[34m[154]#011train-error:0.084533#011validation-error:0.1463\u001b[0m\n",
      "\u001b[34mStopping. Best iteration:\u001b[0m\n",
      "\u001b[34m[144]#011train-error:0.087533#011validation-error:0.1456\n",
      "\u001b[0m\n",
      "\n",
      "2021-01-26 19:13:18 Uploading - Uploading generated training model\n",
      "2021-01-26 19:13:18 Completed - Training job completed\n",
      "Training seconds: 259\n",
      "Billable seconds: 259\n"
     ]
    }
   ],
   "source": [
    "xgb.fit({'train': s3_input_train, 'validation': s3_input_validation})"
   ]
  },
  {
   "cell_type": "markdown",
   "metadata": {},
   "source": [
    "## Step 5: Testing the model\n",
    "\n",
    "Now that we've fit our XGBoost model, it's time to see how well it performs. To do this we will use SageMakers Batch Transform functionality. Batch Transform is a convenient way to perform inference on a large dataset in a way that is not realtime. That is, we don't necessarily need to use our model's results immediately and instead we can perform inference on a large number of samples. An example of this in industry might be performing an end of month report. This method of inference can also be useful to us as it means that we can perform inference on our entire test set. \n",
    "\n",
    "To perform a Batch Transformation we need to first create a transformer objects from our trained estimator object."
   ]
  },
  {
   "cell_type": "code",
   "execution_count": 25,
   "metadata": {},
   "outputs": [
    {
     "name": "stderr",
     "output_type": "stream",
     "text": [
      "Parameter image will be renamed to image_uri in SageMaker Python SDK v2.\n"
     ]
    }
   ],
   "source": [
    "xgb_transformer = xgb.transformer(instance_count = 1, instance_type = 'ml.m4.xlarge')"
   ]
  },
  {
   "cell_type": "markdown",
   "metadata": {},
   "source": [
    "Next we actually perform the transform job. When doing so we need to make sure to specify the type of data we are sending so that it is serialized correctly in the background. In our case we are providing our model with csv data so we specify `text/csv`. Also, if the test data that we have provided is too large to process all at once then we need to specify how the data file should be split up. Since each line is a single entry in our data set we tell SageMaker that it can split the input on each line."
   ]
  },
  {
   "cell_type": "code",
   "execution_count": 26,
   "metadata": {},
   "outputs": [],
   "source": [
    "xgb_transformer.transform(test_location, content_type='text/csv', split_type='Line')"
   ]
  },
  {
   "cell_type": "markdown",
   "metadata": {},
   "source": [
    "Currently the transform job is running but it is doing so in the background. Since we wish to wait until the transform job is done and we would like a bit of feedback we can run the `wait()` method."
   ]
  },
  {
   "cell_type": "code",
   "execution_count": 27,
   "metadata": {},
   "outputs": [
    {
     "name": "stdout",
     "output_type": "stream",
     "text": [
      "............................\u001b[32m2021-01-26T19:18:10.370:[sagemaker logs]: MaxConcurrentTransforms=4, MaxPayloadInMB=6, BatchStrategy=MULTI_RECORD\u001b[0m\n",
      "\u001b[34mArguments: serve\u001b[0m\n",
      "\u001b[34m[2021-01-26 19:18:10 +0000] [1] [INFO] Starting gunicorn 19.7.1\u001b[0m\n",
      "\u001b[34m[2021-01-26 19:18:10 +0000] [1] [INFO] Listening at: http://0.0.0.0:8080 (1)\u001b[0m\n",
      "\u001b[34m[2021-01-26 19:18:10 +0000] [1] [INFO] Using worker: gevent\u001b[0m\n",
      "\u001b[35mArguments: serve\u001b[0m\n",
      "\u001b[35m[2021-01-26 19:18:10 +0000] [1] [INFO] Starting gunicorn 19.7.1\u001b[0m\n",
      "\u001b[35m[2021-01-26 19:18:10 +0000] [1] [INFO] Listening at: http://0.0.0.0:8080 (1)\u001b[0m\n",
      "\u001b[35m[2021-01-26 19:18:10 +0000] [1] [INFO] Using worker: gevent\u001b[0m\n",
      "\u001b[34m[2021-01-26 19:18:10 +0000] [37] [INFO] Booting worker with pid: 37\u001b[0m\n",
      "\u001b[34m[2021-01-26 19:18:10 +0000] [38] [INFO] Booting worker with pid: 38\u001b[0m\n",
      "\u001b[34m[2021-01-26:19:18:10:INFO] Model loaded successfully for worker : 37\u001b[0m\n",
      "\u001b[34m[2021-01-26 19:18:10 +0000] [39] [INFO] Booting worker with pid: 39\u001b[0m\n",
      "\u001b[34m[2021-01-26:19:18:10:INFO] Model loaded successfully for worker : 38\u001b[0m\n",
      "\u001b[34m[2021-01-26 19:18:10 +0000] [40] [INFO] Booting worker with pid: 40\u001b[0m\n",
      "\u001b[34m[2021-01-26:19:18:10:INFO] Model loaded successfully for worker : 39\u001b[0m\n",
      "\u001b[34m[2021-01-26:19:18:10:INFO] Model loaded successfully for worker : 40\u001b[0m\n",
      "\u001b[34m[2021-01-26:19:18:10:INFO] Sniff delimiter as ','\u001b[0m\n",
      "\u001b[34m[2021-01-26:19:18:10:INFO] Determined delimiter of CSV input is ','\u001b[0m\n",
      "\u001b[34m[2021-01-26:19:18:10:INFO] Sniff delimiter as ','\u001b[0m\n",
      "\u001b[34m[2021-01-26:19:18:10:INFO] Determined delimiter of CSV input is ','\u001b[0m\n",
      "\u001b[35m[2021-01-26 19:18:10 +0000] [37] [INFO] Booting worker with pid: 37\u001b[0m\n",
      "\u001b[35m[2021-01-26 19:18:10 +0000] [38] [INFO] Booting worker with pid: 38\u001b[0m\n",
      "\u001b[35m[2021-01-26:19:18:10:INFO] Model loaded successfully for worker : 37\u001b[0m\n",
      "\u001b[35m[2021-01-26 19:18:10 +0000] [39] [INFO] Booting worker with pid: 39\u001b[0m\n",
      "\u001b[35m[2021-01-26:19:18:10:INFO] Model loaded successfully for worker : 38\u001b[0m\n",
      "\u001b[35m[2021-01-26 19:18:10 +0000] [40] [INFO] Booting worker with pid: 40\u001b[0m\n",
      "\u001b[35m[2021-01-26:19:18:10:INFO] Model loaded successfully for worker : 39\u001b[0m\n",
      "\u001b[35m[2021-01-26:19:18:10:INFO] Model loaded successfully for worker : 40\u001b[0m\n",
      "\u001b[35m[2021-01-26:19:18:10:INFO] Sniff delimiter as ','\u001b[0m\n",
      "\u001b[35m[2021-01-26:19:18:10:INFO] Determined delimiter of CSV input is ','\u001b[0m\n",
      "\u001b[35m[2021-01-26:19:18:10:INFO] Sniff delimiter as ','\u001b[0m\n",
      "\u001b[35m[2021-01-26:19:18:10:INFO] Determined delimiter of CSV input is ','\u001b[0m\n",
      "\u001b[34m[2021-01-26:19:18:10:INFO] Sniff delimiter as ','\u001b[0m\n",
      "\u001b[34m[2021-01-26:19:18:10:INFO] Determined delimiter of CSV input is ','\u001b[0m\n",
      "\u001b[34m[2021-01-26:19:18:11:INFO] Sniff delimiter as ','\u001b[0m\n",
      "\u001b[34m[2021-01-26:19:18:11:INFO] Determined delimiter of CSV input is ','\u001b[0m\n",
      "\u001b[35m[2021-01-26:19:18:10:INFO] Sniff delimiter as ','\u001b[0m\n",
      "\u001b[35m[2021-01-26:19:18:10:INFO] Determined delimiter of CSV input is ','\u001b[0m\n",
      "\u001b[35m[2021-01-26:19:18:11:INFO] Sniff delimiter as ','\u001b[0m\n",
      "\u001b[35m[2021-01-26:19:18:11:INFO] Determined delimiter of CSV input is ','\u001b[0m\n",
      "\u001b[34m[2021-01-26:19:18:13:INFO] Sniff delimiter as ','\u001b[0m\n",
      "\u001b[34m[2021-01-26:19:18:13:INFO] Determined delimiter of CSV input is ','\u001b[0m\n",
      "\u001b[35m[2021-01-26:19:18:13:INFO] Sniff delimiter as ','\u001b[0m\n",
      "\u001b[35m[2021-01-26:19:18:13:INFO] Determined delimiter of CSV input is ','\u001b[0m\n",
      "\u001b[34m[2021-01-26:19:18:13:INFO] Sniff delimiter as ','\u001b[0m\n",
      "\u001b[34m[2021-01-26:19:18:13:INFO] Determined delimiter of CSV input is ','\u001b[0m\n",
      "\u001b[34m[2021-01-26:19:18:13:INFO] Sniff delimiter as ','\u001b[0m\n",
      "\u001b[34m[2021-01-26:19:18:13:INFO] Determined delimiter of CSV input is ','\u001b[0m\n",
      "\u001b[34m[2021-01-26:19:18:13:INFO] Sniff delimiter as ','\u001b[0m\n",
      "\u001b[34m[2021-01-26:19:18:13:INFO] Determined delimiter of CSV input is ','\u001b[0m\n",
      "\u001b[35m[2021-01-26:19:18:13:INFO] Sniff delimiter as ','\u001b[0m\n",
      "\u001b[35m[2021-01-26:19:18:13:INFO] Determined delimiter of CSV input is ','\u001b[0m\n",
      "\u001b[35m[2021-01-26:19:18:13:INFO] Sniff delimiter as ','\u001b[0m\n",
      "\u001b[35m[2021-01-26:19:18:13:INFO] Determined delimiter of CSV input is ','\u001b[0m\n",
      "\u001b[35m[2021-01-26:19:18:13:INFO] Sniff delimiter as ','\u001b[0m\n",
      "\u001b[35m[2021-01-26:19:18:13:INFO] Determined delimiter of CSV input is ','\u001b[0m\n",
      "\u001b[34m[2021-01-26:19:18:16:INFO] Sniff delimiter as ','\u001b[0m\n",
      "\u001b[34m[2021-01-26:19:18:16:INFO] Determined delimiter of CSV input is ','\u001b[0m\n",
      "\u001b[35m[2021-01-26:19:18:16:INFO] Sniff delimiter as ','\u001b[0m\n",
      "\u001b[35m[2021-01-26:19:18:16:INFO] Determined delimiter of CSV input is ','\u001b[0m\n",
      "\u001b[34m[2021-01-26:19:18:18:INFO] Sniff delimiter as ','\u001b[0m\n",
      "\u001b[35m[2021-01-26:19:18:18:INFO] Sniff delimiter as ','\u001b[0m\n",
      "\u001b[34m[2021-01-26:19:18:18:INFO] Determined delimiter of CSV input is ','\u001b[0m\n",
      "\u001b[34m[2021-01-26:19:18:18:INFO] Sniff delimiter as ','\u001b[0m\n",
      "\u001b[34m[2021-01-26:19:18:18:INFO] Determined delimiter of CSV input is ','\u001b[0m\n",
      "\u001b[34m[2021-01-26:19:18:18:INFO] Sniff delimiter as ','\u001b[0m\n",
      "\u001b[34m[2021-01-26:19:18:18:INFO] Determined delimiter of CSV input is ','\u001b[0m\n",
      "\u001b[34m[2021-01-26:19:18:18:INFO] Sniff delimiter as ','\u001b[0m\n",
      "\u001b[34m[2021-01-26:19:18:18:INFO] Determined delimiter of CSV input is ','\u001b[0m\n",
      "\u001b[35m[2021-01-26:19:18:18:INFO] Determined delimiter of CSV input is ','\u001b[0m\n",
      "\u001b[35m[2021-01-26:19:18:18:INFO] Sniff delimiter as ','\u001b[0m\n",
      "\u001b[35m[2021-01-26:19:18:18:INFO] Determined delimiter of CSV input is ','\u001b[0m\n",
      "\u001b[35m[2021-01-26:19:18:18:INFO] Sniff delimiter as ','\u001b[0m\n",
      "\u001b[35m[2021-01-26:19:18:18:INFO] Determined delimiter of CSV input is ','\u001b[0m\n",
      "\u001b[35m[2021-01-26:19:18:18:INFO] Sniff delimiter as ','\u001b[0m\n",
      "\u001b[35m[2021-01-26:19:18:18:INFO] Determined delimiter of CSV input is ','\u001b[0m\n",
      "\u001b[34m[2021-01-26:19:18:20:INFO] Sniff delimiter as ','\u001b[0m\n",
      "\u001b[34m[2021-01-26:19:18:20:INFO] Determined delimiter of CSV input is ','\u001b[0m\n",
      "\u001b[34m[2021-01-26:19:18:20:INFO] Sniff delimiter as ','\u001b[0m\n",
      "\u001b[34m[2021-01-26:19:18:20:INFO] Determined delimiter of CSV input is ','\u001b[0m\n",
      "\u001b[35m[2021-01-26:19:18:20:INFO] Sniff delimiter as ','\u001b[0m\n",
      "\u001b[35m[2021-01-26:19:18:20:INFO] Determined delimiter of CSV input is ','\u001b[0m\n",
      "\u001b[35m[2021-01-26:19:18:20:INFO] Sniff delimiter as ','\u001b[0m\n",
      "\u001b[35m[2021-01-26:19:18:20:INFO] Determined delimiter of CSV input is ','\u001b[0m\n",
      "\u001b[34m[2021-01-26:19:18:21:INFO] Sniff delimiter as ','\u001b[0m\n",
      "\u001b[35m[2021-01-26:19:18:21:INFO] Sniff delimiter as ','\u001b[0m\n",
      "\u001b[34m[2021-01-26:19:18:21:INFO] Determined delimiter of CSV input is ','\u001b[0m\n",
      "\u001b[34m[2021-01-26:19:18:21:INFO] Sniff delimiter as ','\u001b[0m\n",
      "\u001b[34m[2021-01-26:19:18:21:INFO] Determined delimiter of CSV input is ','\u001b[0m\n",
      "\u001b[35m[2021-01-26:19:18:21:INFO] Determined delimiter of CSV input is ','\u001b[0m\n",
      "\u001b[35m[2021-01-26:19:18:21:INFO] Sniff delimiter as ','\u001b[0m\n",
      "\u001b[35m[2021-01-26:19:18:21:INFO] Determined delimiter of CSV input is ','\u001b[0m\n",
      "\u001b[34m[2021-01-26:19:18:22:INFO] Sniff delimiter as ','\u001b[0m\n",
      "\u001b[34m[2021-01-26:19:18:22:INFO] Determined delimiter of CSV input is ','\u001b[0m\n",
      "\u001b[34m[2021-01-26:19:18:23:INFO] Sniff delimiter as ','\u001b[0m\n",
      "\u001b[34m[2021-01-26:19:18:23:INFO] Determined delimiter of CSV input is ','\u001b[0m\n",
      "\u001b[34m[2021-01-26:19:18:23:INFO] Sniff delimiter as ','\u001b[0m\n",
      "\u001b[34m[2021-01-26:19:18:23:INFO] Determined delimiter of CSV input is ','\u001b[0m\n",
      "\u001b[34m[2021-01-26:19:18:23:INFO] Sniff delimiter as ','\u001b[0m\n",
      "\u001b[34m[2021-01-26:19:18:23:INFO] Determined delimiter of CSV input is ','\u001b[0m\n",
      "\u001b[35m[2021-01-26:19:18:22:INFO] Sniff delimiter as ','\u001b[0m\n",
      "\u001b[35m[2021-01-26:19:18:22:INFO] Determined delimiter of CSV input is ','\u001b[0m\n",
      "\u001b[35m[2021-01-26:19:18:23:INFO] Sniff delimiter as ','\u001b[0m\n",
      "\u001b[35m[2021-01-26:19:18:23:INFO] Determined delimiter of CSV input is ','\u001b[0m\n",
      "\u001b[35m[2021-01-26:19:18:23:INFO] Sniff delimiter as ','\u001b[0m\n",
      "\u001b[35m[2021-01-26:19:18:23:INFO] Determined delimiter of CSV input is ','\u001b[0m\n",
      "\u001b[35m[2021-01-26:19:18:23:INFO] Sniff delimiter as ','\u001b[0m\n",
      "\u001b[35m[2021-01-26:19:18:23:INFO] Determined delimiter of CSV input is ','\u001b[0m\n",
      "\n",
      "\u001b[34m[2021-01-26:19:18:27:INFO] Sniff delimiter as ','\u001b[0m\n",
      "\u001b[34m[2021-01-26:19:18:27:INFO] Determined delimiter of CSV input is ','\u001b[0m\n",
      "\u001b[34m[2021-01-26:19:18:28:INFO] Sniff delimiter as ','\u001b[0m\n",
      "\u001b[34m[2021-01-26:19:18:28:INFO] Determined delimiter of CSV input is ','\u001b[0m\n",
      "\u001b[34m[2021-01-26:19:18:28:INFO] Sniff delimiter as ','\u001b[0m\n",
      "\u001b[34m[2021-01-26:19:18:28:INFO] Determined delimiter of CSV input is ','\u001b[0m\n",
      "\u001b[34m[2021-01-26:19:18:28:INFO] Sniff delimiter as ','\u001b[0m\n",
      "\u001b[34m[2021-01-26:19:18:28:INFO] Determined delimiter of CSV input is ','\u001b[0m\n",
      "\u001b[35m[2021-01-26:19:18:27:INFO] Sniff delimiter as ','\u001b[0m\n",
      "\u001b[35m[2021-01-26:19:18:27:INFO] Determined delimiter of CSV input is ','\u001b[0m\n",
      "\u001b[35m[2021-01-26:19:18:28:INFO] Sniff delimiter as ','\u001b[0m\n",
      "\u001b[35m[2021-01-26:19:18:28:INFO] Determined delimiter of CSV input is ','\u001b[0m\n",
      "\u001b[35m[2021-01-26:19:18:28:INFO] Sniff delimiter as ','\u001b[0m\n",
      "\u001b[35m[2021-01-26:19:18:28:INFO] Determined delimiter of CSV input is ','\u001b[0m\n",
      "\u001b[35m[2021-01-26:19:18:28:INFO] Sniff delimiter as ','\u001b[0m\n",
      "\u001b[35m[2021-01-26:19:18:28:INFO] Determined delimiter of CSV input is ','\u001b[0m\n",
      "\u001b[34m[2021-01-26:19:18:30:INFO] Sniff delimiter as ','\u001b[0m\n",
      "\u001b[34m[2021-01-26:19:18:30:INFO] Determined delimiter of CSV input is ','\u001b[0m\n",
      "\u001b[34m[2021-01-26:19:18:30:INFO] Sniff delimiter as ','\u001b[0m\n",
      "\u001b[34m[2021-01-26:19:18:30:INFO] Determined delimiter of CSV input is ','\u001b[0m\n",
      "\u001b[35m[2021-01-26:19:18:30:INFO] Sniff delimiter as ','\u001b[0m\n",
      "\u001b[35m[2021-01-26:19:18:30:INFO] Determined delimiter of CSV input is ','\u001b[0m\n",
      "\u001b[35m[2021-01-26:19:18:30:INFO] Sniff delimiter as ','\u001b[0m\n",
      "\u001b[35m[2021-01-26:19:18:30:INFO] Determined delimiter of CSV input is ','\u001b[0m\n",
      "\u001b[34m[2021-01-26:19:18:31:INFO] Sniff delimiter as ','\u001b[0m\n",
      "\u001b[35m[2021-01-26:19:18:31:INFO] Sniff delimiter as ','\u001b[0m\n",
      "\u001b[34m[2021-01-26:19:18:31:INFO] Determined delimiter of CSV input is ','\u001b[0m\n",
      "\u001b[34m[2021-01-26:19:18:31:INFO] Sniff delimiter as ','\u001b[0m\n",
      "\u001b[34m[2021-01-26:19:18:31:INFO] Determined delimiter of CSV input is ','\u001b[0m\n",
      "\u001b[35m[2021-01-26:19:18:31:INFO] Determined delimiter of CSV input is ','\u001b[0m\n",
      "\u001b[35m[2021-01-26:19:18:31:INFO] Sniff delimiter as ','\u001b[0m\n",
      "\u001b[35m[2021-01-26:19:18:31:INFO] Determined delimiter of CSV input is ','\u001b[0m\n",
      "\u001b[34m[2021-01-26:19:18:32:INFO] Sniff delimiter as ','\u001b[0m\n",
      "\u001b[34m[2021-01-26:19:18:32:INFO] Determined delimiter of CSV input is ','\u001b[0m\n",
      "\u001b[35m[2021-01-26:19:18:32:INFO] Sniff delimiter as ','\u001b[0m\n",
      "\u001b[35m[2021-01-26:19:18:32:INFO] Determined delimiter of CSV input is ','\u001b[0m\n",
      "\u001b[34m[2021-01-26:19:18:33:INFO] Sniff delimiter as ','\u001b[0m\n",
      "\u001b[34m[2021-01-26:19:18:33:INFO] Determined delimiter of CSV input is ','\u001b[0m\n",
      "\u001b[34m[2021-01-26:19:18:33:INFO] Sniff delimiter as ','\u001b[0m\n",
      "\u001b[34m[2021-01-26:19:18:33:INFO] Determined delimiter of CSV input is ','\u001b[0m\n",
      "\u001b[34m[2021-01-26:19:18:33:INFO] Sniff delimiter as ','\u001b[0m\n",
      "\u001b[34m[2021-01-26:19:18:33:INFO] Determined delimiter of CSV input is ','\u001b[0m\n",
      "\u001b[35m[2021-01-26:19:18:33:INFO] Sniff delimiter as ','\u001b[0m\n",
      "\u001b[35m[2021-01-26:19:18:33:INFO] Determined delimiter of CSV input is ','\u001b[0m\n",
      "\u001b[35m[2021-01-26:19:18:33:INFO] Sniff delimiter as ','\u001b[0m\n",
      "\u001b[35m[2021-01-26:19:18:33:INFO] Determined delimiter of CSV input is ','\u001b[0m\n",
      "\u001b[35m[2021-01-26:19:18:33:INFO] Sniff delimiter as ','\u001b[0m\n",
      "\u001b[35m[2021-01-26:19:18:33:INFO] Determined delimiter of CSV input is ','\u001b[0m\n"
     ]
    }
   ],
   "source": [
    "xgb_transformer.wait()"
   ]
  },
  {
   "cell_type": "markdown",
   "metadata": {},
   "source": [
    "Now the transform job has executed and the result, the estimated sentiment of each review, has been saved on S3. Since we would rather work on this file locally we can perform a bit of notebook magic to copy the file to the `data_dir`."
   ]
  },
  {
   "cell_type": "code",
   "execution_count": 28,
   "metadata": {},
   "outputs": [
    {
     "name": "stdout",
     "output_type": "stream",
     "text": [
      "Completed 256.0 KiB/369.5 KiB (3.9 MiB/s) with 1 file(s) remaining\r",
      "Completed 369.5 KiB/369.5 KiB (5.5 MiB/s) with 1 file(s) remaining\r",
      "download: s3://sagemaker-eu-central-1-941012658317/xgboost-2021-01-26-19-13-38-699/test.csv.out to ../data/sentiment_web_app/test.csv.out\r\n"
     ]
    }
   ],
   "source": [
    "!aws s3 cp --recursive $xgb_transformer.output_path $data_dir"
   ]
  },
  {
   "cell_type": "markdown",
   "metadata": {},
   "source": [
    "The last step is now to read in the output from our model, convert the output to something a little more usable, in this case we want the sentiment to be either `1` (positive) or `0` (negative), and then compare to the ground truth labels."
   ]
  },
  {
   "cell_type": "code",
   "execution_count": 29,
   "metadata": {},
   "outputs": [],
   "source": [
    "predictions = pd.read_csv(os.path.join(data_dir, 'test.csv.out'), header=None)\n",
    "predictions = [round(num) for num in predictions.squeeze().values]"
   ]
  },
  {
   "cell_type": "code",
   "execution_count": 30,
   "metadata": {},
   "outputs": [
    {
     "data": {
      "text/plain": [
       "0.85728"
      ]
     },
     "execution_count": 30,
     "metadata": {},
     "output_type": "execute_result"
    }
   ],
   "source": [
    "from sklearn.metrics import accuracy_score\n",
    "accuracy_score(test_y, predictions)"
   ]
  },
  {
   "cell_type": "markdown",
   "metadata": {},
   "source": [
    "## Step 6: Deploying the model\n",
    "\n",
    "Once we construct and fit our model, SageMaker stores the resulting model artifacts and we can use those to deploy an endpoint (inference code). To see this, look in the SageMaker console and you should see that a model has been created along with a link to the S3 location where the model artifacts have been stored.\n",
    "\n",
    "Deploying an endpoint is a lot like training the model with a few important differences. The first is that a deployed model doesn't change the model artifacts, so as you send it various testing instances the model won't change. Another difference is that since we aren't performing a fixed computation, as we were in the training step or while performing a batch transform, the compute instance that gets started stays running until we tell it to stop. This is important to note as if we forget and leave it running we will be charged the entire time.\n",
    "\n",
    "In other words **If you are no longer using a deployed endpoint, shut it down!**"
   ]
  },
  {
   "cell_type": "code",
   "execution_count": 31,
   "metadata": {},
   "outputs": [
    {
     "name": "stderr",
     "output_type": "stream",
     "text": [
      "Parameter image will be renamed to image_uri in SageMaker Python SDK v2.\n",
      "Using already existing model: xgboost-2021-01-26-19-06-54-100\n"
     ]
    },
    {
     "name": "stdout",
     "output_type": "stream",
     "text": [
      "-------------!"
     ]
    }
   ],
   "source": [
    "xgb_predictor = xgb.deploy(initial_instance_count = 1, instance_type = 'ml.m4.xlarge')"
   ]
  },
  {
   "cell_type": "markdown",
   "metadata": {},
   "source": [
    "### Testing the model (again)\n",
    "\n",
    "Now that we have deployed our endpoint, we can send the testing data to it and get back the inference results. We already did this earlier using the batch transform functionality of SageMaker, however, we will test our model again using the newly deployed endpoint so that we can make sure that it works properly and to get a bit of a feel for how the endpoint works.\n",
    "\n",
    "When using the created endpoint it is important to know that we are limited in the amount of information we can send in each call so we need to break the testing data up into chunks and then send each chunk. Also, we need to serialize our data before we send it to the endpoint to ensure that our data is transmitted properly. Fortunately, SageMaker can do the serialization part for us provided we tell it the format of our data."
   ]
  },
  {
   "cell_type": "code",
   "execution_count": 32,
   "metadata": {},
   "outputs": [],
   "source": [
    "from sagemaker.predictor import csv_serializer\n",
    "\n",
    "# We need to tell the endpoint what format the data we are sending is in so that SageMaker can perform the serialization.\n",
    "xgb_predictor.content_type = 'text/csv'\n",
    "xgb_predictor.serializer = csv_serializer"
   ]
  },
  {
   "cell_type": "code",
   "execution_count": 33,
   "metadata": {},
   "outputs": [],
   "source": [
    "# We split the data into chunks and send each chunk seperately, accumulating the results.\n",
    "\n",
    "def predict(data, rows=512):\n",
    "    split_array = np.array_split(data, int(data.shape[0] / float(rows) + 1))\n",
    "    predictions = ''\n",
    "    for array in split_array:\n",
    "        predictions = ','.join([predictions, xgb_predictor.predict(array).decode('utf-8')])\n",
    "    \n",
    "    return np.fromstring(predictions[1:], sep=',')"
   ]
  },
  {
   "cell_type": "code",
   "execution_count": 34,
   "metadata": {},
   "outputs": [],
   "source": [
    "test_X = pd.read_csv(os.path.join(data_dir, 'test.csv'), header=None).values\n",
    "\n",
    "predictions = predict(test_X)\n",
    "predictions = [round(num) for num in predictions]"
   ]
  },
  {
   "cell_type": "markdown",
   "metadata": {},
   "source": [
    "Lastly, we check to see what the accuracy of our model is."
   ]
  },
  {
   "cell_type": "code",
   "execution_count": 35,
   "metadata": {},
   "outputs": [
    {
     "data": {
      "text/plain": [
       "0.85728"
      ]
     },
     "execution_count": 35,
     "metadata": {},
     "output_type": "execute_result"
    }
   ],
   "source": [
    "from sklearn.metrics import accuracy_score\n",
    "accuracy_score(test_y, predictions)"
   ]
  },
  {
   "cell_type": "markdown",
   "metadata": {},
   "source": [
    "And the results here should agree with the model testing that we did earlier using the batch transform job.\n",
    "\n",
    "### Cleaning up\n",
    "\n",
    "Now that we've determined that deploying our model works as expected, we are going to shut it down. Remember that the longer the endpoint is left running, the greater the cost and since we have a bit more work to do before we are able to use our endpoint with our simple web app, we should shut everything down."
   ]
  },
  {
   "cell_type": "code",
   "execution_count": 36,
   "metadata": {},
   "outputs": [],
   "source": [
    "xgb_predictor.delete_endpoint()"
   ]
  },
  {
   "cell_type": "markdown",
   "metadata": {},
   "source": [
    "## Step 7: Putting our model to work\n",
    "\n",
    "As we've mentioned a few times now, our goal is to have our model deployed and then access it using a very simple web app. The intent is for this web app to take some user submitted data (a review), send it off to our endpoint (the model) and then display the result.\n",
    "\n",
    "However, there is a small catch. Currently the only way we can access the endpoint to send it data is using the SageMaker API. We can, if we wish, expose the actual URL that our model's endpoint is receiving data from, however, if we just send it data ourselves we will not get anything in return. This is because the endpoint created by SageMaker requires the entity accessing it have the correct permissions. So, we would need to somehow authenticate our web app with AWS.\n",
    "\n",
    "Having a website that authenticates to AWS seems a bit beyond the scope of this lesson so we will opt for an alternative approach. Namely, we will create a new endpoint which does not require authentication and which acts as a proxy for the SageMaker endpoint.\n",
    "\n",
    "As an additional constraint, we will try to avoid doing any data processing in the web app itself. Remember that when we constructed and tested our model we started with a movie review, then we simplified it by removing any html formatting and punctuation, then we constructed a bag of words embedding and the resulting vector is what we sent to our model. All of this needs to be done to our user input as well.\n",
    "\n",
    "Fortunately we can do all of this data processing in the backend, using Amazon's Lambda service.\n",
    "\n",
    "<img src=\"Web App Diagram.svg\">\n",
    "\n",
    "The diagram above gives an overview of how the various services will work together. On the far right is the model which we trained above and which will be deployed using SageMaker. On the far left is our web app that collects a user's movie review, sends it off and expects a positive or negative sentiment in return.\n",
    "\n",
    "In the middle is where some of the magic happens. We will construct a Lambda function, which you can think of as a straightforward Python function that can be executed whenever a specified event occurs. This Python function will do the data processing we need to perform on a user submitted review. In addition, we will give this function permission to send and recieve data from a SageMaker endpoint.\n",
    "\n",
    "Lastly, the method we will use to execute the Lambda function is a new endpoint that we will create using API Gateway. This endpoint will be a url that listens for data to be sent to it. Once it gets some data it will pass that data on to the Lambda function and then return whatever the Lambda function returns. Essentially it will act as an interface that lets our web app communicate with the Lambda function.\n",
    "\n",
    "### Processing a single review\n",
    "\n",
    "For now, suppose we are given a movie review by our user in the form of a string, like so:"
   ]
  },
  {
   "cell_type": "code",
   "execution_count": 37,
   "metadata": {},
   "outputs": [],
   "source": [
    "test_review = \"Nothing but a disgusting materialistic pageant of glistening abed remote control greed zombies, totally devoid of any heart or heat. A romantic comedy that has zero romantic chemestry and zero laughs!\""
   ]
  },
  {
   "cell_type": "markdown",
   "metadata": {},
   "source": [
    "How do we go from this string to the bag of words feature vector that is expected by our model?\n",
    "\n",
    "If we recall at the beginning of this notebook, the first step is to remove any unnecessary characters using the `review_to_words` method. Remember that we intentionally did this in a very simplistic way. This is because we are going to have to copy this method to our (eventual) Lambda function (we will go into more detail later) and this means it needs to be rather simplistic."
   ]
  },
  {
   "cell_type": "code",
   "execution_count": 38,
   "metadata": {},
   "outputs": [
    {
     "name": "stdout",
     "output_type": "stream",
     "text": [
      "nothing but a disgusting materialistic pageant of glistening abed remote control greed zombies totally devoid of any heart or heat a romantic comedy that has zero romantic chemestry and zero laughs\n"
     ]
    }
   ],
   "source": [
    "test_words = review_to_words(test_review)\n",
    "print(test_words)"
   ]
  },
  {
   "cell_type": "markdown",
   "metadata": {},
   "source": [
    "Next, we need to construct a bag of words embedding of the `test_words` string. To do this, remember that a bag of words embedding uses a `vocabulary` consisting of the most frequently appearing words in a set of documents. Then, for each word in the vocabulary we record the number of times that word appears in `test_words`. We constructed the `vocabulary` earlier using the training set for our problem so encoding `test_words` is relatively straightforward."
   ]
  },
  {
   "cell_type": "code",
   "execution_count": 39,
   "metadata": {},
   "outputs": [],
   "source": [
    "def bow_encoding(words, vocabulary):\n",
    "    bow = [0] * len(vocabulary) # Start by setting the count for each word in the vocabulary to zero.\n",
    "    for word in words.split():  # For each word in the string\n",
    "        if word in vocabulary:  # If the word is one that occurs in the vocabulary, increase its count.\n",
    "            bow[vocabulary[word]] += 1\n",
    "    return bow"
   ]
  },
  {
   "cell_type": "code",
   "execution_count": 40,
   "metadata": {},
   "outputs": [
    {
     "name": "stdout",
     "output_type": "stream",
     "text": [
      "[0, 0, 0, 0, 0, 0, 0, 0, 0, 0, 0, 0, 0, 0, 0, 0, 0, 0, 0, 0, 0, 0, 0, 0, 0, 0, 0, 0, 0, 0, 0, 0, 0, 0, 0, 0, 0, 0, 0, 0, 0, 0, 0, 0, 0, 0, 0, 0, 0, 0, 0, 0, 0, 0, 0, 0, 0, 0, 0, 0, 0, 0, 0, 0, 0, 0, 0, 0, 0, 0, 0, 0, 0, 0, 0, 0, 0, 0, 0, 0, 0, 0, 0, 0, 0, 0, 0, 0, 0, 0, 0, 0, 0, 0, 0, 0, 0, 0, 0, 0, 0, 0, 0, 0, 0, 0, 0, 0, 0, 0, 0, 0, 0, 0, 0, 0, 0, 0, 0, 0, 0, 0, 0, 0, 0, 0, 0, 0, 0, 0, 0, 0, 0, 0, 0, 0, 0, 0, 0, 0, 0, 0, 0, 0, 0, 0, 0, 0, 0, 0, 0, 0, 0, 0, 0, 0, 0, 0, 0, 0, 0, 0, 0, 0, 0, 0, 0, 0, 0, 0, 0, 0, 0, 0, 0, 0, 0, 0, 0, 0, 0, 0, 0, 0, 0, 0, 0, 0, 0, 0, 0, 0, 0, 0, 0, 0, 0, 0, 0, 0, 0, 0, 0, 0, 0, 0, 0, 0, 0, 0, 0, 0, 0, 0, 0, 0, 0, 0, 0, 0, 0, 0, 0, 0, 0, 0, 1, 0, 0, 0, 0, 0, 0, 0, 0, 0, 0, 0, 0, 0, 0, 0, 0, 0, 0, 0, 0, 0, 0, 0, 0, 0, 0, 0, 0, 0, 1, 0, 0, 0, 0, 0, 0, 0, 0, 0, 0, 0, 0, 0, 0, 0, 0, 0, 0, 0, 0, 0, 0, 0, 0, 0, 0, 0, 0, 0, 0, 0, 0, 0, 0, 0, 0, 0, 0, 0, 0, 0, 0, 0, 0, 0, 0, 0, 0, 0, 0, 0, 0, 0, 0, 0, 0, 0, 0, 0, 0, 0, 0, 0, 0, 0, 0, 0, 0, 0, 0, 0, 0, 0, 0, 0, 0, 0, 0, 0, 0, 0, 0, 0, 0, 0, 0, 0, 0, 0, 0, 0, 0, 0, 0, 0, 0, 0, 0, 0, 0, 0, 0, 0, 0, 0, 0, 0, 0, 0, 0, 0, 0, 0, 0, 0, 0, 0, 0, 0, 0, 0, 0, 0, 0, 0, 0, 0, 0, 0, 0, 0, 0, 0, 0, 0, 0, 0, 0, 0, 0, 0, 0, 0, 0, 0, 0, 0, 0, 0, 0, 0, 0, 0, 0, 0, 0, 0, 0, 0, 0, 0, 0, 0, 0, 0, 0, 0, 0, 0, 0, 0, 0, 0, 0, 0, 0, 0, 0, 0, 0, 0, 0, 0, 0, 0, 0, 0, 0, 0, 0, 0, 0, 0, 0, 0, 0, 0, 0, 0, 0, 0, 0, 0, 0, 0, 0, 0, 0, 0, 0, 0, 0, 0, 0, 0, 0, 0, 0, 0, 0, 0, 0, 0, 0, 0, 0, 0, 0, 0, 0, 0, 0, 0, 0, 0, 0, 0, 0, 0, 0, 0, 0, 0, 0, 0, 0, 0, 0, 0, 0, 0, 0, 0, 0, 0, 0, 0, 0, 0, 0, 0, 0, 0, 0, 0, 0, 0, 0, 0, 0, 0, 0, 0, 0, 0, 0, 0, 0, 0, 0, 0, 0, 0, 0, 0, 0, 0, 0, 0, 0, 0, 0, 0, 0, 0, 0, 0, 0, 0, 0, 0, 0, 0, 0, 0, 0, 0, 0, 0, 0, 0, 0, 0, 0, 0, 0, 0, 0, 0, 0, 0, 0, 0, 0, 0, 0, 0, 0, 0, 0, 0, 0, 0, 0, 0, 0, 0, 0, 0, 0, 0, 0, 0, 0, 0, 0, 0, 0, 0, 0, 0, 0, 0, 0, 0, 0, 0, 0, 0, 0, 0, 0, 0, 0, 0, 0, 0, 0, 0, 0, 0, 0, 0, 0, 0, 0, 0, 0, 0, 1, 0, 0, 0, 0, 0, 0, 0, 0, 0, 0, 0, 0, 0, 0, 0, 0, 0, 0, 0, 0, 0, 0, 0, 0, 0, 0, 0, 0, 0, 0, 0, 0, 0, 0, 0, 0, 0, 0, 0, 0, 0, 0, 0, 0, 0, 0, 0, 0, 0, 0, 0, 0, 0, 0, 0, 0, 0, 0, 0, 0, 0, 0, 0, 0, 0, 0, 0, 0, 0, 0, 0, 0, 0, 0, 0, 0, 0, 0, 0, 0, 0, 0, 0, 0, 0, 0, 0, 0, 0, 0, 0, 0, 0, 0, 0, 0, 0, 0, 0, 0, 0, 0, 0, 0, 0, 0, 0, 0, 0, 0, 0, 0, 0, 0, 0, 0, 0, 0, 0, 0, 0, 0, 0, 0, 0, 0, 0, 0, 0, 0, 0, 0, 0, 0, 0, 0, 0, 0, 0, 0, 0, 0, 0, 0, 0, 0, 0, 0, 0, 0, 0, 0, 0, 0, 0, 0, 0, 0, 0, 0, 0, 0, 0, 0, 0, 0, 0, 0, 0, 0, 0, 0, 0, 0, 0, 0, 0, 0, 0, 0, 0, 0, 0, 0, 0, 0, 0, 0, 0, 0, 0, 0, 0, 0, 0, 0, 0, 0, 0, 0, 0, 0, 0, 0, 0, 0, 0, 0, 0, 0, 0, 0, 0, 0, 0, 0, 0, 0, 0, 0, 0, 0, 0, 0, 0, 0, 0, 0, 0, 0, 0, 0, 0, 0, 0, 0, 0, 0, 0, 0, 0, 0, 0, 0, 0, 0, 0, 0, 0, 0, 0, 0, 0, 1, 0, 0, 0, 0, 0, 0, 0, 0, 0, 0, 0, 0, 0, 0, 0, 0, 0, 0, 0, 0, 0, 0, 0, 0, 0, 0, 0, 0, 0, 0, 0, 0, 0, 0, 0, 0, 0, 0, 0, 0, 0, 0, 0, 0, 0, 0, 0, 0, 0, 0, 0, 0, 0, 0, 0, 0, 0, 0, 0, 0, 0, 0, 0, 0, 0, 0, 0, 0, 0, 0, 0, 0, 0, 0, 0, 0, 0, 0, 0, 0, 0, 0, 0, 0, 0, 0, 1, 0, 0, 0, 0, 0, 0, 0, 0, 0, 0, 0, 0, 0, 0, 0, 0, 0, 0, 0, 0, 0, 0, 0, 0, 0, 0, 0, 0, 0, 0, 0, 0, 0, 0, 0, 0, 0, 0, 0, 0, 0, 0, 0, 0, 0, 0, 0, 0, 0, 0, 0, 0, 0, 0, 0, 0, 0, 0, 0, 0, 0, 0, 0, 0, 0, 0, 0, 0, 0, 0, 0, 0, 0, 0, 0, 0, 0, 0, 0, 0, 0, 0, 0, 0, 0, 0, 0, 0, 0, 0, 0, 0, 0, 0, 0, 0, 0, 0, 0, 0, 0, 0, 0, 0, 0, 0, 0, 0, 0, 0, 0, 0, 0, 0, 0, 0, 0, 0, 0, 0, 0, 0, 0, 0, 0, 0, 0, 0, 0, 0, 0, 0, 0, 0, 0, 0, 0, 0, 0, 0, 0, 0, 0, 0, 0, 0, 0, 0, 0, 0, 0, 0, 0, 0, 0, 0, 0, 0, 0, 0, 0, 0, 0, 0, 0, 0, 0, 0, 0, 0, 0, 0, 0, 0, 0, 0, 0, 0, 0, 0, 0, 0, 0, 0, 0, 0, 0, 0, 0, 0, 0, 0, 0, 0, 0, 0, 0, 0, 0, 0, 0, 0, 0, 0, 0, 0, 0, 0, 0, 0, 0, 0, 0, 0, 0, 0, 0, 0, 0, 0, 0, 0, 0, 0, 0, 0, 0, 0, 0, 0, 0, 0, 0, 0, 0, 0, 0, 0, 0, 0, 0, 0, 0, 0, 0, 0, 0, 0, 0, 0, 0, 0, 1, 0, 0, 0, 0, 0, 0, 0, 0, 0, 0, 0, 0, 0, 0, 0, 0, 0, 0, 0, 0, 0, 0, 0, 0, 0, 0, 0, 0, 0, 0, 0, 0, 0, 0, 0, 0, 0, 0, 0, 0, 0, 0, 0, 0, 0, 0, 0, 0, 0, 0, 0, 0, 0, 0, 0, 1, 0, 0, 0, 0, 0, 0, 0, 0, 0, 0, 0, 0, 0, 0, 0, 0, 0, 0, 0, 0, 0, 0, 0, 0, 0, 0, 0, 0, 0, 0, 0, 0, 0, 0, 0, 0, 0, 0, 0, 0, 0, 0, 0, 0, 0, 0, 0, 0, 0, 0, 0, 0, 0, 0, 0, 0, 0, 0, 0, 0, 0, 0, 0, 0, 0, 0, 0, 0, 0, 0, 0, 0, 0, 0, 0, 0, 0, 0, 0, 0, 0, 0, 0, 0, 0, 0, 0, 0, 0, 0, 0, 0, 0, 0, 0, 0, 0, 0, 0, 0, 0, 0, 0, 0, 0, 0, 0, 0, 0, 0, 0, 0, 0, 0, 0, 0, 0, 0, 0, 0, 0, 0, 0, 0, 0, 0, 0, 0, 0, 0, 0, 0, 0, 0, 0, 0, 0, 0, 0, 0, 0, 0, 0, 0, 0, 0, 0, 0, 0, 0, 0, 0, 0, 0, 0, 0, 0, 0, 0, 0, 0, 0, 0, 0, 0, 0, 0, 0, 0, 0, 0, 0, 0, 0, 0, 0, 0, 0, 0, 0, 0, 0, 0, 0, 0, 0, 0, 0, 0, 0, 0, 0, 0, 0, 0, 0, 0, 0, 0, 0, 0, 0, 0, 0, 0, 0, 0, 0, 0, 0, 0, 0, 0, 0, 0, 0, 0, 0, 0, 0, 0, 0, 0, 0, 0, 0, 0, 0, 0, 0, 0, 0, 0, 0, 0, 0, 0, 0, 0, 0, 0, 0, 0, 0, 0, 0, 0, 0, 0, 0, 0, 0, 0, 0, 0, 0, 0, 0, 0, 0, 0, 0, 0, 0, 0, 0, 0, 0, 0, 0, 0, 0, 0, 0, 0, 0, 0, 0, 0, 0, 0, 0, 0, 0, 0, 0, 0, 0, 0, 0, 0, 0, 0, 0, 0, 0, 0, 0, 0, 0, 0, 0, 0, 0, 0, 0, 0, 0, 0, 0, 0, 0, 0, 0, 0, 0, 0, 0, 0, 0, 0, 0, 0, 0, 0, 0, 0, 0, 0, 0, 0, 0, 0, 0, 0, 0, 0, 0, 0, 0, 0, 0, 0, 0, 0, 0, 0, 0, 0, 0, 0, 0, 0, 0, 0, 0, 0, 0, 0, 0, 0, 0, 0, 0, 0, 0, 0, 0, 0, 0, 0, 0, 0, 0, 0, 0, 0, 0, 0, 0, 0, 0, 0, 0, 0, 0, 0, 0, 0, 0, 0, 0, 0, 0, 0, 0, 0, 0, 0, 0, 0, 0, 0, 0, 0, 0, 0, 0, 0, 0, 0, 0, 0, 0, 0, 0, 0, 0, 0, 0, 0, 0, 0, 0, 0, 0, 0, 0, 0, 0, 0, 0, 0, 0, 0, 0, 0, 0, 0, 0, 0, 0, 0, 0, 0, 0, 0, 0, 0, 0, 0, 0, 0, 0, 0, 0, 0, 0, 0, 0, 0, 0, 0, 0, 0, 0, 0, 0, 0, 0, 0, 0, 0, 0, 0, 0, 0, 0, 0, 0, 0, 0, 0, 0, 0, 0, 0, 0, 0, 0, 0, 0, 0, 0, 0, 0, 0, 0, 0, 0, 0, 0, 0, 0, 0, 0, 0, 0, 0, 0, 0, 0, 0, 0, 0, 0, 0, 0, 0, 0, 0, 0, 0, 0, 0, 0, 0, 0, 0, 0, 0, 0, 0, 0, 0, 0, 0, 0, 0, 0, 0, 0, 0, 0, 0, 0, 0, 0, 0, 0, 0, 0, 0, 0, 0, 0, 0, 0, 0, 0, 0, 0, 0, 0, 0, 0, 0, 0, 0, 0, 0, 0, 0, 0, 0, 0, 0, 0, 0, 0, 0, 0, 0, 0, 0, 0, 0, 0, 0, 0, 0, 0, 0, 0, 0, 0, 0, 0, 0, 0, 0, 0, 0, 0, 0, 0, 0, 0, 0, 0, 0, 0, 0, 0, 0, 0, 0, 0, 0, 0, 0, 0, 0, 0, 0, 0, 0, 0, 0, 0, 0, 0, 0, 0, 0, 0, 0, 0, 0, 0, 0, 0, 0, 0, 0, 0, 0, 0, 0, 0, 0, 0, 0, 0, 0, 0, 0, 0, 0, 0, 0, 0, 0, 0, 0, 0, 0, 0, 0, 0, 0, 0, 0, 0, 0, 0, 0, 0, 0, 0, 0, 1, 0, 0, 0, 0, 0, 0, 0, 0, 0, 0, 0, 0, 0, 0, 0, 0, 0, 0, 0, 0, 0, 0, 0, 0, 0, 0, 0, 0, 0, 0, 0, 0, 0, 0, 0, 0, 0, 0, 0, 0, 0, 0, 0, 0, 0, 0, 0, 0, 0, 0, 0, 0, 0, 0, 0, 0, 0, 0, 0, 0, 0, 0, 0, 0, 0, 0, 0, 0, 0, 0, 0, 0, 0, 0, 1, 0, 0, 0, 0, 0, 0, 0, 0, 0, 0, 0, 0, 0, 0, 0, 0, 0, 0, 0, 0, 1, 0, 0, 1, 0, 0, 0, 0, 0, 0, 0, 0, 0, 0, 0, 0, 0, 0, 0, 0, 0, 0, 0, 0, 0, 0, 0, 0, 0, 0, 0, 0, 0, 0, 0, 0, 0, 0, 0, 0, 0, 0, 0, 0, 0, 0, 0, 0, 0, 0, 0, 0, 0, 0, 0, 0, 0, 0, 0, 0, 0, 0, 0, 0, 0, 0, 0, 0, 0, 0, 0, 0, 0, 0, 0, 0, 0, 0, 0, 0, 0, 0, 0, 0, 0, 0, 0, 0, 0, 0, 0, 0, 0, 0, 0, 0, 0, 0, 0, 0, 0, 0, 0, 0, 0, 0, 0, 0, 0, 0, 0, 0, 0, 0, 0, 0, 0, 0, 0, 0, 0, 0, 0, 0, 0, 0, 0, 0, 0, 0, 0, 0, 0, 0, 0, 0, 0, 0, 0, 0, 0, 0, 0, 0, 0, 0, 0, 0, 0, 0, 0, 0, 0, 0, 0, 0, 0, 0, 0, 0, 0, 0, 0, 0, 0, 0, 0, 0, 0, 0, 0, 0, 0, 0, 0, 0, 0, 0, 0, 0, 0, 0, 0, 0, 0, 0, 0, 0, 0, 0, 0, 0, 0, 0, 0, 0, 0, 0, 0, 0, 0, 0, 0, 0, 0, 0, 0, 0, 0, 0, 0, 0, 0, 0, 0, 0, 0, 0, 0, 0, 0, 0, 0, 0, 0, 0, 0, 0, 0, 0, 0, 0, 0, 0, 0, 0, 0, 0, 0, 0, 0, 0, 0, 0, 0, 0, 0, 0, 0, 0, 0, 0, 0, 0, 0, 0, 0, 0, 0, 0, 0, 0, 0, 0, 0, 0, 0, 0, 0, 0, 0, 0, 0, 0, 0, 0, 0, 0, 0, 0, 0, 0, 0, 0, 0, 0, 0, 0, 0, 0, 0, 0, 0, 0, 0, 0, 0, 0, 0, 0, 0, 0, 0, 0, 0, 0, 0, 0, 0, 0, 0, 0, 0, 0, 0, 0, 0, 0, 0, 0, 0, 0, 0, 0, 0, 0, 0, 0, 0, 0, 0, 0, 0, 0, 0, 0, 0, 0, 0, 0, 0, 0, 0, 0, 0, 0, 0, 0, 0, 0, 0, 0, 0, 0, 0, 0, 0, 0, 0, 0, 0, 0, 0, 0, 0, 0, 0, 0, 0, 0, 0, 0, 0, 0, 0, 0, 0, 0, 0, 0, 0, 0, 0, 0, 0, 0, 0, 0, 0, 0, 0, 0, 0, 0, 0, 0, 0, 0, 0, 0, 0, 0, 0, 0, 0, 0, 0, 0, 0, 0, 0, 0, 0, 0, 0, 0, 0, 0, 0, 0, 0, 0, 0, 0, 0, 0, 0, 0, 0, 0, 0, 0, 0, 0, 0, 0, 0, 0, 0, 0, 0, 0, 0, 0, 0, 0, 0, 0, 0, 0, 0, 0, 0, 0, 0, 0, 0, 0, 0, 0, 0, 0, 0, 0, 0, 0, 0, 0, 0, 0, 1, 0, 0, 0, 0, 0, 0, 0, 0, 0, 0, 0, 0, 0, 0, 0, 0, 0, 0, 0, 0, 0, 0, 0, 0, 0, 0, 0, 0, 0, 0, 0, 0, 0, 0, 0, 0, 0, 0, 0, 0, 0, 0, 0, 0, 0, 0, 0, 0, 0, 0, 0, 0, 0, 0, 0, 0, 0, 0, 0, 0, 0, 0, 0, 0, 0, 0, 0, 0, 0, 0, 0, 0, 0, 0, 0, 0, 0, 0, 0, 0, 0, 0, 0, 0, 0, 0, 0, 0, 0, 0, 0, 0, 0, 0, 0, 0, 0, 0, 0, 0, 0, 0, 0, 0, 0, 0, 0, 0, 0, 0, 0, 0, 0, 0, 0, 0, 0, 0, 0, 0, 0, 0, 0, 0, 0, 0, 0, 0, 0, 0, 0, 0, 0, 0, 0, 0, 0, 0, 0, 0, 0, 0, 0, 0, 0, 0, 0, 0, 0, 0, 0, 0, 0, 0, 0, 0, 0, 0, 0, 0, 0, 0, 0, 0, 0, 0, 0, 0, 0, 0, 0, 0, 0, 0, 0, 0, 0, 0, 0, 0, 0, 0, 0, 0, 0, 0, 0, 0, 0, 0, 0, 0, 0, 0, 0, 0, 0, 0, 0, 0, 0, 0, 0, 0, 0, 0, 0, 0, 0, 0, 0, 0, 0, 0, 0, 0, 0, 0, 0, 0, 0, 0, 0, 0, 0, 0, 0, 0, 0, 0, 0, 0, 0, 0, 0, 0, 0, 0, 0, 0, 0, 0, 0, 0, 0, 0, 0, 0, 0, 0, 0, 0, 0, 0, 0, 0, 0, 0, 0, 0, 0, 0, 0, 0, 0, 0, 0, 0, 0, 0, 0, 0, 0, 0, 0, 0, 0, 0, 0, 0, 0, 0, 0, 0, 0, 0, 0, 0, 0, 0, 0, 0, 0, 0, 0, 0, 0, 0, 0, 0, 0, 0, 0, 0, 0, 0, 0, 0, 0, 0, 0, 0, 0, 0, 0, 0, 0, 0, 0, 0, 0, 0, 0, 0, 0, 0, 0, 0, 0, 0, 0, 0, 0, 0, 0, 0, 0, 0, 0, 0, 0, 0, 0, 0, 0, 0, 0, 0, 0, 0, 0, 0, 0, 0, 0, 0, 0, 0, 0, 0, 0, 0, 0, 0, 0, 0, 0, 0, 0, 0, 0, 0, 0, 0, 0, 0, 0, 0, 0, 0, 0, 0, 0, 0, 0, 0, 0, 0, 0, 0, 0, 0, 0, 0, 0, 0, 0, 0, 0, 0, 0, 0, 0, 0, 0, 0, 0, 0, 0, 0, 0, 0, 0, 0, 0, 0, 0, 0, 0, 0, 0, 0, 0, 0, 0, 0, 0, 0, 0, 0, 0, 0, 0, 0, 0, 0, 0, 0, 0, 0, 0, 0, 0, 0, 0, 0, 0, 0, 0, 0, 0, 0, 0, 0, 0, 0, 0, 0, 0, 0, 0, 0, 0, 0, 0, 0, 0, 0, 0, 0, 0, 0, 0, 0, 0, 0, 0, 0, 0, 0, 0, 0, 0, 0, 0, 0, 0, 0, 0, 0, 0, 0, 0, 0, 0, 0, 0, 0, 0, 0, 0, 0, 0, 0, 0, 0, 0, 0, 0, 0, 0, 0, 1, 0, 0, 0, 0, 0, 0, 0, 0, 0, 0, 0, 0, 0, 0, 0, 0, 0, 0, 0, 0, 0, 0, 0, 0, 0, 0, 0, 0, 0, 0, 0, 0, 0, 0, 0, 2, 0, 0, 0, 0, 0, 0, 0, 0, 0, 0, 0, 0, 0, 0, 0, 0, 0, 0, 0, 0, 0, 0, 0, 0, 0, 0, 0, 0, 0, 0, 0, 0, 0, 0, 0, 0, 0, 0, 0, 0, 1, 0, 0, 0, 0, 0, 0, 0, 0, 0, 0, 0, 0, 0, 0, 0, 0, 0, 0, 0, 0, 0, 0, 0, 0, 0, 0, 0, 0, 0, 0, 0, 0, 0, 0, 0, 0, 0, 0, 0, 0, 0, 0, 0, 0, 0, 0, 0, 0, 0, 0, 0, 0, 0, 0, 0, 0, 0, 0, 0, 0, 0, 0, 0, 0, 0, 0, 0, 0, 0, 0, 0, 0, 0, 0, 0, 0, 0, 0, 0, 0, 0, 0, 0, 0, 0, 0, 0, 0, 0, 0, 0, 0, 0, 0, 0, 0, 0, 0, 0, 0, 0, 0, 0, 0, 0, 0, 0, 0, 0, 0, 0, 0, 0, 0, 0, 0, 0, 0, 0, 0, 0, 0, 0, 0, 0, 0, 0, 0, 0, 0, 0, 0, 0, 0, 0, 0, 0, 0, 0, 0, 0, 0, 0, 0, 0, 0, 0, 0, 0, 0, 0, 0, 0, 0, 0, 0, 0, 0, 0, 0, 0, 0, 0, 0, 0, 0, 0, 0, 0, 0, 0, 0, 0, 0, 0, 0, 0, 0, 0, 0, 0, 0, 0, 0, 0, 0, 0, 0, 0, 0, 0, 0, 0, 0, 0, 0, 0, 0, 0, 0, 0, 0, 0, 0, 0, 0, 0, 0, 0, 0, 0, 0, 0, 0, 0, 0, 0, 0, 0, 0, 0, 0, 0, 0, 0, 0, 0, 0, 0, 0, 0, 0, 0, 0, 0, 0, 0, 0, 0, 0, 0, 0, 0, 0, 0, 0, 0, 0, 0, 0, 0, 0, 0, 0, 0, 0, 0, 0, 0, 0, 0, 0, 0, 0, 0, 0, 0, 0, 0, 0, 0, 0, 0, 0, 0, 0, 0, 0, 0, 0, 0, 0, 0, 0, 0, 0, 0, 0, 0, 0, 0, 0, 0, 0, 0, 0, 0, 0, 0, 0, 0, 0, 0, 0, 0, 0, 0, 0, 0, 0, 0, 0, 0, 0, 0, 0, 0, 0, 0, 0, 0, 0, 0, 0, 0, 0, 0, 0, 0, 0, 0, 0, 0, 0, 0, 0, 0, 0, 0, 0, 0, 0, 0, 0, 0, 0, 0, 0, 0, 0, 0, 0, 0, 0, 0, 0, 0, 0, 0, 0, 0, 0, 0, 0, 0, 0, 0, 0, 0, 0, 0, 0, 0, 0, 0, 0, 0, 0, 0, 0, 0, 0, 0, 0, 0, 0, 0, 0, 0, 0, 0, 0, 0, 0, 0, 0, 0, 0, 0, 0, 0, 0, 0, 0, 0, 0, 0, 0, 0, 0, 0, 0, 0, 0, 0, 0, 0, 0, 0, 0, 0, 0, 0, 0, 0, 0, 0, 0, 0, 0, 0, 0, 0, 0, 0, 0, 0, 0, 0, 0, 0, 0, 0, 0, 0, 0, 0, 0, 0, 0, 0, 0, 0, 0, 0, 0, 0, 0, 0, 0, 0, 0, 0, 0, 0, 0, 0, 0, 0, 0, 0, 0, 0, 0, 0, 0, 0, 0, 0, 0, 0, 0, 0, 0, 0, 0, 0, 0, 0, 0, 0, 0, 0, 0, 0, 0, 0, 1, 0, 0, 0, 0, 0, 0, 0, 0, 0, 0, 0, 0, 0, 0, 0, 0, 0, 0, 0, 0, 0, 0, 0, 0, 0, 0, 0, 0, 0, 0, 0, 0, 0, 0, 0, 0, 0, 0, 0, 0, 0, 0, 0, 0, 0, 0, 0, 0, 0, 0, 0, 0, 0, 0, 0, 0, 0, 0, 0, 0, 0, 0, 0, 0, 0, 0, 0, 0, 0, 0, 0, 0, 0, 0, 0, 0, 0, 0, 0, 0, 0, 0, 0, 0, 0, 0, 0, 0, 0, 0, 0, 0, 0, 0, 0, 0, 0, 0, 0, 0, 0, 0, 0, 0, 0, 0, 0, 0, 0, 0, 2, 0, 0, 0, 0, 0, 0, 0, 0, 0, 0, 0, 0, 0, 0, 0, 0, 0, 0, 0, 0, 0, 0, 0, 0, 0, 0, 0, 0, 0, 0, 0, 0, 0, 0, 0, 0, 0, 0, 0, 0, 0, 0, 0, 0, 0, 0, 0, 0, 0, 0, 0, 0, 0, 0, 0, 0, 0, 0, 0, 0, 0, 0, 0, 0, 0, 0, 0, 0, 0, 0, 0, 0, 0, 0, 0, 0, 0, 0, 0, 0, 0, 0, 0, 0, 0, 0, 0, 0, 0, 0, 0, 0, 0, 0, 0, 0, 0, 0, 0, 0, 0, 0, 0, 0, 0, 0, 0, 0, 0, 0, 0, 0, 0, 0, 0, 0, 0, 0, 0, 0, 0, 0, 0, 0, 0, 0, 0, 0, 0, 0, 0, 0, 0, 0, 0, 0, 0, 0, 0, 0, 0, 0, 0, 0, 0, 0, 0, 0, 0, 0, 0, 0, 0, 0, 0, 0, 0, 0, 0, 0, 0, 0, 0, 0, 0, 0, 0, 0, 0, 0, 0, 0, 0, 0, 0, 0, 0, 0, 0, 0, 0, 0, 0, 0, 0, 0, 0, 0, 0, 0, 0, 0, 0, 0, 0, 0, 0, 0, 0, 0, 0, 0, 0, 0, 0, 0, 0, 0, 0, 0, 0, 0, 0, 0, 0, 0, 0, 0, 0, 0, 0, 0, 0, 0, 0, 0, 0, 0, 0, 0, 0, 0, 0, 0, 0, 0, 0, 0, 0, 0, 0, 0, 0, 0, 0, 0, 0, 0, 0, 0, 0, 0, 0, 0, 0, 0, 0, 0, 0, 0, 0, 0, 0, 0, 0, 0, 0, 0, 0, 0, 0, 0, 0, 0, 0, 0, 0, 0, 0, 0, 0, 0, 0, 0, 0, 0, 0, 0, 0, 0, 0, 0, 0, 0, 0, 0, 0, 0, 0, 0, 0, 0, 0, 0, 0, 0, 0, 0, 0, 0, 0, 0, 0, 0, 0, 0, 0, 0, 0, 0, 0, 0, 0, 0, 0, 0, 0, 0, 0, 0, 0, 0, 0, 0, 0, 0, 0, 0, 0, 0, 0, 0, 0, 0, 0, 0, 0, 0, 0, 0, 0, 0, 0, 0, 0, 0, 0, 0, 0, 0, 0, 0, 0, 0, 0, 0, 0, 0, 0, 0, 0, 0, 0, 0, 0, 0, 0, 0, 0, 0, 0, 0, 0, 0, 0, 0, 0, 0, 0, 0, 0, 0, 0, 0, 0, 0, 0, 0, 0, 0, 0, 0, 0, 0, 0, 0, 0, 0, 0, 0, 0, 0, 0, 0, 0, 0, 0, 0, 0, 0, 0, 0, 0, 0, 0, 0, 0, 0, 0, 0, 0, 0, 0, 0, 0, 0, 0, 0, 0, 0, 0, 0, 0, 0, 0, 0, 0, 0, 0, 0, 0, 0, 0, 0, 0, 0, 0, 0, 0, 0, 0, 0, 0, 0, 0, 0, 0, 0, 0, 0, 0, 0, 0, 0, 0, 0, 0, 0, 0, 0, 0, 0, 0, 0, 0, 0, 0, 0, 0, 0, 0, 0, 0, 0, 0, 0, 0, 0, 0, 0, 0, 0, 0, 0, 0, 0, 0, 0, 0, 0, 0, 0, 0, 0, 0, 0, 0, 0, 0, 0, 0, 0, 0, 0, 0, 0, 0, 0, 0, 0, 0, 0, 0, 0, 0, 0, 0, 0, 0, 0, 0, 0, 0, 0, 0, 0, 0, 0, 0, 0, 0, 0, 0, 0, 0, 0, 0, 0, 0, 0, 0, 0, 0, 0, 0, 0, 0, 0, 0, 0, 0, 0, 0, 0, 0, 0, 0, 0, 0, 0, 0, 0, 0, 0, 0, 0, 0, 0, 0, 0, 0, 0, 0, 0, 0, 0, 0, 0, 0, 0, 0, 0, 0, 0, 0, 0, 0, 0, 0, 0, 0, 0, 0, 0, 0, 0, 0, 0, 0, 0, 0, 0, 0, 0, 0, 0, 0, 0, 0, 0, 0, 0, 0, 0, 0, 0, 0, 0, 0, 0, 0, 0, 0, 0, 0, 0, 0, 0, 0, 0, 0, 0, 0, 0, 0, 0, 0, 0, 0, 0, 0, 0, 0, 0, 0, 0, 0, 0, 0, 0, 0, 0, 0, 0, 0, 0, 0, 0, 0, 0, 0, 0, 0, 0, 0, 0, 0, 0, 0, 0, 1, 0, 0, 0, 0, 0, 0, 0, 0, 0, 0, 0, 0, 0, 0, 0, 0, 0, 0, 0, 0, 0, 0, 0, 0, 0, 0, 0, 0, 0, 0, 0, 0, 0, 0, 0, 0, 0, 0, 0, 0, 0, 0, 0, 0, 0, 0, 0, 0, 0, 0, 0, 0, 0, 0, 0, 0, 0, 0, 0, 0, 0, 0, 0, 0, 0, 0, 0, 0, 0, 0, 0, 0, 0, 0, 0, 0, 0, 0, 0, 0, 0, 0, 0, 0, 0, 0, 0, 0, 0, 0, 0, 0, 0, 0, 0, 0, 0, 0, 0, 0, 0, 0, 0, 0, 0, 0, 0, 1, 0, 0, 0, 0, 0, 0, 0, 0, 0, 0, 0, 0, 0, 0, 0, 0, 0, 0, 0, 0, 0, 0, 0, 0, 0, 0, 0, 0, 0, 0, 0, 0, 0, 0, 0, 0, 0, 0, 0, 0, 0, 0, 0, 0, 0, 0, 0, 0, 0, 0, 0, 0, 0, 0, 0, 0, 0, 0, 0, 0, 0, 0, 0, 0, 0, 0, 0, 0, 0, 0, 0, 0, 0, 0, 0, 0, 0, 0, 0, 0, 0, 0, 0, 0, 0, 0, 0, 0, 0, 0, 0, 0, 0, 0, 0, 0, 0, 0, 0, 0, 0, 0, 0, 0, 0, 0, 0, 0, 0, 0, 0, 0, 0, 0, 0, 0, 0, 0, 0, 0, 0, 0, 0, 0, 0, 0, 0, 0, 0, 0, 0, 0, 0, 0, 0, 0, 0, 0, 0, 0, 0, 0, 0, 0, 0, 0, 0, 0, 0, 0, 0, 0, 0, 0, 0, 0, 0, 0, 0, 0, 0, 0, 0, 0, 0, 0, 0, 0, 0, 0, 0, 0, 0, 0, 0, 0, 0, 0, 0, 0, 0, 0, 0, 0, 0, 0, 0, 0, 0, 0, 0, 0, 0, 0, 0, 0, 0, 0, 0, 0, 0, 0, 0, 0, 0, 0, 0, 0, 0, 0, 0, 0, 0, 0, 0, 0, 0, 0, 0, 0, 0, 0, 0, 0, 0, 0, 0, 0, 0, 0, 0, 0, 0, 0, 0, 0, 0, 0, 0, 0, 0, 0, 0, 0, 0, 0, 0, 0, 0, 0, 0, 0, 0, 0, 0, 0, 0, 0, 0, 0, 0, 0, 0, 0, 0, 0, 0, 0, 0, 0, 0, 0, 0, 0, 0, 0, 0, 0, 0, 0, 0, 0, 0, 0, 0, 0, 0, 0, 0, 0, 0, 0, 0, 0, 0, 0, 0, 0, 0, 0, 0, 0, 0, 0, 0, 0, 0, 0, 0, 0, 0, 0, 0, 0, 0, 0, 0, 0, 0, 0, 0, 0, 0, 0, 0, 0, 0, 0, 0, 0, 0, 0, 0, 0, 0, 0, 0, 0, 0, 0, 0, 0, 0, 0, 0, 0, 0, 0, 0, 0, 0, 0, 0, 0, 0, 0, 0, 0, 0, 0, 0, 0, 0, 0, 0, 0, 0, 0, 0, 0, 0, 0, 0, 0, 0, 0, 0, 0, 0, 0, 0, 0, 0, 0, 0, 0, 0, 0, 0, 0, 0, 0, 0, 0, 0, 0, 0, 0, 0, 0, 0, 0, 0, 0, 0, 0, 0, 0, 0, 0, 0, 0, 0, 0, 0, 0, 0, 0, 0, 0, 0, 0, 0, 0, 0, 0, 0, 0, 0, 0, 0, 0, 0, 0, 0, 0, 0, 0, 0, 0, 0, 0, 0, 0, 0, 0, 0, 0, 0, 0, 0, 0, 0, 0, 0, 0, 0, 0, 0, 0, 0, 0, 0, 2, 0, 1, 0]\n"
     ]
    }
   ],
   "source": [
    "test_bow = bow_encoding(test_words, vocabulary)\n",
    "print(test_bow)"
   ]
  },
  {
   "cell_type": "code",
   "execution_count": 41,
   "metadata": {},
   "outputs": [
    {
     "data": {
      "text/plain": [
       "5000"
      ]
     },
     "execution_count": 41,
     "metadata": {},
     "output_type": "execute_result"
    }
   ],
   "source": [
    "len(test_bow)"
   ]
  },
  {
   "cell_type": "markdown",
   "metadata": {},
   "source": [
    "So now we know how to construct a bag of words encoding of a user provided review, how to we send it to our endpoint? First, we need to start the endpoint back up."
   ]
  },
  {
   "cell_type": "code",
   "execution_count": 42,
   "metadata": {},
   "outputs": [
    {
     "name": "stderr",
     "output_type": "stream",
     "text": [
      "Parameter image will be renamed to image_uri in SageMaker Python SDK v2.\n",
      "Using already existing model: xgboost-2021-01-26-19-06-54-100\n"
     ]
    },
    {
     "name": "stdout",
     "output_type": "stream",
     "text": [
      "-------------!"
     ]
    }
   ],
   "source": [
    "xgb_predictor = xgb.deploy(initial_instance_count = 1, instance_type = 'ml.m4.xlarge')"
   ]
  },
  {
   "cell_type": "markdown",
   "metadata": {},
   "source": [
    "At this point we could just do the same thing that we did earlier when we tested our deployed model and send `test_bow` to our endpoint using the `xgb_predictor` object. However, when we eventually construct our Lambda function we won't have access to this object, so how do we call a SageMaker endpoint?\n",
    "\n",
    "It turns out that Python functions that are used in Lambda have access to another Amazon library called `boto3`. This library provides an API for working with Amazon services, including SageMaker. To start with, we need to get a handle to the SageMaker runtime."
   ]
  },
  {
   "cell_type": "code",
   "execution_count": 43,
   "metadata": {},
   "outputs": [],
   "source": [
    "import boto3\n",
    "\n",
    "runtime = boto3.Session().client('sagemaker-runtime')"
   ]
  },
  {
   "cell_type": "markdown",
   "metadata": {},
   "source": [
    "And now that we have access to the SageMaker runtime, we can ask it to make use of (invoke) an endpoint that has already been created. However, we need to provide SageMaker with the name of the deployed endpoint. To find this out we can print it out using the `xgb_predictor` object."
   ]
  },
  {
   "cell_type": "code",
   "execution_count": 44,
   "metadata": {},
   "outputs": [
    {
     "data": {
      "text/plain": [
       "'xgboost-2021-01-26-19-06-54-100'"
      ]
     },
     "execution_count": 44,
     "metadata": {},
     "output_type": "execute_result"
    }
   ],
   "source": [
    "xgb_predictor.endpoint"
   ]
  },
  {
   "cell_type": "markdown",
   "metadata": {},
   "source": [
    "Using the SageMaker runtime and the name of our endpoint, we can invoke the endpoint and send it the `test_bow` data."
   ]
  },
  {
   "cell_type": "code",
   "execution_count": 45,
   "metadata": {},
   "outputs": [
    {
     "ename": "ParamValidationError",
     "evalue": "Parameter validation failed:\nInvalid type for parameter Body, value: [0, 0, 0, 0, 0, 0, 0, 0, 0, 0, 0, 0, 0, 0, 0, 0, 0, 0, 0, 0, 0, 0, 0, 0, 0, 0, 0, 0, 0, 0, 0, 0, 0, 0, 0, 0, 0, 0, 0, 0, 0, 0, 0, 0, 0, 0, 0, 0, 0, 0, 0, 0, 0, 0, 0, 0, 0, 0, 0, 0, 0, 0, 0, 0, 0, 0, 0, 0, 0, 0, 0, 0, 0, 0, 0, 0, 0, 0, 0, 0, 0, 0, 0, 0, 0, 0, 0, 0, 0, 0, 0, 0, 0, 0, 0, 0, 0, 0, 0, 0, 0, 0, 0, 0, 0, 0, 0, 0, 0, 0, 0, 0, 0, 0, 0, 0, 0, 0, 0, 0, 0, 0, 0, 0, 0, 0, 0, 0, 0, 0, 0, 0, 0, 0, 0, 0, 0, 0, 0, 0, 0, 0, 0, 0, 0, 0, 0, 0, 0, 0, 0, 0, 0, 0, 0, 0, 0, 0, 0, 0, 0, 0, 0, 0, 0, 0, 0, 0, 0, 0, 0, 0, 0, 0, 0, 0, 0, 0, 0, 0, 0, 0, 0, 0, 0, 0, 0, 0, 0, 0, 0, 0, 0, 0, 0, 0, 0, 0, 0, 0, 0, 0, 0, 0, 0, 0, 0, 0, 0, 0, 0, 0, 0, 0, 0, 0, 0, 0, 0, 0, 0, 0, 0, 0, 0, 0, 1, 0, 0, 0, 0, 0, 0, 0, 0, 0, 0, 0, 0, 0, 0, 0, 0, 0, 0, 0, 0, 0, 0, 0, 0, 0, 0, 0, 0, 0, 1, 0, 0, 0, 0, 0, 0, 0, 0, 0, 0, 0, 0, 0, 0, 0, 0, 0, 0, 0, 0, 0, 0, 0, 0, 0, 0, 0, 0, 0, 0, 0, 0, 0, 0, 0, 0, 0, 0, 0, 0, 0, 0, 0, 0, 0, 0, 0, 0, 0, 0, 0, 0, 0, 0, 0, 0, 0, 0, 0, 0, 0, 0, 0, 0, 0, 0, 0, 0, 0, 0, 0, 0, 0, 0, 0, 0, 0, 0, 0, 0, 0, 0, 0, 0, 0, 0, 0, 0, 0, 0, 0, 0, 0, 0, 0, 0, 0, 0, 0, 0, 0, 0, 0, 0, 0, 0, 0, 0, 0, 0, 0, 0, 0, 0, 0, 0, 0, 0, 0, 0, 0, 0, 0, 0, 0, 0, 0, 0, 0, 0, 0, 0, 0, 0, 0, 0, 0, 0, 0, 0, 0, 0, 0, 0, 0, 0, 0, 0, 0, 0, 0, 0, 0, 0, 0, 0, 0, 0, 0, 0, 0, 0, 0, 0, 0, 0, 0, 0, 0, 0, 0, 0, 0, 0, 0, 0, 0, 0, 0, 0, 0, 0, 0, 0, 0, 0, 0, 0, 0, 0, 0, 0, 0, 0, 0, 0, 0, 0, 0, 0, 0, 0, 0, 0, 0, 0, 0, 0, 0, 0, 0, 0, 0, 0, 0, 0, 0, 0, 0, 0, 0, 0, 0, 0, 0, 0, 0, 0, 0, 0, 0, 0, 0, 0, 0, 0, 0, 0, 0, 0, 0, 0, 0, 0, 0, 0, 0, 0, 0, 0, 0, 0, 0, 0, 0, 0, 0, 0, 0, 0, 0, 0, 0, 0, 0, 0, 0, 0, 0, 0, 0, 0, 0, 0, 0, 0, 0, 0, 0, 0, 0, 0, 0, 0, 0, 0, 0, 0, 0, 0, 0, 0, 0, 0, 0, 0, 0, 0, 0, 0, 0, 0, 0, 0, 0, 0, 0, 0, 0, 0, 0, 0, 0, 0, 0, 0, 0, 0, 0, 0, 0, 0, 0, 0, 0, 0, 0, 0, 0, 0, 0, 0, 0, 0, 0, 0, 0, 0, 0, 0, 0, 0, 0, 0, 0, 0, 0, 0, 0, 0, 0, 0, 0, 0, 0, 0, 0, 0, 0, 0, 0, 0, 0, 0, 0, 0, 0, 0, 0, 0, 0, 0, 0, 0, 0, 0, 0, 0, 0, 1, 0, 0, 0, 0, 0, 0, 0, 0, 0, 0, 0, 0, 0, 0, 0, 0, 0, 0, 0, 0, 0, 0, 0, 0, 0, 0, 0, 0, 0, 0, 0, 0, 0, 0, 0, 0, 0, 0, 0, 0, 0, 0, 0, 0, 0, 0, 0, 0, 0, 0, 0, 0, 0, 0, 0, 0, 0, 0, 0, 0, 0, 0, 0, 0, 0, 0, 0, 0, 0, 0, 0, 0, 0, 0, 0, 0, 0, 0, 0, 0, 0, 0, 0, 0, 0, 0, 0, 0, 0, 0, 0, 0, 0, 0, 0, 0, 0, 0, 0, 0, 0, 0, 0, 0, 0, 0, 0, 0, 0, 0, 0, 0, 0, 0, 0, 0, 0, 0, 0, 0, 0, 0, 0, 0, 0, 0, 0, 0, 0, 0, 0, 0, 0, 0, 0, 0, 0, 0, 0, 0, 0, 0, 0, 0, 0, 0, 0, 0, 0, 0, 0, 0, 0, 0, 0, 0, 0, 0, 0, 0, 0, 0, 0, 0, 0, 0, 0, 0, 0, 0, 0, 0, 0, 0, 0, 0, 0, 0, 0, 0, 0, 0, 0, 0, 0, 0, 0, 0, 0, 0, 0, 0, 0, 0, 0, 0, 0, 0, 0, 0, 0, 0, 0, 0, 0, 0, 0, 0, 0, 0, 0, 0, 0, 0, 0, 0, 0, 0, 0, 0, 0, 0, 0, 0, 0, 0, 0, 0, 0, 0, 0, 0, 0, 0, 0, 0, 0, 0, 0, 0, 0, 0, 0, 0, 0, 0, 0, 0, 0, 0, 0, 0, 0, 1, 0, 0, 0, 0, 0, 0, 0, 0, 0, 0, 0, 0, 0, 0, 0, 0, 0, 0, 0, 0, 0, 0, 0, 0, 0, 0, 0, 0, 0, 0, 0, 0, 0, 0, 0, 0, 0, 0, 0, 0, 0, 0, 0, 0, 0, 0, 0, 0, 0, 0, 0, 0, 0, 0, 0, 0, 0, 0, 0, 0, 0, 0, 0, 0, 0, 0, 0, 0, 0, 0, 0, 0, 0, 0, 0, 0, 0, 0, 0, 0, 0, 0, 0, 0, 0, 0, 1, 0, 0, 0, 0, 0, 0, 0, 0, 0, 0, 0, 0, 0, 0, 0, 0, 0, 0, 0, 0, 0, 0, 0, 0, 0, 0, 0, 0, 0, 0, 0, 0, 0, 0, 0, 0, 0, 0, 0, 0, 0, 0, 0, 0, 0, 0, 0, 0, 0, 0, 0, 0, 0, 0, 0, 0, 0, 0, 0, 0, 0, 0, 0, 0, 0, 0, 0, 0, 0, 0, 0, 0, 0, 0, 0, 0, 0, 0, 0, 0, 0, 0, 0, 0, 0, 0, 0, 0, 0, 0, 0, 0, 0, 0, 0, 0, 0, 0, 0, 0, 0, 0, 0, 0, 0, 0, 0, 0, 0, 0, 0, 0, 0, 0, 0, 0, 0, 0, 0, 0, 0, 0, 0, 0, 0, 0, 0, 0, 0, 0, 0, 0, 0, 0, 0, 0, 0, 0, 0, 0, 0, 0, 0, 0, 0, 0, 0, 0, 0, 0, 0, 0, 0, 0, 0, 0, 0, 0, 0, 0, 0, 0, 0, 0, 0, 0, 0, 0, 0, 0, 0, 0, 0, 0, 0, 0, 0, 0, 0, 0, 0, 0, 0, 0, 0, 0, 0, 0, 0, 0, 0, 0, 0, 0, 0, 0, 0, 0, 0, 0, 0, 0, 0, 0, 0, 0, 0, 0, 0, 0, 0, 0, 0, 0, 0, 0, 0, 0, 0, 0, 0, 0, 0, 0, 0, 0, 0, 0, 0, 0, 0, 0, 0, 0, 0, 0, 0, 0, 0, 0, 0, 0, 0, 0, 0, 0, 0, 0, 0, 0, 0, 0, 1, 0, 0, 0, 0, 0, 0, 0, 0, 0, 0, 0, 0, 0, 0, 0, 0, 0, 0, 0, 0, 0, 0, 0, 0, 0, 0, 0, 0, 0, 0, 0, 0, 0, 0, 0, 0, 0, 0, 0, 0, 0, 0, 0, 0, 0, 0, 0, 0, 0, 0, 0, 0, 0, 0, 0, 1, 0, 0, 0, 0, 0, 0, 0, 0, 0, 0, 0, 0, 0, 0, 0, 0, 0, 0, 0, 0, 0, 0, 0, 0, 0, 0, 0, 0, 0, 0, 0, 0, 0, 0, 0, 0, 0, 0, 0, 0, 0, 0, 0, 0, 0, 0, 0, 0, 0, 0, 0, 0, 0, 0, 0, 0, 0, 0, 0, 0, 0, 0, 0, 0, 0, 0, 0, 0, 0, 0, 0, 0, 0, 0, 0, 0, 0, 0, 0, 0, 0, 0, 0, 0, 0, 0, 0, 0, 0, 0, 0, 0, 0, 0, 0, 0, 0, 0, 0, 0, 0, 0, 0, 0, 0, 0, 0, 0, 0, 0, 0, 0, 0, 0, 0, 0, 0, 0, 0, 0, 0, 0, 0, 0, 0, 0, 0, 0, 0, 0, 0, 0, 0, 0, 0, 0, 0, 0, 0, 0, 0, 0, 0, 0, 0, 0, 0, 0, 0, 0, 0, 0, 0, 0, 0, 0, 0, 0, 0, 0, 0, 0, 0, 0, 0, 0, 0, 0, 0, 0, 0, 0, 0, 0, 0, 0, 0, 0, 0, 0, 0, 0, 0, 0, 0, 0, 0, 0, 0, 0, 0, 0, 0, 0, 0, 0, 0, 0, 0, 0, 0, 0, 0, 0, 0, 0, 0, 0, 0, 0, 0, 0, 0, 0, 0, 0, 0, 0, 0, 0, 0, 0, 0, 0, 0, 0, 0, 0, 0, 0, 0, 0, 0, 0, 0, 0, 0, 0, 0, 0, 0, 0, 0, 0, 0, 0, 0, 0, 0, 0, 0, 0, 0, 0, 0, 0, 0, 0, 0, 0, 0, 0, 0, 0, 0, 0, 0, 0, 0, 0, 0, 0, 0, 0, 0, 0, 0, 0, 0, 0, 0, 0, 0, 0, 0, 0, 0, 0, 0, 0, 0, 0, 0, 0, 0, 0, 0, 0, 0, 0, 0, 0, 0, 0, 0, 0, 0, 0, 0, 0, 0, 0, 0, 0, 0, 0, 0, 0, 0, 0, 0, 0, 0, 0, 0, 0, 0, 0, 0, 0, 0, 0, 0, 0, 0, 0, 0, 0, 0, 0, 0, 0, 0, 0, 0, 0, 0, 0, 0, 0, 0, 0, 0, 0, 0, 0, 0, 0, 0, 0, 0, 0, 0, 0, 0, 0, 0, 0, 0, 0, 0, 0, 0, 0, 0, 0, 0, 0, 0, 0, 0, 0, 0, 0, 0, 0, 0, 0, 0, 0, 0, 0, 0, 0, 0, 0, 0, 0, 0, 0, 0, 0, 0, 0, 0, 0, 0, 0, 0, 0, 0, 0, 0, 0, 0, 0, 0, 0, 0, 0, 0, 0, 0, 0, 0, 0, 0, 0, 0, 0, 0, 0, 0, 0, 0, 0, 0, 0, 0, 0, 0, 0, 0, 0, 0, 0, 0, 0, 0, 0, 0, 0, 0, 0, 0, 0, 0, 0, 0, 0, 0, 0, 0, 0, 0, 0, 0, 0, 0, 0, 0, 0, 0, 0, 0, 0, 0, 0, 0, 0, 0, 0, 0, 0, 0, 0, 0, 0, 0, 0, 0, 0, 0, 0, 0, 0, 0, 0, 0, 0, 0, 0, 0, 0, 0, 0, 0, 0, 0, 0, 0, 0, 0, 0, 0, 0, 0, 0, 0, 0, 0, 0, 0, 0, 0, 0, 0, 0, 0, 0, 0, 0, 0, 0, 0, 0, 0, 0, 0, 0, 0, 0, 0, 0, 0, 0, 0, 0, 0, 0, 0, 0, 0, 0, 0, 0, 0, 0, 0, 0, 0, 0, 0, 0, 0, 0, 0, 0, 0, 0, 0, 0, 0, 0, 0, 0, 0, 0, 0, 0, 0, 0, 0, 0, 0, 0, 0, 0, 0, 0, 0, 0, 0, 0, 0, 0, 0, 0, 0, 0, 0, 0, 0, 0, 0, 0, 0, 0, 0, 0, 0, 0, 0, 0, 0, 0, 0, 0, 0, 0, 0, 0, 0, 0, 0, 0, 0, 0, 0, 0, 0, 0, 0, 0, 0, 0, 0, 0, 0, 0, 0, 0, 0, 0, 0, 0, 0, 0, 0, 0, 0, 0, 0, 0, 0, 0, 0, 0, 0, 0, 0, 0, 0, 0, 0, 0, 0, 0, 0, 0, 0, 0, 0, 0, 0, 0, 0, 0, 0, 0, 0, 1, 0, 0, 0, 0, 0, 0, 0, 0, 0, 0, 0, 0, 0, 0, 0, 0, 0, 0, 0, 0, 0, 0, 0, 0, 0, 0, 0, 0, 0, 0, 0, 0, 0, 0, 0, 0, 0, 0, 0, 0, 0, 0, 0, 0, 0, 0, 0, 0, 0, 0, 0, 0, 0, 0, 0, 0, 0, 0, 0, 0, 0, 0, 0, 0, 0, 0, 0, 0, 0, 0, 0, 0, 0, 0, 1, 0, 0, 0, 0, 0, 0, 0, 0, 0, 0, 0, 0, 0, 0, 0, 0, 0, 0, 0, 0, 1, 0, 0, 1, 0, 0, 0, 0, 0, 0, 0, 0, 0, 0, 0, 0, 0, 0, 0, 0, 0, 0, 0, 0, 0, 0, 0, 0, 0, 0, 0, 0, 0, 0, 0, 0, 0, 0, 0, 0, 0, 0, 0, 0, 0, 0, 0, 0, 0, 0, 0, 0, 0, 0, 0, 0, 0, 0, 0, 0, 0, 0, 0, 0, 0, 0, 0, 0, 0, 0, 0, 0, 0, 0, 0, 0, 0, 0, 0, 0, 0, 0, 0, 0, 0, 0, 0, 0, 0, 0, 0, 0, 0, 0, 0, 0, 0, 0, 0, 0, 0, 0, 0, 0, 0, 0, 0, 0, 0, 0, 0, 0, 0, 0, 0, 0, 0, 0, 0, 0, 0, 0, 0, 0, 0, 0, 0, 0, 0, 0, 0, 0, 0, 0, 0, 0, 0, 0, 0, 0, 0, 0, 0, 0, 0, 0, 0, 0, 0, 0, 0, 0, 0, 0, 0, 0, 0, 0, 0, 0, 0, 0, 0, 0, 0, 0, 0, 0, 0, 0, 0, 0, 0, 0, 0, 0, 0, 0, 0, 0, 0, 0, 0, 0, 0, 0, 0, 0, 0, 0, 0, 0, 0, 0, 0, 0, 0, 0, 0, 0, 0, 0, 0, 0, 0, 0, 0, 0, 0, 0, 0, 0, 0, 0, 0, 0, 0, 0, 0, 0, 0, 0, 0, 0, 0, 0, 0, 0, 0, 0, 0, 0, 0, 0, 0, 0, 0, 0, 0, 0, 0, 0, 0, 0, 0, 0, 0, 0, 0, 0, 0, 0, 0, 0, 0, 0, 0, 0, 0, 0, 0, 0, 0, 0, 0, 0, 0, 0, 0, 0, 0, 0, 0, 0, 0, 0, 0, 0, 0, 0, 0, 0, 0, 0, 0, 0, 0, 0, 0, 0, 0, 0, 0, 0, 0, 0, 0, 0, 0, 0, 0, 0, 0, 0, 0, 0, 0, 0, 0, 0, 0, 0, 0, 0, 0, 0, 0, 0, 0, 0, 0, 0, 0, 0, 0, 0, 0, 0, 0, 0, 0, 0, 0, 0, 0, 0, 0, 0, 0, 0, 0, 0, 0, 0, 0, 0, 0, 0, 0, 0, 0, 0, 0, 0, 0, 0, 0, 0, 0, 0, 0, 0, 0, 0, 0, 0, 0, 0, 0, 0, 0, 0, 0, 0, 0, 0, 0, 0, 0, 0, 0, 0, 0, 0, 0, 0, 0, 0, 0, 0, 0, 0, 0, 0, 0, 0, 0, 0, 0, 0, 0, 0, 0, 0, 0, 0, 0, 0, 0, 0, 0, 0, 0, 0, 0, 0, 0, 0, 0, 0, 0, 0, 0, 0, 0, 0, 0, 0, 0, 0, 0, 0, 0, 0, 0, 0, 0, 0, 0, 0, 0, 0, 0, 0, 0, 0, 0, 0, 0, 0, 0, 0, 0, 0, 0, 0, 0, 0, 0, 0, 0, 0, 0, 0, 0, 0, 0, 0, 0, 0, 1, 0, 0, 0, 0, 0, 0, 0, 0, 0, 0, 0, 0, 0, 0, 0, 0, 0, 0, 0, 0, 0, 0, 0, 0, 0, 0, 0, 0, 0, 0, 0, 0, 0, 0, 0, 0, 0, 0, 0, 0, 0, 0, 0, 0, 0, 0, 0, 0, 0, 0, 0, 0, 0, 0, 0, 0, 0, 0, 0, 0, 0, 0, 0, 0, 0, 0, 0, 0, 0, 0, 0, 0, 0, 0, 0, 0, 0, 0, 0, 0, 0, 0, 0, 0, 0, 0, 0, 0, 0, 0, 0, 0, 0, 0, 0, 0, 0, 0, 0, 0, 0, 0, 0, 0, 0, 0, 0, 0, 0, 0, 0, 0, 0, 0, 0, 0, 0, 0, 0, 0, 0, 0, 0, 0, 0, 0, 0, 0, 0, 0, 0, 0, 0, 0, 0, 0, 0, 0, 0, 0, 0, 0, 0, 0, 0, 0, 0, 0, 0, 0, 0, 0, 0, 0, 0, 0, 0, 0, 0, 0, 0, 0, 0, 0, 0, 0, 0, 0, 0, 0, 0, 0, 0, 0, 0, 0, 0, 0, 0, 0, 0, 0, 0, 0, 0, 0, 0, 0, 0, 0, 0, 0, 0, 0, 0, 0, 0, 0, 0, 0, 0, 0, 0, 0, 0, 0, 0, 0, 0, 0, 0, 0, 0, 0, 0, 0, 0, 0, 0, 0, 0, 0, 0, 0, 0, 0, 0, 0, 0, 0, 0, 0, 0, 0, 0, 0, 0, 0, 0, 0, 0, 0, 0, 0, 0, 0, 0, 0, 0, 0, 0, 0, 0, 0, 0, 0, 0, 0, 0, 0, 0, 0, 0, 0, 0, 0, 0, 0, 0, 0, 0, 0, 0, 0, 0, 0, 0, 0, 0, 0, 0, 0, 0, 0, 0, 0, 0, 0, 0, 0, 0, 0, 0, 0, 0, 0, 0, 0, 0, 0, 0, 0, 0, 0, 0, 0, 0, 0, 0, 0, 0, 0, 0, 0, 0, 0, 0, 0, 0, 0, 0, 0, 0, 0, 0, 0, 0, 0, 0, 0, 0, 0, 0, 0, 0, 0, 0, 0, 0, 0, 0, 0, 0, 0, 0, 0, 0, 0, 0, 0, 0, 0, 0, 0, 0, 0, 0, 0, 0, 0, 0, 0, 0, 0, 0, 0, 0, 0, 0, 0, 0, 0, 0, 0, 0, 0, 0, 0, 0, 0, 0, 0, 0, 0, 0, 0, 0, 0, 0, 0, 0, 0, 0, 0, 0, 0, 0, 0, 0, 0, 0, 0, 0, 0, 0, 0, 0, 0, 0, 0, 0, 0, 0, 0, 0, 0, 0, 0, 0, 0, 0, 0, 0, 0, 0, 0, 0, 0, 0, 0, 0, 0, 0, 0, 0, 0, 0, 0, 0, 0, 0, 0, 0, 0, 0, 0, 0, 0, 0, 0, 0, 0, 0, 0, 0, 0, 0, 0, 0, 0, 0, 0, 0, 0, 0, 0, 0, 0, 0, 0, 0, 0, 0, 0, 0, 0, 0, 0, 0, 0, 0, 0, 0, 0, 0, 0, 0, 0, 0, 0, 0, 0, 0, 0, 0, 0, 0, 0, 0, 0, 0, 0, 0, 0, 0, 0, 0, 0, 0, 0, 0, 0, 1, 0, 0, 0, 0, 0, 0, 0, 0, 0, 0, 0, 0, 0, 0, 0, 0, 0, 0, 0, 0, 0, 0, 0, 0, 0, 0, 0, 0, 0, 0, 0, 0, 0, 0, 0, 2, 0, 0, 0, 0, 0, 0, 0, 0, 0, 0, 0, 0, 0, 0, 0, 0, 0, 0, 0, 0, 0, 0, 0, 0, 0, 0, 0, 0, 0, 0, 0, 0, 0, 0, 0, 0, 0, 0, 0, 0, 1, 0, 0, 0, 0, 0, 0, 0, 0, 0, 0, 0, 0, 0, 0, 0, 0, 0, 0, 0, 0, 0, 0, 0, 0, 0, 0, 0, 0, 0, 0, 0, 0, 0, 0, 0, 0, 0, 0, 0, 0, 0, 0, 0, 0, 0, 0, 0, 0, 0, 0, 0, 0, 0, 0, 0, 0, 0, 0, 0, 0, 0, 0, 0, 0, 0, 0, 0, 0, 0, 0, 0, 0, 0, 0, 0, 0, 0, 0, 0, 0, 0, 0, 0, 0, 0, 0, 0, 0, 0, 0, 0, 0, 0, 0, 0, 0, 0, 0, 0, 0, 0, 0, 0, 0, 0, 0, 0, 0, 0, 0, 0, 0, 0, 0, 0, 0, 0, 0, 0, 0, 0, 0, 0, 0, 0, 0, 0, 0, 0, 0, 0, 0, 0, 0, 0, 0, 0, 0, 0, 0, 0, 0, 0, 0, 0, 0, 0, 0, 0, 0, 0, 0, 0, 0, 0, 0, 0, 0, 0, 0, 0, 0, 0, 0, 0, 0, 0, 0, 0, 0, 0, 0, 0, 0, 0, 0, 0, 0, 0, 0, 0, 0, 0, 0, 0, 0, 0, 0, 0, 0, 0, 0, 0, 0, 0, 0, 0, 0, 0, 0, 0, 0, 0, 0, 0, 0, 0, 0, 0, 0, 0, 0, 0, 0, 0, 0, 0, 0, 0, 0, 0, 0, 0, 0, 0, 0, 0, 0, 0, 0, 0, 0, 0, 0, 0, 0, 0, 0, 0, 0, 0, 0, 0, 0, 0, 0, 0, 0, 0, 0, 0, 0, 0, 0, 0, 0, 0, 0, 0, 0, 0, 0, 0, 0, 0, 0, 0, 0, 0, 0, 0, 0, 0, 0, 0, 0, 0, 0, 0, 0, 0, 0, 0, 0, 0, 0, 0, 0, 0, 0, 0, 0, 0, 0, 0, 0, 0, 0, 0, 0, 0, 0, 0, 0, 0, 0, 0, 0, 0, 0, 0, 0, 0, 0, 0, 0, 0, 0, 0, 0, 0, 0, 0, 0, 0, 0, 0, 0, 0, 0, 0, 0, 0, 0, 0, 0, 0, 0, 0, 0, 0, 0, 0, 0, 0, 0, 0, 0, 0, 0, 0, 0, 0, 0, 0, 0, 0, 0, 0, 0, 0, 0, 0, 0, 0, 0, 0, 0, 0, 0, 0, 0, 0, 0, 0, 0, 0, 0, 0, 0, 0, 0, 0, 0, 0, 0, 0, 0, 0, 0, 0, 0, 0, 0, 0, 0, 0, 0, 0, 0, 0, 0, 0, 0, 0, 0, 0, 0, 0, 0, 0, 0, 0, 0, 0, 0, 0, 0, 0, 0, 0, 0, 0, 0, 0, 0, 0, 0, 0, 0, 0, 0, 0, 0, 0, 0, 0, 0, 0, 0, 0, 0, 0, 0, 0, 0, 0, 0, 0, 0, 0, 0, 0, 0, 0, 0, 0, 0, 0, 0, 0, 0, 0, 0, 0, 0, 0, 0, 0, 0, 0, 0, 0, 0, 0, 0, 0, 0, 0, 0, 0, 0, 0, 0, 0, 0, 0, 0, 0, 0, 0, 0, 0, 0, 0, 0, 0, 1, 0, 0, 0, 0, 0, 0, 0, 0, 0, 0, 0, 0, 0, 0, 0, 0, 0, 0, 0, 0, 0, 0, 0, 0, 0, 0, 0, 0, 0, 0, 0, 0, 0, 0, 0, 0, 0, 0, 0, 0, 0, 0, 0, 0, 0, 0, 0, 0, 0, 0, 0, 0, 0, 0, 0, 0, 0, 0, 0, 0, 0, 0, 0, 0, 0, 0, 0, 0, 0, 0, 0, 0, 0, 0, 0, 0, 0, 0, 0, 0, 0, 0, 0, 0, 0, 0, 0, 0, 0, 0, 0, 0, 0, 0, 0, 0, 0, 0, 0, 0, 0, 0, 0, 0, 0, 0, 0, 0, 0, 0, 2, 0, 0, 0, 0, 0, 0, 0, 0, 0, 0, 0, 0, 0, 0, 0, 0, 0, 0, 0, 0, 0, 0, 0, 0, 0, 0, 0, 0, 0, 0, 0, 0, 0, 0, 0, 0, 0, 0, 0, 0, 0, 0, 0, 0, 0, 0, 0, 0, 0, 0, 0, 0, 0, 0, 0, 0, 0, 0, 0, 0, 0, 0, 0, 0, 0, 0, 0, 0, 0, 0, 0, 0, 0, 0, 0, 0, 0, 0, 0, 0, 0, 0, 0, 0, 0, 0, 0, 0, 0, 0, 0, 0, 0, 0, 0, 0, 0, 0, 0, 0, 0, 0, 0, 0, 0, 0, 0, 0, 0, 0, 0, 0, 0, 0, 0, 0, 0, 0, 0, 0, 0, 0, 0, 0, 0, 0, 0, 0, 0, 0, 0, 0, 0, 0, 0, 0, 0, 0, 0, 0, 0, 0, 0, 0, 0, 0, 0, 0, 0, 0, 0, 0, 0, 0, 0, 0, 0, 0, 0, 0, 0, 0, 0, 0, 0, 0, 0, 0, 0, 0, 0, 0, 0, 0, 0, 0, 0, 0, 0, 0, 0, 0, 0, 0, 0, 0, 0, 0, 0, 0, 0, 0, 0, 0, 0, 0, 0, 0, 0, 0, 0, 0, 0, 0, 0, 0, 0, 0, 0, 0, 0, 0, 0, 0, 0, 0, 0, 0, 0, 0, 0, 0, 0, 0, 0, 0, 0, 0, 0, 0, 0, 0, 0, 0, 0, 0, 0, 0, 0, 0, 0, 0, 0, 0, 0, 0, 0, 0, 0, 0, 0, 0, 0, 0, 0, 0, 0, 0, 0, 0, 0, 0, 0, 0, 0, 0, 0, 0, 0, 0, 0, 0, 0, 0, 0, 0, 0, 0, 0, 0, 0, 0, 0, 0, 0, 0, 0, 0, 0, 0, 0, 0, 0, 0, 0, 0, 0, 0, 0, 0, 0, 0, 0, 0, 0, 0, 0, 0, 0, 0, 0, 0, 0, 0, 0, 0, 0, 0, 0, 0, 0, 0, 0, 0, 0, 0, 0, 0, 0, 0, 0, 0, 0, 0, 0, 0, 0, 0, 0, 0, 0, 0, 0, 0, 0, 0, 0, 0, 0, 0, 0, 0, 0, 0, 0, 0, 0, 0, 0, 0, 0, 0, 0, 0, 0, 0, 0, 0, 0, 0, 0, 0, 0, 0, 0, 0, 0, 0, 0, 0, 0, 0, 0, 0, 0, 0, 0, 0, 0, 0, 0, 0, 0, 0, 0, 0, 0, 0, 0, 0, 0, 0, 0, 0, 0, 0, 0, 0, 0, 0, 0, 0, 0, 0, 0, 0, 0, 0, 0, 0, 0, 0, 0, 0, 0, 0, 0, 0, 0, 0, 0, 0, 0, 0, 0, 0, 0, 0, 0, 0, 0, 0, 0, 0, 0, 0, 0, 0, 0, 0, 0, 0, 0, 0, 0, 0, 0, 0, 0, 0, 0, 0, 0, 0, 0, 0, 0, 0, 0, 0, 0, 0, 0, 0, 0, 0, 0, 0, 0, 0, 0, 0, 0, 0, 0, 0, 0, 0, 0, 0, 0, 0, 0, 0, 0, 0, 0, 0, 0, 0, 0, 0, 0, 0, 0, 0, 0, 0, 0, 0, 0, 0, 0, 0, 0, 0, 0, 0, 0, 0, 0, 0, 0, 0, 0, 0, 0, 0, 0, 0, 0, 0, 0, 0, 0, 0, 0, 0, 0, 0, 0, 0, 0, 0, 0, 0, 0, 0, 0, 0, 0, 0, 0, 0, 0, 0, 0, 0, 0, 0, 0, 0, 0, 0, 0, 0, 0, 0, 0, 0, 0, 0, 0, 0, 0, 0, 0, 0, 0, 0, 0, 0, 0, 0, 0, 0, 0, 0, 0, 0, 0, 0, 0, 0, 0, 0, 0, 0, 0, 0, 0, 0, 0, 0, 0, 0, 0, 0, 0, 0, 0, 0, 0, 0, 0, 0, 0, 0, 0, 0, 0, 0, 0, 0, 0, 0, 0, 0, 0, 0, 0, 0, 0, 0, 0, 0, 0, 0, 0, 0, 0, 0, 0, 0, 0, 0, 0, 0, 0, 0, 0, 0, 0, 0, 0, 0, 0, 0, 0, 0, 0, 0, 0, 0, 0, 0, 0, 0, 0, 0, 0, 0, 0, 0, 0, 0, 0, 0, 0, 0, 0, 0, 0, 0, 0, 0, 0, 0, 0, 0, 1, 0, 0, 0, 0, 0, 0, 0, 0, 0, 0, 0, 0, 0, 0, 0, 0, 0, 0, 0, 0, 0, 0, 0, 0, 0, 0, 0, 0, 0, 0, 0, 0, 0, 0, 0, 0, 0, 0, 0, 0, 0, 0, 0, 0, 0, 0, 0, 0, 0, 0, 0, 0, 0, 0, 0, 0, 0, 0, 0, 0, 0, 0, 0, 0, 0, 0, 0, 0, 0, 0, 0, 0, 0, 0, 0, 0, 0, 0, 0, 0, 0, 0, 0, 0, 0, 0, 0, 0, 0, 0, 0, 0, 0, 0, 0, 0, 0, 0, 0, 0, 0, 0, 0, 0, 0, 0, 0, 1, 0, 0, 0, 0, 0, 0, 0, 0, 0, 0, 0, 0, 0, 0, 0, 0, 0, 0, 0, 0, 0, 0, 0, 0, 0, 0, 0, 0, 0, 0, 0, 0, 0, 0, 0, 0, 0, 0, 0, 0, 0, 0, 0, 0, 0, 0, 0, 0, 0, 0, 0, 0, 0, 0, 0, 0, 0, 0, 0, 0, 0, 0, 0, 0, 0, 0, 0, 0, 0, 0, 0, 0, 0, 0, 0, 0, 0, 0, 0, 0, 0, 0, 0, 0, 0, 0, 0, 0, 0, 0, 0, 0, 0, 0, 0, 0, 0, 0, 0, 0, 0, 0, 0, 0, 0, 0, 0, 0, 0, 0, 0, 0, 0, 0, 0, 0, 0, 0, 0, 0, 0, 0, 0, 0, 0, 0, 0, 0, 0, 0, 0, 0, 0, 0, 0, 0, 0, 0, 0, 0, 0, 0, 0, 0, 0, 0, 0, 0, 0, 0, 0, 0, 0, 0, 0, 0, 0, 0, 0, 0, 0, 0, 0, 0, 0, 0, 0, 0, 0, 0, 0, 0, 0, 0, 0, 0, 0, 0, 0, 0, 0, 0, 0, 0, 0, 0, 0, 0, 0, 0, 0, 0, 0, 0, 0, 0, 0, 0, 0, 0, 0, 0, 0, 0, 0, 0, 0, 0, 0, 0, 0, 0, 0, 0, 0, 0, 0, 0, 0, 0, 0, 0, 0, 0, 0, 0, 0, 0, 0, 0, 0, 0, 0, 0, 0, 0, 0, 0, 0, 0, 0, 0, 0, 0, 0, 0, 0, 0, 0, 0, 0, 0, 0, 0, 0, 0, 0, 0, 0, 0, 0, 0, 0, 0, 0, 0, 0, 0, 0, 0, 0, 0, 0, 0, 0, 0, 0, 0, 0, 0, 0, 0, 0, 0, 0, 0, 0, 0, 0, 0, 0, 0, 0, 0, 0, 0, 0, 0, 0, 0, 0, 0, 0, 0, 0, 0, 0, 0, 0, 0, 0, 0, 0, 0, 0, 0, 0, 0, 0, 0, 0, 0, 0, 0, 0, 0, 0, 0, 0, 0, 0, 0, 0, 0, 0, 0, 0, 0, 0, 0, 0, 0, 0, 0, 0, 0, 0, 0, 0, 0, 0, 0, 0, 0, 0, 0, 0, 0, 0, 0, 0, 0, 0, 0, 0, 0, 0, 0, 0, 0, 0, 0, 0, 0, 0, 0, 0, 0, 0, 0, 0, 0, 0, 0, 0, 0, 0, 0, 0, 0, 0, 0, 0, 0, 0, 0, 0, 0, 0, 0, 0, 0, 0, 0, 0, 0, 0, 0, 0, 0, 0, 0, 0, 0, 0, 0, 0, 0, 0, 0, 0, 0, 0, 0, 0, 0, 0, 0, 0, 0, 0, 0, 0, 0, 0, 0, 0, 0, 0, 0, 0, 0, 0, 0, 0, 0, 0, 0, 0, 0, 0, 0, 0, 0, 0, 0, 0, 0, 0, 0, 0, 0, 0, 2, 0, 1, 0], type: <class 'list'>, valid types: <class 'bytes'>, <class 'bytearray'>, file-like object",
     "output_type": "error",
     "traceback": [
      "\u001b[0;31m---------------------------------------------------------------------------\u001b[0m",
      "\u001b[0;31mParamValidationError\u001b[0m                      Traceback (most recent call last)",
      "\u001b[0;32m<ipython-input-45-c9ab54ae3a48>\u001b[0m in \u001b[0;36m<module>\u001b[0;34m\u001b[0m\n\u001b[1;32m      1\u001b[0m response = runtime.invoke_endpoint(EndpointName = xgb_predictor.endpoint, # The name of the endpoint we created\n\u001b[1;32m      2\u001b[0m                                        \u001b[0mContentType\u001b[0m \u001b[0;34m=\u001b[0m \u001b[0;34m'text/csv'\u001b[0m\u001b[0;34m,\u001b[0m                     \u001b[0;31m# The data format that is expected\u001b[0m\u001b[0;34m\u001b[0m\u001b[0;34m\u001b[0m\u001b[0m\n\u001b[0;32m----> 3\u001b[0;31m                                        Body = test_bow)\n\u001b[0m",
      "\u001b[0;32m~/anaconda3/envs/python3/lib/python3.6/site-packages/botocore/client.py\u001b[0m in \u001b[0;36m_api_call\u001b[0;34m(self, *args, **kwargs)\u001b[0m\n\u001b[1;32m    355\u001b[0m                     \"%s() only accepts keyword arguments.\" % py_operation_name)\n\u001b[1;32m    356\u001b[0m             \u001b[0;31m# The \"self\" in this scope is referring to the BaseClient.\u001b[0m\u001b[0;34m\u001b[0m\u001b[0;34m\u001b[0m\u001b[0;34m\u001b[0m\u001b[0m\n\u001b[0;32m--> 357\u001b[0;31m             \u001b[0;32mreturn\u001b[0m \u001b[0mself\u001b[0m\u001b[0;34m.\u001b[0m\u001b[0m_make_api_call\u001b[0m\u001b[0;34m(\u001b[0m\u001b[0moperation_name\u001b[0m\u001b[0;34m,\u001b[0m \u001b[0mkwargs\u001b[0m\u001b[0;34m)\u001b[0m\u001b[0;34m\u001b[0m\u001b[0;34m\u001b[0m\u001b[0m\n\u001b[0m\u001b[1;32m    358\u001b[0m \u001b[0;34m\u001b[0m\u001b[0m\n\u001b[1;32m    359\u001b[0m         \u001b[0m_api_call\u001b[0m\u001b[0;34m.\u001b[0m\u001b[0m__name__\u001b[0m \u001b[0;34m=\u001b[0m \u001b[0mstr\u001b[0m\u001b[0;34m(\u001b[0m\u001b[0mpy_operation_name\u001b[0m\u001b[0;34m)\u001b[0m\u001b[0;34m\u001b[0m\u001b[0;34m\u001b[0m\u001b[0m\n",
      "\u001b[0;32m~/anaconda3/envs/python3/lib/python3.6/site-packages/botocore/client.py\u001b[0m in \u001b[0;36m_make_api_call\u001b[0;34m(self, operation_name, api_params)\u001b[0m\n\u001b[1;32m    647\u001b[0m         }\n\u001b[1;32m    648\u001b[0m         request_dict = self._convert_to_request_dict(\n\u001b[0;32m--> 649\u001b[0;31m             api_params, operation_model, context=request_context)\n\u001b[0m\u001b[1;32m    650\u001b[0m \u001b[0;34m\u001b[0m\u001b[0m\n\u001b[1;32m    651\u001b[0m         \u001b[0mservice_id\u001b[0m \u001b[0;34m=\u001b[0m \u001b[0mself\u001b[0m\u001b[0;34m.\u001b[0m\u001b[0m_service_model\u001b[0m\u001b[0;34m.\u001b[0m\u001b[0mservice_id\u001b[0m\u001b[0;34m.\u001b[0m\u001b[0mhyphenize\u001b[0m\u001b[0;34m(\u001b[0m\u001b[0;34m)\u001b[0m\u001b[0;34m\u001b[0m\u001b[0;34m\u001b[0m\u001b[0m\n",
      "\u001b[0;32m~/anaconda3/envs/python3/lib/python3.6/site-packages/botocore/client.py\u001b[0m in \u001b[0;36m_convert_to_request_dict\u001b[0;34m(self, api_params, operation_model, context)\u001b[0m\n\u001b[1;32m    695\u001b[0m             api_params, operation_model, context)\n\u001b[1;32m    696\u001b[0m         request_dict = self._serializer.serialize_to_request(\n\u001b[0;32m--> 697\u001b[0;31m             api_params, operation_model)\n\u001b[0m\u001b[1;32m    698\u001b[0m         \u001b[0;32mif\u001b[0m \u001b[0;32mnot\u001b[0m \u001b[0mself\u001b[0m\u001b[0;34m.\u001b[0m\u001b[0m_client_config\u001b[0m\u001b[0;34m.\u001b[0m\u001b[0minject_host_prefix\u001b[0m\u001b[0;34m:\u001b[0m\u001b[0;34m\u001b[0m\u001b[0;34m\u001b[0m\u001b[0m\n\u001b[1;32m    699\u001b[0m             \u001b[0mrequest_dict\u001b[0m\u001b[0;34m.\u001b[0m\u001b[0mpop\u001b[0m\u001b[0;34m(\u001b[0m\u001b[0;34m'host_prefix'\u001b[0m\u001b[0;34m,\u001b[0m \u001b[0;32mNone\u001b[0m\u001b[0;34m)\u001b[0m\u001b[0;34m\u001b[0m\u001b[0;34m\u001b[0m\u001b[0m\n",
      "\u001b[0;32m~/anaconda3/envs/python3/lib/python3.6/site-packages/botocore/validate.py\u001b[0m in \u001b[0;36mserialize_to_request\u001b[0;34m(self, parameters, operation_model)\u001b[0m\n\u001b[1;32m    295\u001b[0m                                                     operation_model.input_shape)\n\u001b[1;32m    296\u001b[0m             \u001b[0;32mif\u001b[0m \u001b[0mreport\u001b[0m\u001b[0;34m.\u001b[0m\u001b[0mhas_errors\u001b[0m\u001b[0;34m(\u001b[0m\u001b[0;34m)\u001b[0m\u001b[0;34m:\u001b[0m\u001b[0;34m\u001b[0m\u001b[0;34m\u001b[0m\u001b[0m\n\u001b[0;32m--> 297\u001b[0;31m                 \u001b[0;32mraise\u001b[0m \u001b[0mParamValidationError\u001b[0m\u001b[0;34m(\u001b[0m\u001b[0mreport\u001b[0m\u001b[0;34m=\u001b[0m\u001b[0mreport\u001b[0m\u001b[0;34m.\u001b[0m\u001b[0mgenerate_report\u001b[0m\u001b[0;34m(\u001b[0m\u001b[0;34m)\u001b[0m\u001b[0;34m)\u001b[0m\u001b[0;34m\u001b[0m\u001b[0;34m\u001b[0m\u001b[0m\n\u001b[0m\u001b[1;32m    298\u001b[0m         return self._serializer.serialize_to_request(parameters,\n\u001b[1;32m    299\u001b[0m                                                      operation_model)\n",
      "\u001b[0;31mParamValidationError\u001b[0m: Parameter validation failed:\nInvalid type for parameter Body, value: [0, 0, 0, 0, 0, 0, 0, 0, 0, 0, 0, 0, 0, 0, 0, 0, 0, 0, 0, 0, 0, 0, 0, 0, 0, 0, 0, 0, 0, 0, 0, 0, 0, 0, 0, 0, 0, 0, 0, 0, 0, 0, 0, 0, 0, 0, 0, 0, 0, 0, 0, 0, 0, 0, 0, 0, 0, 0, 0, 0, 0, 0, 0, 0, 0, 0, 0, 0, 0, 0, 0, 0, 0, 0, 0, 0, 0, 0, 0, 0, 0, 0, 0, 0, 0, 0, 0, 0, 0, 0, 0, 0, 0, 0, 0, 0, 0, 0, 0, 0, 0, 0, 0, 0, 0, 0, 0, 0, 0, 0, 0, 0, 0, 0, 0, 0, 0, 0, 0, 0, 0, 0, 0, 0, 0, 0, 0, 0, 0, 0, 0, 0, 0, 0, 0, 0, 0, 0, 0, 0, 0, 0, 0, 0, 0, 0, 0, 0, 0, 0, 0, 0, 0, 0, 0, 0, 0, 0, 0, 0, 0, 0, 0, 0, 0, 0, 0, 0, 0, 0, 0, 0, 0, 0, 0, 0, 0, 0, 0, 0, 0, 0, 0, 0, 0, 0, 0, 0, 0, 0, 0, 0, 0, 0, 0, 0, 0, 0, 0, 0, 0, 0, 0, 0, 0, 0, 0, 0, 0, 0, 0, 0, 0, 0, 0, 0, 0, 0, 0, 0, 0, 0, 0, 0, 0, 0, 1, 0, 0, 0, 0, 0, 0, 0, 0, 0, 0, 0, 0, 0, 0, 0, 0, 0, 0, 0, 0, 0, 0, 0, 0, 0, 0, 0, 0, 0, 1, 0, 0, 0, 0, 0, 0, 0, 0, 0, 0, 0, 0, 0, 0, 0, 0, 0, 0, 0, 0, 0, 0, 0, 0, 0, 0, 0, 0, 0, 0, 0, 0, 0, 0, 0, 0, 0, 0, 0, 0, 0, 0, 0, 0, 0, 0, 0, 0, 0, 0, 0, 0, 0, 0, 0, 0, 0, 0, 0, 0, 0, 0, 0, 0, 0, 0, 0, 0, 0, 0, 0, 0, 0, 0, 0, 0, 0, 0, 0, 0, 0, 0, 0, 0, 0, 0, 0, 0, 0, 0, 0, 0, 0, 0, 0, 0, 0, 0, 0, 0, 0, 0, 0, 0, 0, 0, 0, 0, 0, 0, 0, 0, 0, 0, 0, 0, 0, 0, 0, 0, 0, 0, 0, 0, 0, 0, 0, 0, 0, 0, 0, 0, 0, 0, 0, 0, 0, 0, 0, 0, 0, 0, 0, 0, 0, 0, 0, 0, 0, 0, 0, 0, 0, 0, 0, 0, 0, 0, 0, 0, 0, 0, 0, 0, 0, 0, 0, 0, 0, 0, 0, 0, 0, 0, 0, 0, 0, 0, 0, 0, 0, 0, 0, 0, 0, 0, 0, 0, 0, 0, 0, 0, 0, 0, 0, 0, 0, 0, 0, 0, 0, 0, 0, 0, 0, 0, 0, 0, 0, 0, 0, 0, 0, 0, 0, 0, 0, 0, 0, 0, 0, 0, 0, 0, 0, 0, 0, 0, 0, 0, 0, 0, 0, 0, 0, 0, 0, 0, 0, 0, 0, 0, 0, 0, 0, 0, 0, 0, 0, 0, 0, 0, 0, 0, 0, 0, 0, 0, 0, 0, 0, 0, 0, 0, 0, 0, 0, 0, 0, 0, 0, 0, 0, 0, 0, 0, 0, 0, 0, 0, 0, 0, 0, 0, 0, 0, 0, 0, 0, 0, 0, 0, 0, 0, 0, 0, 0, 0, 0, 0, 0, 0, 0, 0, 0, 0, 0, 0, 0, 0, 0, 0, 0, 0, 0, 0, 0, 0, 0, 0, 0, 0, 0, 0, 0, 0, 0, 0, 0, 0, 0, 0, 0, 0, 0, 0, 0, 0, 0, 0, 0, 0, 0, 0, 0, 0, 0, 0, 0, 0, 0, 0, 0, 0, 0, 0, 0, 0, 0, 0, 0, 0, 0, 0, 0, 0, 0, 0, 0, 0, 0, 0, 0, 0, 0, 0, 0, 0, 0, 1, 0, 0, 0, 0, 0, 0, 0, 0, 0, 0, 0, 0, 0, 0, 0, 0, 0, 0, 0, 0, 0, 0, 0, 0, 0, 0, 0, 0, 0, 0, 0, 0, 0, 0, 0, 0, 0, 0, 0, 0, 0, 0, 0, 0, 0, 0, 0, 0, 0, 0, 0, 0, 0, 0, 0, 0, 0, 0, 0, 0, 0, 0, 0, 0, 0, 0, 0, 0, 0, 0, 0, 0, 0, 0, 0, 0, 0, 0, 0, 0, 0, 0, 0, 0, 0, 0, 0, 0, 0, 0, 0, 0, 0, 0, 0, 0, 0, 0, 0, 0, 0, 0, 0, 0, 0, 0, 0, 0, 0, 0, 0, 0, 0, 0, 0, 0, 0, 0, 0, 0, 0, 0, 0, 0, 0, 0, 0, 0, 0, 0, 0, 0, 0, 0, 0, 0, 0, 0, 0, 0, 0, 0, 0, 0, 0, 0, 0, 0, 0, 0, 0, 0, 0, 0, 0, 0, 0, 0, 0, 0, 0, 0, 0, 0, 0, 0, 0, 0, 0, 0, 0, 0, 0, 0, 0, 0, 0, 0, 0, 0, 0, 0, 0, 0, 0, 0, 0, 0, 0, 0, 0, 0, 0, 0, 0, 0, 0, 0, 0, 0, 0, 0, 0, 0, 0, 0, 0, 0, 0, 0, 0, 0, 0, 0, 0, 0, 0, 0, 0, 0, 0, 0, 0, 0, 0, 0, 0, 0, 0, 0, 0, 0, 0, 0, 0, 0, 0, 0, 0, 0, 0, 0, 0, 0, 0, 0, 0, 0, 0, 0, 0, 0, 0, 1, 0, 0, 0, 0, 0, 0, 0, 0, 0, 0, 0, 0, 0, 0, 0, 0, 0, 0, 0, 0, 0, 0, 0, 0, 0, 0, 0, 0, 0, 0, 0, 0, 0, 0, 0, 0, 0, 0, 0, 0, 0, 0, 0, 0, 0, 0, 0, 0, 0, 0, 0, 0, 0, 0, 0, 0, 0, 0, 0, 0, 0, 0, 0, 0, 0, 0, 0, 0, 0, 0, 0, 0, 0, 0, 0, 0, 0, 0, 0, 0, 0, 0, 0, 0, 0, 0, 1, 0, 0, 0, 0, 0, 0, 0, 0, 0, 0, 0, 0, 0, 0, 0, 0, 0, 0, 0, 0, 0, 0, 0, 0, 0, 0, 0, 0, 0, 0, 0, 0, 0, 0, 0, 0, 0, 0, 0, 0, 0, 0, 0, 0, 0, 0, 0, 0, 0, 0, 0, 0, 0, 0, 0, 0, 0, 0, 0, 0, 0, 0, 0, 0, 0, 0, 0, 0, 0, 0, 0, 0, 0, 0, 0, 0, 0, 0, 0, 0, 0, 0, 0, 0, 0, 0, 0, 0, 0, 0, 0, 0, 0, 0, 0, 0, 0, 0, 0, 0, 0, 0, 0, 0, 0, 0, 0, 0, 0, 0, 0, 0, 0, 0, 0, 0, 0, 0, 0, 0, 0, 0, 0, 0, 0, 0, 0, 0, 0, 0, 0, 0, 0, 0, 0, 0, 0, 0, 0, 0, 0, 0, 0, 0, 0, 0, 0, 0, 0, 0, 0, 0, 0, 0, 0, 0, 0, 0, 0, 0, 0, 0, 0, 0, 0, 0, 0, 0, 0, 0, 0, 0, 0, 0, 0, 0, 0, 0, 0, 0, 0, 0, 0, 0, 0, 0, 0, 0, 0, 0, 0, 0, 0, 0, 0, 0, 0, 0, 0, 0, 0, 0, 0, 0, 0, 0, 0, 0, 0, 0, 0, 0, 0, 0, 0, 0, 0, 0, 0, 0, 0, 0, 0, 0, 0, 0, 0, 0, 0, 0, 0, 0, 0, 0, 0, 0, 0, 0, 0, 0, 0, 0, 0, 0, 0, 0, 0, 0, 0, 0, 0, 0, 1, 0, 0, 0, 0, 0, 0, 0, 0, 0, 0, 0, 0, 0, 0, 0, 0, 0, 0, 0, 0, 0, 0, 0, 0, 0, 0, 0, 0, 0, 0, 0, 0, 0, 0, 0, 0, 0, 0, 0, 0, 0, 0, 0, 0, 0, 0, 0, 0, 0, 0, 0, 0, 0, 0, 0, 1, 0, 0, 0, 0, 0, 0, 0, 0, 0, 0, 0, 0, 0, 0, 0, 0, 0, 0, 0, 0, 0, 0, 0, 0, 0, 0, 0, 0, 0, 0, 0, 0, 0, 0, 0, 0, 0, 0, 0, 0, 0, 0, 0, 0, 0, 0, 0, 0, 0, 0, 0, 0, 0, 0, 0, 0, 0, 0, 0, 0, 0, 0, 0, 0, 0, 0, 0, 0, 0, 0, 0, 0, 0, 0, 0, 0, 0, 0, 0, 0, 0, 0, 0, 0, 0, 0, 0, 0, 0, 0, 0, 0, 0, 0, 0, 0, 0, 0, 0, 0, 0, 0, 0, 0, 0, 0, 0, 0, 0, 0, 0, 0, 0, 0, 0, 0, 0, 0, 0, 0, 0, 0, 0, 0, 0, 0, 0, 0, 0, 0, 0, 0, 0, 0, 0, 0, 0, 0, 0, 0, 0, 0, 0, 0, 0, 0, 0, 0, 0, 0, 0, 0, 0, 0, 0, 0, 0, 0, 0, 0, 0, 0, 0, 0, 0, 0, 0, 0, 0, 0, 0, 0, 0, 0, 0, 0, 0, 0, 0, 0, 0, 0, 0, 0, 0, 0, 0, 0, 0, 0, 0, 0, 0, 0, 0, 0, 0, 0, 0, 0, 0, 0, 0, 0, 0, 0, 0, 0, 0, 0, 0, 0, 0, 0, 0, 0, 0, 0, 0, 0, 0, 0, 0, 0, 0, 0, 0, 0, 0, 0, 0, 0, 0, 0, 0, 0, 0, 0, 0, 0, 0, 0, 0, 0, 0, 0, 0, 0, 0, 0, 0, 0, 0, 0, 0, 0, 0, 0, 0, 0, 0, 0, 0, 0, 0, 0, 0, 0, 0, 0, 0, 0, 0, 0, 0, 0, 0, 0, 0, 0, 0, 0, 0, 0, 0, 0, 0, 0, 0, 0, 0, 0, 0, 0, 0, 0, 0, 0, 0, 0, 0, 0, 0, 0, 0, 0, 0, 0, 0, 0, 0, 0, 0, 0, 0, 0, 0, 0, 0, 0, 0, 0, 0, 0, 0, 0, 0, 0, 0, 0, 0, 0, 0, 0, 0, 0, 0, 0, 0, 0, 0, 0, 0, 0, 0, 0, 0, 0, 0, 0, 0, 0, 0, 0, 0, 0, 0, 0, 0, 0, 0, 0, 0, 0, 0, 0, 0, 0, 0, 0, 0, 0, 0, 0, 0, 0, 0, 0, 0, 0, 0, 0, 0, 0, 0, 0, 0, 0, 0, 0, 0, 0, 0, 0, 0, 0, 0, 0, 0, 0, 0, 0, 0, 0, 0, 0, 0, 0, 0, 0, 0, 0, 0, 0, 0, 0, 0, 0, 0, 0, 0, 0, 0, 0, 0, 0, 0, 0, 0, 0, 0, 0, 0, 0, 0, 0, 0, 0, 0, 0, 0, 0, 0, 0, 0, 0, 0, 0, 0, 0, 0, 0, 0, 0, 0, 0, 0, 0, 0, 0, 0, 0, 0, 0, 0, 0, 0, 0, 0, 0, 0, 0, 0, 0, 0, 0, 0, 0, 0, 0, 0, 0, 0, 0, 0, 0, 0, 0, 0, 0, 0, 0, 0, 0, 0, 0, 0, 0, 0, 0, 0, 0, 0, 0, 0, 0, 0, 0, 0, 0, 0, 0, 0, 0, 0, 0, 0, 0, 0, 0, 0, 0, 0, 0, 0, 0, 0, 0, 0, 0, 0, 0, 0, 0, 0, 0, 0, 0, 0, 0, 0, 0, 0, 0, 0, 0, 0, 0, 0, 0, 0, 0, 0, 0, 0, 0, 0, 0, 0, 0, 0, 0, 0, 0, 0, 0, 0, 0, 0, 0, 0, 0, 0, 0, 0, 0, 0, 0, 0, 0, 0, 0, 0, 0, 0, 0, 0, 0, 0, 0, 0, 0, 0, 0, 0, 0, 0, 0, 0, 0, 0, 0, 0, 0, 0, 0, 0, 0, 0, 0, 0, 0, 0, 0, 0, 0, 0, 0, 0, 0, 0, 0, 0, 0, 0, 0, 0, 0, 0, 0, 0, 0, 0, 0, 0, 0, 0, 0, 0, 0, 0, 0, 0, 0, 0, 0, 0, 0, 0, 0, 0, 0, 0, 0, 0, 0, 0, 0, 0, 0, 0, 0, 0, 0, 0, 0, 0, 0, 0, 0, 0, 0, 0, 0, 0, 0, 0, 0, 0, 0, 0, 1, 0, 0, 0, 0, 0, 0, 0, 0, 0, 0, 0, 0, 0, 0, 0, 0, 0, 0, 0, 0, 0, 0, 0, 0, 0, 0, 0, 0, 0, 0, 0, 0, 0, 0, 0, 0, 0, 0, 0, 0, 0, 0, 0, 0, 0, 0, 0, 0, 0, 0, 0, 0, 0, 0, 0, 0, 0, 0, 0, 0, 0, 0, 0, 0, 0, 0, 0, 0, 0, 0, 0, 0, 0, 0, 1, 0, 0, 0, 0, 0, 0, 0, 0, 0, 0, 0, 0, 0, 0, 0, 0, 0, 0, 0, 0, 1, 0, 0, 1, 0, 0, 0, 0, 0, 0, 0, 0, 0, 0, 0, 0, 0, 0, 0, 0, 0, 0, 0, 0, 0, 0, 0, 0, 0, 0, 0, 0, 0, 0, 0, 0, 0, 0, 0, 0, 0, 0, 0, 0, 0, 0, 0, 0, 0, 0, 0, 0, 0, 0, 0, 0, 0, 0, 0, 0, 0, 0, 0, 0, 0, 0, 0, 0, 0, 0, 0, 0, 0, 0, 0, 0, 0, 0, 0, 0, 0, 0, 0, 0, 0, 0, 0, 0, 0, 0, 0, 0, 0, 0, 0, 0, 0, 0, 0, 0, 0, 0, 0, 0, 0, 0, 0, 0, 0, 0, 0, 0, 0, 0, 0, 0, 0, 0, 0, 0, 0, 0, 0, 0, 0, 0, 0, 0, 0, 0, 0, 0, 0, 0, 0, 0, 0, 0, 0, 0, 0, 0, 0, 0, 0, 0, 0, 0, 0, 0, 0, 0, 0, 0, 0, 0, 0, 0, 0, 0, 0, 0, 0, 0, 0, 0, 0, 0, 0, 0, 0, 0, 0, 0, 0, 0, 0, 0, 0, 0, 0, 0, 0, 0, 0, 0, 0, 0, 0, 0, 0, 0, 0, 0, 0, 0, 0, 0, 0, 0, 0, 0, 0, 0, 0, 0, 0, 0, 0, 0, 0, 0, 0, 0, 0, 0, 0, 0, 0, 0, 0, 0, 0, 0, 0, 0, 0, 0, 0, 0, 0, 0, 0, 0, 0, 0, 0, 0, 0, 0, 0, 0, 0, 0, 0, 0, 0, 0, 0, 0, 0, 0, 0, 0, 0, 0, 0, 0, 0, 0, 0, 0, 0, 0, 0, 0, 0, 0, 0, 0, 0, 0, 0, 0, 0, 0, 0, 0, 0, 0, 0, 0, 0, 0, 0, 0, 0, 0, 0, 0, 0, 0, 0, 0, 0, 0, 0, 0, 0, 0, 0, 0, 0, 0, 0, 0, 0, 0, 0, 0, 0, 0, 0, 0, 0, 0, 0, 0, 0, 0, 0, 0, 0, 0, 0, 0, 0, 0, 0, 0, 0, 0, 0, 0, 0, 0, 0, 0, 0, 0, 0, 0, 0, 0, 0, 0, 0, 0, 0, 0, 0, 0, 0, 0, 0, 0, 0, 0, 0, 0, 0, 0, 0, 0, 0, 0, 0, 0, 0, 0, 0, 0, 0, 0, 0, 0, 0, 0, 0, 0, 0, 0, 0, 0, 0, 0, 0, 0, 0, 0, 0, 0, 0, 0, 0, 0, 0, 0, 0, 0, 0, 0, 0, 0, 0, 0, 0, 0, 0, 0, 0, 0, 0, 0, 0, 0, 0, 0, 0, 0, 0, 0, 0, 0, 0, 0, 0, 0, 0, 0, 0, 0, 0, 0, 0, 0, 0, 0, 0, 0, 0, 0, 0, 0, 0, 0, 0, 0, 0, 0, 0, 0, 0, 0, 0, 0, 0, 0, 0, 0, 0, 0, 0, 0, 0, 0, 0, 0, 0, 0, 1, 0, 0, 0, 0, 0, 0, 0, 0, 0, 0, 0, 0, 0, 0, 0, 0, 0, 0, 0, 0, 0, 0, 0, 0, 0, 0, 0, 0, 0, 0, 0, 0, 0, 0, 0, 0, 0, 0, 0, 0, 0, 0, 0, 0, 0, 0, 0, 0, 0, 0, 0, 0, 0, 0, 0, 0, 0, 0, 0, 0, 0, 0, 0, 0, 0, 0, 0, 0, 0, 0, 0, 0, 0, 0, 0, 0, 0, 0, 0, 0, 0, 0, 0, 0, 0, 0, 0, 0, 0, 0, 0, 0, 0, 0, 0, 0, 0, 0, 0, 0, 0, 0, 0, 0, 0, 0, 0, 0, 0, 0, 0, 0, 0, 0, 0, 0, 0, 0, 0, 0, 0, 0, 0, 0, 0, 0, 0, 0, 0, 0, 0, 0, 0, 0, 0, 0, 0, 0, 0, 0, 0, 0, 0, 0, 0, 0, 0, 0, 0, 0, 0, 0, 0, 0, 0, 0, 0, 0, 0, 0, 0, 0, 0, 0, 0, 0, 0, 0, 0, 0, 0, 0, 0, 0, 0, 0, 0, 0, 0, 0, 0, 0, 0, 0, 0, 0, 0, 0, 0, 0, 0, 0, 0, 0, 0, 0, 0, 0, 0, 0, 0, 0, 0, 0, 0, 0, 0, 0, 0, 0, 0, 0, 0, 0, 0, 0, 0, 0, 0, 0, 0, 0, 0, 0, 0, 0, 0, 0, 0, 0, 0, 0, 0, 0, 0, 0, 0, 0, 0, 0, 0, 0, 0, 0, 0, 0, 0, 0, 0, 0, 0, 0, 0, 0, 0, 0, 0, 0, 0, 0, 0, 0, 0, 0, 0, 0, 0, 0, 0, 0, 0, 0, 0, 0, 0, 0, 0, 0, 0, 0, 0, 0, 0, 0, 0, 0, 0, 0, 0, 0, 0, 0, 0, 0, 0, 0, 0, 0, 0, 0, 0, 0, 0, 0, 0, 0, 0, 0, 0, 0, 0, 0, 0, 0, 0, 0, 0, 0, 0, 0, 0, 0, 0, 0, 0, 0, 0, 0, 0, 0, 0, 0, 0, 0, 0, 0, 0, 0, 0, 0, 0, 0, 0, 0, 0, 0, 0, 0, 0, 0, 0, 0, 0, 0, 0, 0, 0, 0, 0, 0, 0, 0, 0, 0, 0, 0, 0, 0, 0, 0, 0, 0, 0, 0, 0, 0, 0, 0, 0, 0, 0, 0, 0, 0, 0, 0, 0, 0, 0, 0, 0, 0, 0, 0, 0, 0, 0, 0, 0, 0, 0, 0, 0, 0, 0, 0, 0, 0, 0, 0, 0, 0, 0, 0, 0, 0, 0, 0, 0, 0, 0, 0, 0, 0, 0, 0, 0, 0, 0, 0, 0, 0, 0, 0, 0, 0, 0, 0, 0, 0, 0, 0, 0, 0, 0, 0, 0, 0, 0, 0, 0, 0, 0, 0, 0, 0, 0, 0, 0, 0, 0, 0, 0, 0, 0, 0, 0, 0, 0, 0, 0, 0, 0, 0, 0, 0, 0, 0, 0, 0, 0, 0, 0, 0, 0, 0, 0, 0, 0, 0, 0, 0, 0, 0, 0, 0, 0, 0, 0, 0, 0, 0, 0, 0, 0, 0, 0, 0, 0, 0, 0, 0, 1, 0, 0, 0, 0, 0, 0, 0, 0, 0, 0, 0, 0, 0, 0, 0, 0, 0, 0, 0, 0, 0, 0, 0, 0, 0, 0, 0, 0, 0, 0, 0, 0, 0, 0, 0, 2, 0, 0, 0, 0, 0, 0, 0, 0, 0, 0, 0, 0, 0, 0, 0, 0, 0, 0, 0, 0, 0, 0, 0, 0, 0, 0, 0, 0, 0, 0, 0, 0, 0, 0, 0, 0, 0, 0, 0, 0, 1, 0, 0, 0, 0, 0, 0, 0, 0, 0, 0, 0, 0, 0, 0, 0, 0, 0, 0, 0, 0, 0, 0, 0, 0, 0, 0, 0, 0, 0, 0, 0, 0, 0, 0, 0, 0, 0, 0, 0, 0, 0, 0, 0, 0, 0, 0, 0, 0, 0, 0, 0, 0, 0, 0, 0, 0, 0, 0, 0, 0, 0, 0, 0, 0, 0, 0, 0, 0, 0, 0, 0, 0, 0, 0, 0, 0, 0, 0, 0, 0, 0, 0, 0, 0, 0, 0, 0, 0, 0, 0, 0, 0, 0, 0, 0, 0, 0, 0, 0, 0, 0, 0, 0, 0, 0, 0, 0, 0, 0, 0, 0, 0, 0, 0, 0, 0, 0, 0, 0, 0, 0, 0, 0, 0, 0, 0, 0, 0, 0, 0, 0, 0, 0, 0, 0, 0, 0, 0, 0, 0, 0, 0, 0, 0, 0, 0, 0, 0, 0, 0, 0, 0, 0, 0, 0, 0, 0, 0, 0, 0, 0, 0, 0, 0, 0, 0, 0, 0, 0, 0, 0, 0, 0, 0, 0, 0, 0, 0, 0, 0, 0, 0, 0, 0, 0, 0, 0, 0, 0, 0, 0, 0, 0, 0, 0, 0, 0, 0, 0, 0, 0, 0, 0, 0, 0, 0, 0, 0, 0, 0, 0, 0, 0, 0, 0, 0, 0, 0, 0, 0, 0, 0, 0, 0, 0, 0, 0, 0, 0, 0, 0, 0, 0, 0, 0, 0, 0, 0, 0, 0, 0, 0, 0, 0, 0, 0, 0, 0, 0, 0, 0, 0, 0, 0, 0, 0, 0, 0, 0, 0, 0, 0, 0, 0, 0, 0, 0, 0, 0, 0, 0, 0, 0, 0, 0, 0, 0, 0, 0, 0, 0, 0, 0, 0, 0, 0, 0, 0, 0, 0, 0, 0, 0, 0, 0, 0, 0, 0, 0, 0, 0, 0, 0, 0, 0, 0, 0, 0, 0, 0, 0, 0, 0, 0, 0, 0, 0, 0, 0, 0, 0, 0, 0, 0, 0, 0, 0, 0, 0, 0, 0, 0, 0, 0, 0, 0, 0, 0, 0, 0, 0, 0, 0, 0, 0, 0, 0, 0, 0, 0, 0, 0, 0, 0, 0, 0, 0, 0, 0, 0, 0, 0, 0, 0, 0, 0, 0, 0, 0, 0, 0, 0, 0, 0, 0, 0, 0, 0, 0, 0, 0, 0, 0, 0, 0, 0, 0, 0, 0, 0, 0, 0, 0, 0, 0, 0, 0, 0, 0, 0, 0, 0, 0, 0, 0, 0, 0, 0, 0, 0, 0, 0, 0, 0, 0, 0, 0, 0, 0, 0, 0, 0, 0, 0, 0, 0, 0, 0, 0, 0, 0, 0, 0, 0, 0, 0, 0, 0, 0, 0, 0, 0, 0, 0, 0, 0, 0, 0, 0, 0, 0, 0, 0, 0, 0, 0, 0, 0, 0, 0, 0, 0, 0, 0, 0, 0, 0, 0, 0, 0, 0, 0, 0, 0, 0, 0, 0, 0, 0, 0, 0, 0, 0, 0, 0, 0, 0, 0, 0, 0, 0, 0, 0, 0, 0, 0, 0, 1, 0, 0, 0, 0, 0, 0, 0, 0, 0, 0, 0, 0, 0, 0, 0, 0, 0, 0, 0, 0, 0, 0, 0, 0, 0, 0, 0, 0, 0, 0, 0, 0, 0, 0, 0, 0, 0, 0, 0, 0, 0, 0, 0, 0, 0, 0, 0, 0, 0, 0, 0, 0, 0, 0, 0, 0, 0, 0, 0, 0, 0, 0, 0, 0, 0, 0, 0, 0, 0, 0, 0, 0, 0, 0, 0, 0, 0, 0, 0, 0, 0, 0, 0, 0, 0, 0, 0, 0, 0, 0, 0, 0, 0, 0, 0, 0, 0, 0, 0, 0, 0, 0, 0, 0, 0, 0, 0, 0, 0, 0, 2, 0, 0, 0, 0, 0, 0, 0, 0, 0, 0, 0, 0, 0, 0, 0, 0, 0, 0, 0, 0, 0, 0, 0, 0, 0, 0, 0, 0, 0, 0, 0, 0, 0, 0, 0, 0, 0, 0, 0, 0, 0, 0, 0, 0, 0, 0, 0, 0, 0, 0, 0, 0, 0, 0, 0, 0, 0, 0, 0, 0, 0, 0, 0, 0, 0, 0, 0, 0, 0, 0, 0, 0, 0, 0, 0, 0, 0, 0, 0, 0, 0, 0, 0, 0, 0, 0, 0, 0, 0, 0, 0, 0, 0, 0, 0, 0, 0, 0, 0, 0, 0, 0, 0, 0, 0, 0, 0, 0, 0, 0, 0, 0, 0, 0, 0, 0, 0, 0, 0, 0, 0, 0, 0, 0, 0, 0, 0, 0, 0, 0, 0, 0, 0, 0, 0, 0, 0, 0, 0, 0, 0, 0, 0, 0, 0, 0, 0, 0, 0, 0, 0, 0, 0, 0, 0, 0, 0, 0, 0, 0, 0, 0, 0, 0, 0, 0, 0, 0, 0, 0, 0, 0, 0, 0, 0, 0, 0, 0, 0, 0, 0, 0, 0, 0, 0, 0, 0, 0, 0, 0, 0, 0, 0, 0, 0, 0, 0, 0, 0, 0, 0, 0, 0, 0, 0, 0, 0, 0, 0, 0, 0, 0, 0, 0, 0, 0, 0, 0, 0, 0, 0, 0, 0, 0, 0, 0, 0, 0, 0, 0, 0, 0, 0, 0, 0, 0, 0, 0, 0, 0, 0, 0, 0, 0, 0, 0, 0, 0, 0, 0, 0, 0, 0, 0, 0, 0, 0, 0, 0, 0, 0, 0, 0, 0, 0, 0, 0, 0, 0, 0, 0, 0, 0, 0, 0, 0, 0, 0, 0, 0, 0, 0, 0, 0, 0, 0, 0, 0, 0, 0, 0, 0, 0, 0, 0, 0, 0, 0, 0, 0, 0, 0, 0, 0, 0, 0, 0, 0, 0, 0, 0, 0, 0, 0, 0, 0, 0, 0, 0, 0, 0, 0, 0, 0, 0, 0, 0, 0, 0, 0, 0, 0, 0, 0, 0, 0, 0, 0, 0, 0, 0, 0, 0, 0, 0, 0, 0, 0, 0, 0, 0, 0, 0, 0, 0, 0, 0, 0, 0, 0, 0, 0, 0, 0, 0, 0, 0, 0, 0, 0, 0, 0, 0, 0, 0, 0, 0, 0, 0, 0, 0, 0, 0, 0, 0, 0, 0, 0, 0, 0, 0, 0, 0, 0, 0, 0, 0, 0, 0, 0, 0, 0, 0, 0, 0, 0, 0, 0, 0, 0, 0, 0, 0, 0, 0, 0, 0, 0, 0, 0, 0, 0, 0, 0, 0, 0, 0, 0, 0, 0, 0, 0, 0, 0, 0, 0, 0, 0, 0, 0, 0, 0, 0, 0, 0, 0, 0, 0, 0, 0, 0, 0, 0, 0, 0, 0, 0, 0, 0, 0, 0, 0, 0, 0, 0, 0, 0, 0, 0, 0, 0, 0, 0, 0, 0, 0, 0, 0, 0, 0, 0, 0, 0, 0, 0, 0, 0, 0, 0, 0, 0, 0, 0, 0, 0, 0, 0, 0, 0, 0, 0, 0, 0, 0, 0, 0, 0, 0, 0, 0, 0, 0, 0, 0, 0, 0, 0, 0, 0, 0, 0, 0, 0, 0, 0, 0, 0, 0, 0, 0, 0, 0, 0, 0, 0, 0, 0, 0, 0, 0, 0, 0, 0, 0, 0, 0, 0, 0, 0, 0, 0, 0, 0, 0, 0, 0, 0, 0, 0, 0, 0, 0, 0, 0, 0, 0, 0, 0, 0, 0, 0, 0, 0, 0, 0, 0, 0, 0, 0, 0, 0, 0, 0, 0, 0, 0, 0, 0, 0, 0, 0, 0, 0, 0, 0, 0, 0, 0, 0, 0, 0, 0, 0, 0, 0, 0, 0, 0, 0, 0, 0, 0, 0, 0, 0, 0, 0, 0, 0, 0, 0, 0, 0, 0, 0, 0, 0, 0, 0, 0, 0, 0, 0, 0, 0, 0, 0, 0, 0, 0, 0, 0, 0, 0, 0, 0, 0, 0, 0, 0, 0, 0, 0, 0, 0, 0, 0, 0, 0, 0, 0, 0, 0, 0, 0, 0, 0, 0, 0, 0, 0, 0, 0, 0, 0, 0, 0, 0, 0, 0, 0, 0, 0, 0, 0, 0, 0, 0, 0, 0, 1, 0, 0, 0, 0, 0, 0, 0, 0, 0, 0, 0, 0, 0, 0, 0, 0, 0, 0, 0, 0, 0, 0, 0, 0, 0, 0, 0, 0, 0, 0, 0, 0, 0, 0, 0, 0, 0, 0, 0, 0, 0, 0, 0, 0, 0, 0, 0, 0, 0, 0, 0, 0, 0, 0, 0, 0, 0, 0, 0, 0, 0, 0, 0, 0, 0, 0, 0, 0, 0, 0, 0, 0, 0, 0, 0, 0, 0, 0, 0, 0, 0, 0, 0, 0, 0, 0, 0, 0, 0, 0, 0, 0, 0, 0, 0, 0, 0, 0, 0, 0, 0, 0, 0, 0, 0, 0, 0, 1, 0, 0, 0, 0, 0, 0, 0, 0, 0, 0, 0, 0, 0, 0, 0, 0, 0, 0, 0, 0, 0, 0, 0, 0, 0, 0, 0, 0, 0, 0, 0, 0, 0, 0, 0, 0, 0, 0, 0, 0, 0, 0, 0, 0, 0, 0, 0, 0, 0, 0, 0, 0, 0, 0, 0, 0, 0, 0, 0, 0, 0, 0, 0, 0, 0, 0, 0, 0, 0, 0, 0, 0, 0, 0, 0, 0, 0, 0, 0, 0, 0, 0, 0, 0, 0, 0, 0, 0, 0, 0, 0, 0, 0, 0, 0, 0, 0, 0, 0, 0, 0, 0, 0, 0, 0, 0, 0, 0, 0, 0, 0, 0, 0, 0, 0, 0, 0, 0, 0, 0, 0, 0, 0, 0, 0, 0, 0, 0, 0, 0, 0, 0, 0, 0, 0, 0, 0, 0, 0, 0, 0, 0, 0, 0, 0, 0, 0, 0, 0, 0, 0, 0, 0, 0, 0, 0, 0, 0, 0, 0, 0, 0, 0, 0, 0, 0, 0, 0, 0, 0, 0, 0, 0, 0, 0, 0, 0, 0, 0, 0, 0, 0, 0, 0, 0, 0, 0, 0, 0, 0, 0, 0, 0, 0, 0, 0, 0, 0, 0, 0, 0, 0, 0, 0, 0, 0, 0, 0, 0, 0, 0, 0, 0, 0, 0, 0, 0, 0, 0, 0, 0, 0, 0, 0, 0, 0, 0, 0, 0, 0, 0, 0, 0, 0, 0, 0, 0, 0, 0, 0, 0, 0, 0, 0, 0, 0, 0, 0, 0, 0, 0, 0, 0, 0, 0, 0, 0, 0, 0, 0, 0, 0, 0, 0, 0, 0, 0, 0, 0, 0, 0, 0, 0, 0, 0, 0, 0, 0, 0, 0, 0, 0, 0, 0, 0, 0, 0, 0, 0, 0, 0, 0, 0, 0, 0, 0, 0, 0, 0, 0, 0, 0, 0, 0, 0, 0, 0, 0, 0, 0, 0, 0, 0, 0, 0, 0, 0, 0, 0, 0, 0, 0, 0, 0, 0, 0, 0, 0, 0, 0, 0, 0, 0, 0, 0, 0, 0, 0, 0, 0, 0, 0, 0, 0, 0, 0, 0, 0, 0, 0, 0, 0, 0, 0, 0, 0, 0, 0, 0, 0, 0, 0, 0, 0, 0, 0, 0, 0, 0, 0, 0, 0, 0, 0, 0, 0, 0, 0, 0, 0, 0, 0, 0, 0, 0, 0, 0, 0, 0, 0, 0, 0, 0, 0, 0, 0, 0, 0, 0, 0, 0, 0, 0, 0, 0, 0, 0, 0, 0, 0, 0, 0, 0, 0, 0, 0, 0, 0, 0, 0, 0, 0, 0, 0, 0, 0, 0, 0, 0, 0, 0, 0, 0, 0, 0, 0, 0, 0, 0, 0, 0, 0, 0, 0, 0, 0, 0, 0, 0, 0, 0, 0, 0, 0, 0, 0, 0, 0, 0, 0, 0, 0, 0, 2, 0, 1, 0], type: <class 'list'>, valid types: <class 'bytes'>, <class 'bytearray'>, file-like object"
     ]
    }
   ],
   "source": [
    "response = runtime.invoke_endpoint(EndpointName = xgb_predictor.endpoint, # The name of the endpoint we created\n",
    "                                       ContentType = 'text/csv',                     # The data format that is expected\n",
    "                                       Body = test_bow)"
   ]
  },
  {
   "cell_type": "markdown",
   "metadata": {},
   "source": [
    "So why did we get an error?\n",
    "\n",
    "Because we tried to send the endpoint a list of integers but it expected us to send data of type `text/csv`. So, we need to convert it."
   ]
  },
  {
   "cell_type": "code",
   "execution_count": 46,
   "metadata": {},
   "outputs": [],
   "source": [
    "response = runtime.invoke_endpoint(EndpointName = xgb_predictor.endpoint, # The name of the endpoint we created\n",
    "                                       ContentType = 'text/csv',                     # The data format that is expected\n",
    "                                       Body = ','.join([str(val) for val in test_bow]).encode('utf-8'))"
   ]
  },
  {
   "cell_type": "code",
   "execution_count": 47,
   "metadata": {},
   "outputs": [
    {
     "name": "stdout",
     "output_type": "stream",
     "text": [
      "{'ResponseMetadata': {'RequestId': '38221447-a257-4701-83a4-86378165b517', 'HTTPStatusCode': 200, 'HTTPHeaders': {'x-amzn-requestid': '38221447-a257-4701-83a4-86378165b517', 'x-amzn-invoked-production-variant': 'AllTraffic', 'date': 'Tue, 26 Jan 2021 19:48:04 GMT', 'content-type': 'text/csv; charset=utf-8', 'content-length': '14'}, 'RetryAttempts': 0}, 'ContentType': 'text/csv; charset=utf-8', 'InvokedProductionVariant': 'AllTraffic', 'Body': <botocore.response.StreamingBody object at 0x7f1b046614e0>}\n"
     ]
    }
   ],
   "source": [
    "print(response)"
   ]
  },
  {
   "cell_type": "markdown",
   "metadata": {},
   "source": [
    "As we can see, the response from our model is a somewhat complicated looking dict that contains a bunch of information. The bit that we are most interested in is `'Body'` object which is a streaming object that we need to `read` in order to make use of."
   ]
  },
  {
   "cell_type": "code",
   "execution_count": 48,
   "metadata": {},
   "outputs": [
    {
     "name": "stdout",
     "output_type": "stream",
     "text": [
      "0.485520511866\n"
     ]
    }
   ],
   "source": [
    "response = response['Body'].read().decode('utf-8')\n",
    "print(response)"
   ]
  },
  {
   "cell_type": "markdown",
   "metadata": {},
   "source": [
    "Now that we know how to process the incoming user data we can start setting up the infrastructure to make our simple web app work. To do this we will make use of two different services. Amazon's Lambda and API Gateway services.\n",
    "\n",
    "Lambda is a service which allows someone to write some relatively simple code and have it executed whenever a chosen trigger occurs. For example, you may want to update a database whenever new data is uploaded to a folder stored on S3.\n",
    "\n",
    "API Gateway is a service that allows you to create HTTP endpoints (url addresses) which are connected to other AWS services. One of the benefits to this is that you get to decide what credentials, if any, are required to access these endpoints.\n",
    "\n",
    "In our case we are going to set up an HTTP endpoint through API Gateway which is open to the public. Then, whenever anyone sends data to our public endpoint we will trigger a Lambda function which will send the input (in our case a review) to our model's endpoint and then return the result."
   ]
  },
  {
   "cell_type": "markdown",
   "metadata": {},
   "source": [
    "### Setting up a Lambda function\n",
    "\n",
    "The first thing we are going to do is set up a Lambda function. This Lambda function will be executed whenever our public API has data sent to it. When it is executed it will receive the data, perform any sort of processing that is required, send the data (the review) to the SageMaker endpoint we've created and then return the result.\n",
    "\n",
    "#### Part A: Create an IAM Role for the Lambda function\n",
    "\n",
    "Since we want the Lambda function to call a SageMaker endpoint, we need to make sure that it has permission to do so. To do this, we will construct a role that we can later give the Lambda function.\n",
    "\n",
    "Using the AWS Console, navigate to the **IAM** page and click on **Roles**. Then, click on **Create role**. Make sure that the **AWS service** is the type of trusted entity selected and choose **Lambda** as the service that will use this role, then click **Next: Permissions**.\n",
    "\n",
    "In the search box type `sagemaker` and select the check box next to the **AmazonSageMakerFullAccess** policy. Then, click on **Next: Review**.\n",
    "\n",
    "Lastly, give this role a name. Make sure you use a name that you will remember later on, for example `LambdaSageMakerRole`. Then, click on **Create role**."
   ]
  },
  {
   "cell_type": "markdown",
   "metadata": {},
   "source": [
    "#### Part B: Create a Lambda function\n",
    "\n",
    "Now it is time to actually create the Lambda function. Remember from earlier that in order to process the user provided input and send it to our endpoint we need to gather two pieces of information:\n",
    "\n",
    " - The name of the endpoint, and\n",
    " - the vocabulary object.\n",
    "\n",
    "We will copy these pieces of information to our Lambda function after we create it.\n",
    "\n",
    "To start, using the AWS Console, navigate to the AWS Lambda page and click on **Create a function**. When you get to the next page, make sure that **Author from scratch** is selected. Now, name your Lambda function, using a name that you will remember later on, for example `sentiment_analysis_xgboost_func`. Make sure that the **Python 3.6** runtime is selected and then choose the role that you created in the previous part. Then, click on **Create Function**.\n",
    "\n",
    "On the next page you will see some information about the Lambda function you've just created. If you scroll down you should see an editor in which you can write the code that will be executed when your Lambda function is triggered. Collecting the code we wrote above to process a single review and adding it to the provided example `lambda_handler` we arrive at the following.\n",
    "\n",
    "```python\n",
    "# We need to use the low-level library to interact with SageMaker since the SageMaker API\n",
    "# is not available natively through Lambda.\n",
    "import boto3\n",
    "\n",
    "# And we need the regular expression library to do some of the data processing\n",
    "import re\n",
    "\n",
    "REPLACE_NO_SPACE = re.compile(\"(\\.)|(\\;)|(\\:)|(\\!)|(\\')|(\\?)|(\\,)|(\\\")|(\\()|(\\))|(\\[)|(\\])\")\n",
    "REPLACE_WITH_SPACE = re.compile(\"(<br\\s*/><br\\s*/>)|(\\-)|(\\/)\")\n",
    "\n",
    "def review_to_words(review):\n",
    "    words = REPLACE_NO_SPACE.sub(\"\", review.lower())\n",
    "    words = REPLACE_WITH_SPACE.sub(\" \", words)\n",
    "    return words\n",
    "    \n",
    "def bow_encoding(words, vocabulary):\n",
    "    bow = [0] * len(vocabulary) # Start by setting the count for each word in the vocabulary to zero.\n",
    "    for word in words.split():  # For each word in the string\n",
    "        if word in vocabulary:  # If the word is one that occurs in the vocabulary, increase its count.\n",
    "            bow[vocabulary[word]] += 1\n",
    "    return bow\n",
    "\n",
    "\n",
    "def lambda_handler(event, context):\n",
    "    \n",
    "    vocab = \"*** ACTUAL VOCABULARY GOES HERE ***\"\n",
    "    \n",
    "    words = review_to_words(event['body'])\n",
    "    bow = bow_encoding(words, vocab)\n",
    "\n",
    "    # The SageMaker runtime is what allows us to invoke the endpoint that we've created.\n",
    "    runtime = boto3.Session().client('sagemaker-runtime')\n",
    "\n",
    "    # Now we use the SageMaker runtime to invoke our endpoint, sending the review we were given\n",
    "    response = runtime.invoke_endpoint(EndpointName = '***ENDPOINT NAME HERE***',# The name of the endpoint we created\n",
    "                                       ContentType = 'text/csv',                 # The data format that is expected\n",
    "                                       Body = ','.join([str(val) for val in bow]).encode('utf-8')) # The actual review\n",
    "\n",
    "    # The response is an HTTP response whose body contains the result of our inference\n",
    "    result = response['Body'].read().decode('utf-8')\n",
    "    \n",
    "    # Round the result so that our web app only gets '1' or '0' as a response.\n",
    "    result = round(float(result))\n",
    "\n",
    "    return {\n",
    "        'statusCode' : 200,\n",
    "        'headers' : { 'Content-Type' : 'text/plain', 'Access-Control-Allow-Origin' : '*' },\n",
    "        'body' : str(result)\n",
    "    }\n",
    "```"
   ]
  },
  {
   "cell_type": "markdown",
   "metadata": {},
   "source": [
    "Once you have copy and pasted the code above into the Lambda code editor, replace the `**ENDPOINT NAME HERE**` portion with the name of the endpoint that we deployed earlier. You can determine the name of the endpoint using the code cell below."
   ]
  },
  {
   "cell_type": "code",
   "execution_count": 49,
   "metadata": {},
   "outputs": [
    {
     "data": {
      "text/plain": [
       "'xgboost-2021-01-26-19-06-54-100'"
      ]
     },
     "execution_count": 49,
     "metadata": {},
     "output_type": "execute_result"
    }
   ],
   "source": [
    "xgb_predictor.endpoint"
   ]
  },
  {
   "cell_type": "markdown",
   "metadata": {},
   "source": [
    "In addition, you will need to copy the vocabulary dict to the appropriate place in the code at the beginning of the `lambda_handler` method. The cell below prints out the vocabulary dict in a way that is easy to copy and paste."
   ]
  },
  {
   "cell_type": "code",
   "execution_count": 50,
   "metadata": {},
   "outputs": [
    {
     "name": "stdout",
     "output_type": "stream",
     "text": [
      "{'was': 4805, 'excited': 1561, 'to': 4507, 'see': 3855, 'sitcom': 4004, 'that': 4424, 'would': 4957, 'hopefully': 2157, 'represent': 3637, 'indian': 2274, 'but': 636, 'found': 1811, 'this': 4457, 'show': 3953, 'be': 418, 'not': 3040, 'funny': 1852, 'at': 331, 'all': 187, 'the': 4426, 'producers': 3416, 'and': 226, 'cast': 710, 'are': 285, 'probably': 3407, 'happy': 2032, 'get': 1899, 'both': 547, 'bad': 382, 'good': 1937, 'feed': 1683, 'back': 378, 'because': 432, 'as': 311, 'far': 1653, 'they': 4442, 'concerned': 932, 'its': 2370, 'getting': 1901, 'talked': 4359, 'about': 67, 'ready': 3546, 'for': 1784, 'some': 4061, 'have': 2052, 'no': 3020, 'problem': 3408, 'with': 4911, 'it': 2366, 'stereotypes': 4179, 'exist': 1569, 'reason': 3557, 'usually': 4700, 'true': 4596, 'there': 4438, 'really': 3556, 'wasnt': 4807, 'anything': 260, 'these': 4441, 'stereotypical': 4180, 'characters': 760, 'fresh': 1833, 'of': 3083, 'boat': 523, 'dad': 1095, 'who': 4871, 'doesnt': 1309, 'understand': 4643, 'his': 2118, 'daughter': 1121, 'feminist': 1695, 'muslim': 2949, 'by': 642, 'way': 4820, 'is': 2360, 'terrible': 4407, 'actress': 105, 'young': 4989, 'modern': 2882, 'man': 2721, 'trying': 4601, 'run': 3755, 'politically': 3325, 'correct': 1000, 'he': 2056, 'can': 665, 'hes': 2093, 'pretty': 3384, 'actor': 103, 'only': 3110, 'him': 2110, 'better': 472, 'very': 4723, 'contrived': 976, 'dialog': 1232, 'flow': 1762, 'well': 4843, 'so': 4046, 'much': 2934, 'potential': 3355, 'something': 4066, 'like': 2599, 'sadly': 3769, 'think': 4452, 'failed': 1626, 'dont': 1324, 'care': 684, 'watch': 4811, 'another': 250, 'episode': 1507, 'did': 1241, 'however': 2183, 'enjoy': 1484, 'watching': 4815, 'great': 1964, 'canadian': 667, 'again': 146, 'shes': 3930, 'always': 203, 'treat': 4572, 'natural': 2973, 'everything': 1544, 'she': 3923, 'does': 1308, 'too': 4522, 'her': 2085, 'in': 2257, 'same': 3778, 'acting': 99, 'abilities': 64, 'remarkable': 3613, 'quite': 3495, 'how': 2181, 'writers': 4969, 'directors': 1266, 'continue': 969, 'make': 2713, 'movies': 2927, 'out': 3141, 'one': 3107, 'most': 2909, 'story': 4207, 'lines': 2612, 'cinema': 816, 'dog': 1310, 'bite': 489, 'basically': 407, 'more': 2904, 'than': 4420, 'just': 2437, 'simple': 3983, 'an': 223, 'lone': 2642, 'chasing': 772, 'brilliant': 583, 'criminal': 1057, 'film': 1716, 'from': 1840, 'rest': 3657, 'being': 448, 'extremely': 1610, 'violent': 4748, 'ive': 2372, 'ever': 1538, 'seen': 3865, 'atmosphere': 333, 'constant': 957, 'seem': 3861, 'come': 886, 'walking': 4779, 'straight': 4210, 'hell': 2077, 'even': 1533, 'chan': 746, 'trilogy': 4586, 'vengeance': 4719, 'exception': 1557, 'perhaps': 3235, 'or': 3124, 'any': 256, 'other': 3135, 'infamous': 2284, 'cat': 713, 'iii': 2227, 'released': 3603, 'were': 4848, 'sadistic': 3768, 'brutal': 603, 'events': 1536, 'depicted': 1183, 'ruthless': 3764, 'streets': 4217, 'hong': 2149, 'kong': 2494, 'wife': 4884, 'judge': 2424, 'restaurant': 3658, 'when': 4862, 'police': 3322, 'arrives': 302, 'place': 3282, 'officer': 3092, 'sees': 3866, 'scene': 3809, 'crime': 1055, 'follow': 1772, 'first': 1736, 'actual': 108, 'between': 475, 'two': 4620, 'dogs': 1311, 'results': 3662, 'blood': 512, 'bath': 411, 'kills': 2474, 'several': 3905, 'long': 2644, 'time': 4495, 'friend': 1835, 'then': 4436, 'on': 3105, 'begins': 444, 'thrilling': 4474, 'action': 100, 'packed': 3166, 'mouse': 2919, 'game': 1864, 'frustrated': 1842, 'cop': 991, 'professional': 3421, 'killer': 2470, 'latter': 2528, 'also': 199, 'saves': 3796, 'girl': 1909, 'sexual': 3908, 'abuse': 74, 'father': 1666, 'stays': 4169, 'shed': 3924, 'local': 2634, 'garbage': 1870, 'what': 4858, 'makes': 2716, 'routine': 3743, 'thriller': 4472, 'fascinating': 1658, 'apart': 264, 'explicit': 1591, 'violence': 4747, 'main': 2707, 'backgrounds': 381, 'hit': 2122, 'has': 2043, 'been': 438, 'trained': 4557, 'fight': 1707, 'kill': 2468, 'money': 2888, 'since': 3990, 'child': 789, 'knows': 2493, 'barely': 399, 'speaks': 4096, 'word': 4937, 'became': 431, 'particularly': 3195, 'role': 3726, 'model': 2880, 'lies': 2591, 'after': 143, 'drug': 1373, 'related': 3594, 'incident': 2260, 'question': 3487, 'suspects': 4328, 'witnesses': 4916, 'them': 4432, 'prepared': 3371, 'sacrifice': 3766, 'order': 3126, 'stop': 4201, 'brand': 565, 'new': 3003, 'people': 3221, 'weak': 4824, 'stomach': 4196, 'stay': 4166, 'away': 369, 'featuring': 1681, 'easily': 1406, 'cause': 723, 'type': 4621, 'where': 4864, 'heads': 2059, 'off': 3084, 'fly': 1763, 'through': 4477, 'air': 164, 'intense': 2316, 'utterly': 4702, 'disturbing': 1300, 'attempt': 340, 'crush': 1072, 'their': 4431, 'mentally': 2809, 'physically': 3263, 'filming': 1718, 'locations': 2636, 'effectively': 1430, 'dark': 1115, 'eerie': 1427, 'music': 2946, 'already': 197, 'tone': 4517, 'movie': 2926, 'performances': 3229, 'terrific': 4409, 'wouldnt': 4958, 'surprised': 4313, 'if': 2222, 'sam': 3777, 'lee': 2559, 'treated': 4573, 'each': 1395, 'enemies': 1476, 'set': 3898, 'screen': 3829, 'hatred': 2049, 'feels': 1687, 'little': 2624, 'powerful': 3360, 'unforgettable': 4652, 'highly': 2105, 'recommended': 3572, 'you': 4986, 'fear': 1676, 'cant': 671, 'wait': 4770, 'few': 1700, 'years': 4979, 'inevitable': 2282, 'american': 213, 'remake': 3612, 'which': 4867, 'will': 4886, 'premise': 3370, 'finished': 1733, 'series': 3890, 'historical': 2119, 'elements': 1443, 'awful': 372, 'accent': 78, 'later': 2525, 'episodes': 1508, 'further': 1853, 'goes': 1930, 'looking': 2648, 'low': 2676, 'quality': 3484, 'production': 3419, 'could': 1007, 'recommend': 3571, 'season': 3843, 'avoid': 363, 'into': 2332, 'step': 4175, 'soap': 4047, 'opera': 3116, 'increasingly': 2268, 'worse': 4951, 'old': 3100, 'best': 469, 'form': 1798, 'entertainment': 1500, 'name': 2960, 'attached': 336, 'hope': 2155, 'im': 2232, 'going': 1931, 'say': 3799, 'given': 1913, '10': 0, 'thought': 4462, 'give': 1912, 'got': 1944, 'couple': 1016, 'extra': 1606, 'points': 3319, 'body': 527, 'count': 1010, 'let': 2579, 'me': 2778, 'explain': 1586, 'paid': 3169, 'literally': 2622, 'dvd': 1391, 'tend': 4400, 'lot': 2661, 'faith': 1633, 'bargain': 400, 'horror': 2168, 'flicks': 1755, 'especially': 1520, 'status': 4165, 'suspect': 4327, 'number': 3060, 'reasons': 3560, 'ill': 2228, 'touch': 4533, 'shoot': 3942, 'miss': 2866, 'somewhere': 4069, 'around': 297, 'had': 2003, 'many': 2732, 'opportunities': 3120, 'above': 68, 'likely': 2601, 'seems': 3864, 'try': 4600, 'achieve': 92, 'blend': 504, 'humour': 2194, 'either': 1438, 'example': 1553, 'freddy': 1826, 'films': 1721, 'dream': 1354, 'warriors': 4803, 'style': 4249, 'nose': 3037, 'works': 4945, 'completely': 922, 'respect': 3652, 'times': 4497, 'tried': 4584, 'mostly': 2910, 'stupid': 4247, 'admit': 122, 'though': 4461, 'towards': 4540, 'beginning': 443, 'fact': 1621, 'half': 2007, 'hour': 2176, 'liked': 2600, 'myself': 2953, 'find': 1726, 'killed': 2469, 'inappropriate': 2259, 'instance': 2304, 'satan': 3787, 'against': 147, 'board': 522, 'writes': 4970, 'using': 4698, 'door': 1328, 'elderly': 1440, 'woman': 4921, 'now': 3054, 'senseless': 3878, 'hey': 2095, 'thats': 4425, 'point': 3316, 'right': 3696, 'those': 4460, 'cases': 708, 'offensive': 3086, 'unnecessary': 4672, 'plot': 3309, 'went': 4847, 'major': 2711, 'hated': 2047, 'every': 1539, 'character': 758, 'kid': 2464, 'ridiculously': 3694, 'annoying': 249, 'loss': 2659, 'possibly': 3351, 'write': 4967, 'bodies': 526, 'front': 1841, 'eyes': 1613, 'trick': 4582, 'mean': 2779, 'somewhat': 4068, 'running': 3756, 'should': 3951, 'house': 2178, 'screaming': 3827, 'help': 2079, 'took': 4523, 'wanted': 4789, 'end': 1468, 'unbelievable': 4634, 'hear': 2061, 'bang': 393, 'my': 2951, 'head': 2057, 'wall': 4781, 'felt': 1692, 'why': 4878, 'didnt': 1242, 'turn': 4605, 'mainly': 2708, 'honestly': 2147, 'believe': 454, 'ending': 1471, 'sometimes': 4067, 'wrong': 4973, 'case': 707, 'line': 2610, 'dressed': 1358, 'someone': 4064, 'else': 1448, 'go': 1924, 'killing': 2472, 'costume': 1005, 'made': 2697, 'angry': 238, 'foul': 1810, 'mistake': 2871, 'do': 1302, 'up': 4683, 'frankly': 1823, 'guy': 2000, 'actually': 109, 'looked': 2647, 'id': 2212, 'dead': 1132, 'alone': 194, 'until': 4680, 'someones': 4065, 'ties': 4490, 'chair': 742, 'purely': 3472, 'comedy': 890, 'worked': 4941, 'work': 4940, 'dragged': 1343, 'might': 2835, 'down': 1335, 'know': 2489, 'live': 2625, 'without': 4913, 'knowing': 2490, 'fairly': 1631, 'typical': 4623, 'kind': 2476, 'settle': 3902, 'having': 2054, 'halloween': 2010, 'specifically': 4100, 'imdb': 2240, 'comment': 898, 'save': 3794, 'your': 4991, 'change': 749, 'view': 4736, 'worst': 4952, 'world': 4946, 'heres': 2087, 'list': 2617, 'hopeless': 2158, 'storyline': 4208, 'despite': 1211, 'based': 404, 'dreadful': 1353, 'thinking': 4453, 'stunts': 4246, 'childish': 791, 'dialogue': 1234, 'non': 3027, 'existent': 1572, 'continuity': 972, 'lack': 2502, 'picture': 3269, 'key': 2458, 'aspect': 321, 'forgotten': 1797, 'ability': 65, 'tell': 4395, 'showing': 3958, 'need': 2987, 'audience': 352, 'theyll': 4444, 'here': 2086, 'narration': 2965, 'public': 3460, 'purple': 3473, 'sensitive': 3879, 'former': 1800, 'fine': 1729, 'beautifully': 429, 'composed': 926, 'shot': 3949, 'visuals': 4759, 'maybe': 2776, 'basic': 406, 'needed': 2988, 'lit': 2621, 'bit': 488, 'support': 4303, 'may': 2775, 'lacks': 2505, 'credibility': 1047, '70s': 56, 'exactly': 1551, 'full': 1846, 'beautiful': 428, 'girls': 1911, 'underground': 4640, 'soft': 4051, 'spot': 4131, 'passing': 3204, 'neat': 2982, 'clothes': 860, 'wears': 4832, 'tries': 4585, 'link': 2613, 'together': 4511, 'taste': 4369, 'cinderella': 815, 'ii': 2226, 'followed': 1773, 'peter': 3247, 'pan': 3180, 'sequels': 3886, 'lion': 2614, 'king': 2479, 'idea': 2213, 'jokes': 2415, 'saying': 3800, 'saw': 3798, 'kids': 2467, 'original': 3129, 'entertaining': 1499, 'still': 4188, 'sequel': 3885, 'horrible': 2163, 'deserves': 1201, 'laughter': 2535, 'middle': 2833, 'remember': 3616, 'nervous': 2999, 're': 3535, 'release': 3602, 'we': 4823, 'voice': 4761, 'coming': 896, '12': 3, 'year': 4978, '2006': 36, '1972': 18, 'cult': 1077, 'classic': 835, 'scary': 3807, 'south': 4087, 'park': 3190, 'friendly': 1836, 'forest': 1791, 'monster': 2892, 'patrick': 3213, 'leg': 2562, 'arm': 292, 'whos': 4876, 'favorite': 1671, 'ago': 154, 'mine': 2853, 'hollywood': 2137, 'told': 4513, 'heard': 2062, 'cage': 645, 'started': 4157, 'laughing': 2533, 'mad': 2696, 'pull': 3461, 'unfortunately': 4654, 'gone': 1935, 'outstanding': 3147, 'originality': 3130, 'wonderfully': 4929, 'instead': 2307, 'clichés': 846, 'affected': 137, 'changes': 751, 'fall': 1637, 'countless': 1012, 'lately': 2524, 'playing': 3300, 'takes': 4351, 'remote': 3622, 'scottish': 3825, 'missing': 2869, 'named': 2961, 'spin': 4112, 'california': 650, 'island': 2361, 'washington': 4806, 'state': 4160, 'ex': 1549, 'girlfriend': 1910, 'sends': 3876, 'photo': 3257, 'looks': 2649, 'crash': 1033, 'part': 3193, 'never': 3001, 'yet': 4984, 'gets': 1900, 'letter': 2581, 'connection': 946, 'aside': 315, 'north': 3036, 'actors': 104, 'pretending': 3382, 'whom': 4875, 'call': 651, 'roles': 3727, 'village': 4743, 'isnt': 2362, 'before': 440, 'realize': 3552, 'nothing': 3047, 'afraid': 140, 'eyed': 1612, 'blind': 506, 'sisters': 4002, 'speak': 4094, 'opportunity': 3121, 'amounts': 220, 'often': 3095, 'comes': 891, 'days': 1130, 'loses': 2657, 'magic': 2703, 'personal': 3240, '11': 2, 'starting': 4158, 'wonder': 4926, 'changed': 750, 'start': 4156, 'wonderful': 4928, 'beach': 419, 'dalton': 1098, 'twists': 4619, 'scenes': 3811, 'screenplay': 3831, 'tough': 4537, 'sheriff': 3929, 'villain': 4744, 'must': 2950, 'adventure': 130, 'fan': 1648, 'loved': 2670, 'fun': 1848, 'total': 4531, 'mystery': 2956, 'science': 3816, 'theater': 4427, '3000': 43, 'side': 3965, 'gave': 1875, 'chance': 747, 'seriously': 3892, 'folks': 1771, 'cheese': 780, 'special': 4097, 'effects': 1431, 'general': 1880, 'cheesy': 781, 'unrealistic': 4677, 'said': 3774, 'talk': 4358, 'while': 4868, 'tom': 4514, 'remarks': 3615, 'neck': 2985, 'soundtrack': 4085, 'porn': 3336, 'whatever': 4859, 'ways': 4822, 'fans': 1650, 'youll': 4988, 'version': 4720, 'laugh': 2529, 'mst3k': 2932, 'brain': 562, 'die': 1243, 'family': 1645, 'late': 2523, 'early': 1400, 'knew': 2486, 'history': 2121, 'grand': 1953, 'parents': 3188, 'existed': 1570, 'obviously': 3072, 'black': 493, 'aka': 168, 'african': 142, 'americans': 214, 'others': 3136, 'pass': 3201, 'white': 4870, 'chose': 804, 'hard': 2033, 'theyre': 4445, 'talking': 4360, 'river': 3707, 'want': 4788, 'cry': 1073, 'kick': 2460, 'awe': 370, 'lived': 2626, 'under': 4639, 'successful': 4266, 'business': 633, 'am': 204, 'today': 4508, 'living': 2629, 'successfully': 4267, 'excellent': 1555, 'fair': 1630, 'upon': 4684, 'anne': 246, 'incredible': 2269, 'ask': 316, 'writing': 4971, 'everyone': 1542, 'title': 4504, 'read': 3543, 'came': 656, 'night': 3013, 'figured': 1712, 'sorry': 4076, 'sex': 3907, 'shown': 3959, 'last': 2521, 'seconds': 3848, 'underrated': 4642, 'truly': 4597, 'sweet': 4336, 'struggles': 4235, 'issue': 2364, 'victor': 4731, 'needs': 2990, 'grow': 1982, 'slowly': 4032, 'move': 2921, 'forward': 1808, 'grandmother': 1955, 'cute': 1090, 'boy': 557, 'throws': 4482, 'indie': 2276, 'keeps': 2451, 'theres': 4440, 'arent': 288, 'real': 3547, 'join': 2412, 'club': 863, 'picking': 3267, 'junior': 2435, 'left': 2561, 'putting': 3482, 'bullet': 620, 'tony': 4521, 'absolutely': 72, 'whatsoever': 4861, 'happened': 2027, 'speaking': 4095, 'normal': 3033, 'apparently': 270, 'kevin': 2457, 'least': 2554, 'group': 1980, 'mess': 2818, 'leave': 2555, 'hotel': 2175, 'naturally': 2974, 'pure': 3471, 'tradition': 4549, 'turns': 4609, 'doctors': 1305, 'regarding': 3589, 'fate': 1665, 'friends': 1837, 'worried': 4949, 'sick': 3963, 'whole': 4873, 'thing': 4450, 'anthony': 253, 'jr': 2423, 'willing': 4889, 'fathers': 1667, 'life': 2592, 'dreams': 1355, 'rather': 3528, 'frequently': 1832, 'spiritual': 4116, 'trial': 4580, 'protagonists': 3442, 'notably': 3042, 'five': 1743, 'test': 4416, 'qualities': 3483, 'program': 3424, 'previous': 3387, 'use': 4692, 'william': 4887, 'poem': 3312, 'sort': 4077, 'caused': 724, 'food': 1778, 'four': 1812, 'seasons': 3844, 'appear': 273, 'different': 1248, 'section': 3853, 'certain': 737, 'none': 3028, 'fetched': 1698, 'david': 1124, 'chase': 769, 'created': 1037, 'piece': 3272, 'intelligent': 2314, 'weird': 4841, 'ups': 4686, 'own': 3158, 'sake': 3775, 'helps': 2082, 'narrative': 2966, 'tad': 4347, 'love': 2669, 'formulaic': 1803, 'holds': 2131, 'fancy': 1649, 'lover': 2672, 'norman': 3035, 'fellow': 1691, 'enormous': 1490, 'chances': 748, 'casting': 711, 'nearly': 2981, 'pays': 3218, 'somehow': 4063, 'wondered': 4927, 'whether': 4866, 'chosen': 805, 'enough': 1491, 'superb': 4296, 'particular': 3194, 'loud': 2664, 'daring': 1114, 'mask': 2752, 'comedic': 888, 'broad': 590, 'hair': 2005, 'called': 652, 'intent': 2318, 'writer': 4968, 'director': 1264, 'page': 3167, 'plays': 3301, 'ridden': 3691, 'knife': 2487, 'throat': 4476, 'brooklyn': 595, 'magical': 2704, 'dramatic': 1348, 'satisfying': 3791, 'everyones': 1543, 'brought': 600, 'greek': 1970, 'chorus': 803, 'camera': 659, 'pulling': 3463, 'hall': 2009, 'leaving': 2557, 'players': 3299, 'high': 2100, 'become': 433, 'thanks': 4423, 'nearby': 2980, 'nuclear': 3057, 'waste': 4808, 'chaos': 755, 'absurd': 73, 'crude': 1069, 'behavior': 446, 'intended': 2315, 'filmmakers': 1720, 'cutting': 1092, 'loose': 2650, 'allowing': 191, 'free': 1827, 'ham': 2011, 'craft': 1028, 'gory': 1943, 'honor': 2150, 'society': 4050, 'face': 1616, 'paint': 3173, 'jobs': 2406, 'wacky': 4769, 'german': 1896, 'teacher': 4375, 'becomes': 434, 'member': 2800, 'kiss': 2483, 'cool': 989, 'trash': 4565, 'although': 201, 'ok': 3098, 'job': 2405, 'script': 3834, 'twist': 4617, 'whats': 4860, '60s': 54, 'look': 2646, '2003': 33, 'excuse': 1564, 'poor': 3328, 'cover': 1022, 'claims': 830, 'creator': 1043, 'secondly': 3847, 'direction': 1261, 'capture': 676, 'essence': 1521, 'doctor': 1304, 'hospital': 2172, 'souls': 4080, 'devil': 1228, 'demon': 1177, 'creature': 1045, 'tense': 4403, 'frightening': 1839, 'simply': 3986, 'mildly': 2840, 'sad': 3767, 'tv': 4610, 'curious': 1083, 'finding': 1727, 'marvelous': 2750, 'spoof': 4127, 'usual': 4699, 'sorts': 4078, 'lovely': 2671, 'amazing': 209, 'top': 4525, 'notch': 3043, 'play': 3296, 'such': 4268, 'silly': 3976, 'perfect': 3224, 'anyone': 259, 'hearing': 2063, 'seeing': 3857, 'throw': 4479, 'doing': 1312, 'sitting': 4007, 'thoroughly': 4459, 'enjoying': 1487, 'born': 544, 'rock': 3720, 'thirty': 4456, 'rank': 3518, 'among': 217, 'rex': 3683, 'consistently': 954, 'exciting': 1563, 'unusual': 4681, 'viewer': 4738, 'past': 3207, 'directorial': 1265, 'efforts': 1433, 'throughout': 4478, 'star': 4150, 'center': 732, 'songs': 4072, 'repeated': 3631, 'matter': 2769, 'musical': 2947, 'bizarre': 492, 'visual': 4757, 'used': 4693, 'deal': 1135, 'humor': 2192, 'ended': 1470, 'concert': 935, 'hands': 2020, 'rich': 3685, 'totally': 4532, 'criticism': 1063, 'video': 4733, 'states': 4163, 'minutes': 2859, 'online': 3109, 'source': 4086, 'watched': 4813, 'channel': 753, 'instant': 2305, 'comic': 893, 'book': 535, 'perfectly': 3226, 'captures': 678, 'feel': 1684, 'surreal': 4317, '1950s': 14, 'decade': 1144, 'elvis': 1451, 'dropping': 1371, 'desert': 1198, 'heck': 2071, 'naive': 2958, 'clean': 838, 'cut': 1089, 'zombies': 4998, 'kudos': 2497, 'colorful': 878, 'cinematography': 820, 'including': 2264, 'carrie': 697, 'billy': 482, 'henry': 2084, 'shame': 3918, 'bigger': 479, 'deserved': 1200, 'recognition': 3568, 'stuff': 4243, 'tim': 4494, 'burton': 630, 'team': 4378, 'oh': 3096, 'nonetheless': 3029, 'words': 4938, 'swedish': 4335, 'mix': 2876, 'obvious': 3071, 'genre': 1888, 'military': 2844, 'base': 402, 'secret': 3849, 'computer': 927, 'day': 1129, 'foreign': 1790, 'criminals': 1058, 'hurt': 2202, 'equipment': 1511, 'guess': 1989, 'showed': 3956, 'begin': 442, 'positive': 3346, 'mention': 2810, 'technically': 4382, 'footage': 1782, 'flying': 1764, 'nice': 3008, 'decent': 1147, 'performance': 3228, 'maria': 2736, 'stiff': 4187, 'keep': 2449, 'skills': 4014, 'wooden': 4934, 'laughable': 2530, 'forces': 1788, 'investigate': 2342, 'common': 906, 'budget': 610, 'making': 2718, 'culture': 1079, 'experience': 1580, 'rate': 3526, 'effort': 1432, 'louis': 2665, 'compelling': 916, 'childrens': 793, 'disney': 1289, 'murder': 2939, 'racism': 3502, 'facial': 1619, 'multi': 2935, 'reveal': 3670, 'behind': 447, 'holes': 2133, 'camp': 662, 'green': 1971, 'lake': 2509, 'hint': 2112, 'disneys': 1290, 'success': 4265, 'creating': 1039, 'novels': 3053, 'convincingly': 986, 'design': 1202, 'plus': 3311, 'rising': 3703, 'angels': 234, 'project': 3427, 'fat': 1663, 'attitude': 346, 'hero': 2088, 'filled': 1715, 'equally': 1510, 'school': 3813, 'turned': 4606, 'bank': 394, 'pop': 3330, 'marketing': 2741, 'department': 1182, 'excessive': 1560, 'murphy': 2944, 'vehicle': 4718, 'lost': 2660, 'children': 792, 'starts': 4159, 'leads': 2548, 'path': 3209, 'protect': 3443, 'golden': 1934, 'evil': 1548, 'whose': 4877, 'danger': 1109, 'mysterious': 2955, 'guide': 1993, 'moments': 2887, 'philosophical': 3253, 'lessons': 2578, 'challenge': 743, 'members': 2801, 'interested': 2324, 'deep': 1154, 'thoughts': 4464, 'mountain': 2917, 'temple': 4398, 'monk': 2889, 'presents': 3377, 'choose': 799, 'choice': 797, 'fantasy': 1652, 'notion': 3050, 'our': 3139, 'unaware': 4632, 'accept': 80, 'daily': 1097, 'reality': 3551, 'earth': 1403, 'walls': 4783, 'waiting': 4772, 'destroy': 1213, 'us': 4690, 'serious': 3891, 'topic': 4526, 'balance': 387, 'martial': 2747, 'art': 304, 'fighting': 1709, 'eddie': 1416, 'imagine': 2238, 'entirely': 1503, 'meaning': 2780, 'express': 1600, 'strange': 4211, 'philosophy': 3254, 'religion': 3607, 'fairy': 1632, 'tale': 4353, 'legend': 2564, 'tells': 4397, 'images': 2235, 'light': 2595, 'darkness': 1117, 'humanity': 2189, 'search': 3841, 'vision': 4754, 'human': 2188, 'humans': 2190, 'nature': 2975, 'necessarily': 2983, 'experiences': 1582, 'empty': 1465, 'stories': 4205, 'quickly': 3491, 'currently': 1085, 'level': 2584, 'song': 4071, 'opinion': 3118, 'complex': 923, 'surface': 4310, 'men': 2805, 'countryside': 1015, 'sounds': 4084, 'dig': 1250, 'deeper': 1155, 'feeling': 1685, 'suggested': 4281, 'homosexual': 2145, 'lovers': 2673, 'trust': 4598, 'directly': 1263, 'happen': 2026, 'acts': 107, 'spike': 4111, 'almost': 193, 'screams': 3828, 'affair': 135, 'faces': 1618, 'overall': 3150, 'british': 589, 'rubbish': 3748, 'done': 1322, 'definitely': 1162, 'suitable': 4285, 'average': 362, 'supposed': 4306, 'take': 4349, '18': 10, 'tight': 4492, 'broken': 594, 'cards': 683, 'crew': 1053, 'skill': 4013, 'result': 3660, 'touching': 4536, 'provides': 3450, 'provide': 3448, 'reviewers': 3678, 'pointed': 3317, 'modesty': 2883, 'interpretation': 2328, 'delightful': 1168, 'fitting': 1742, 'manages': 2725, 'overcome': 3151, 'odds': 3082, 'talent': 4354, 'courage': 1018, 'appears': 278, '2nd': 41, 'finds': 1728, 'kane': 2442, 'worthy': 4956, 'welles': 4844, 'career': 686, 'material': 2766, 'hang': 2022, 'tricks': 4583, 'couldnt': 1008, 'irish': 2353, 'adds': 119, 'zero': 4996, 'projects': 3428, 'mr': 2929, 'pick': 3265, 'similarly': 3980, 'bear': 420, 'weight': 4840, 'drama': 1346, 'tie': 4488, 'coherent': 871, 'hire': 2116, 'scheme': 3812, 'ridiculous': 3693, 'loves': 2674, 'put': 3480, 'desperate': 1208, 'decision': 1151, 'fits': 1741, 'saved': 3795, 'noir': 3023, '60': 53, 'convince': 983, 'youve': 4995, 'thoughtful': 4463, 'roll': 3728, 'scale': 3802, 'telling': 4396, 'wonders': 4931, 'cross': 1066, 'devoid': 1230, 'substance': 4258, 'attempts': 343, 'familiar': 1643, 'bring': 585, 'batman': 413, 'hollow': 2135, 'heston': 2094, 'cameo': 657, 'entire': 1502, 'todays': 4509, 'mass': 2753, 'planet': 3289, 'apes': 267, 'product': 3418, 'during': 1387, '1960s': 15, 'america': 212, 'struggling': 4236, 'civilization': 827, 'soul': 4079, 'searching': 3842, 'social': 4049, 'civil': 826, 'rights': 3697, 'era': 1513, 'groups': 1981, 'considered': 951, 'inferior': 2285, 'equal': 1509, 'context': 968, 'audiences': 353, 'difficult': 1249, 'questions': 3489, 'held': 2074, 'justify': 2439, 'intelligence': 2313, 'species': 4098, 'colonel': 876, 'taylor': 4372, 'dr': 1340, 'kim': 2475, 'hunter': 2199, 'provoking': 3452, 'subtle': 4260, 'sixties': 4011, 'superficial': 4298, 'focusing': 1769, 'surprise': 4312, 'except': 1556, 'sets': 3899, 'tied': 4489, 'single': 3996, 'technical': 4381, 'perspective': 3245, 'makeup': 2717, 'fantastic': 1651, 'dislike': 1288, 'three': 4469, 'reduced': 3579, 'band': 391, 'captain': 674, 'mark': 2739, 'carter': 703, 'presentation': 3375, 'simplistic': 3985, 'plenty': 3307, 'fast': 1661, 'mixed': 2877, 'miscast': 2862, 'strong': 4229, 'requires': 3642, 'beneath': 464, 'desperately': 1209, 'college': 875, 'peace': 3219, 'teenager': 4390, 'saving': 3797, 'ruin': 3750, 'creates': 1038, 'guys': 2001, 'physical': 3262, 'exists': 1573, 'disappointment': 1275, 'check': 777, 'rated': 3527, 'insult': 2309, 'franchise': 1817, 'self': 3869, 'box': 555, 'office': 3091, 'lots': 2662, 'genius': 1887, 'course': 1019, 'produce': 3413, 'minded': 2850, 'neighbors': 2994, 'summer': 4291, 'home': 2142, 'sleep': 4024, 'inducing': 2279, 'bore': 540, 'eight': 1436, 'introduced': 2337, 'unbelievably': 4635, 'boring': 543, 'flashbacks': 1747, 'alan': 171, 'bill': 481, 'wasted': 4809, 'smaller': 4034, 'ten': 4399, 'neither': 2996, 'unless': 4669, 'short': 3946, 'considering': 952, 'involved': 2346, 'closed': 854, 'emotional': 1459, 'leading': 2547, 'individuals': 2278, 'decide': 1148, 'brief': 579, 'element': 1442, 'sadness': 3770, 'associated': 327, 'sides': 3967, 'close': 853, 'women': 4923, 'surely': 4309, 'hearts': 2066, 'issues': 2365, 'cannot': 670, 'pro': 3406, 'gay': 1876, 'nicely': 3009, 'italian': 2367, 'crafted': 1029, 'arrival': 299, 'hitler': 2124, 'ordinary': 3128, 'played': 3297, 'happily': 2030, 'himself': 2111, 'meaningful': 2781, 'masterpiece': 2759, 'below': 462, 'standards': 4145, 'ultimately': 4628, 'answer': 251, 'huge': 2185, 'gross': 1978, 'act': 97, 'slick': 4026, 'nevertheless': 3002, 'eager': 1396, 'open': 3112, 'dull': 1384, 'worth': 4953, 'happens': 2029, 'climax': 849, 'kelly': 2452, 'appeal': 271, 'sexually': 3910, 'dance': 1103, 'husband': 2204, 'charles': 764, 'martin': 2748, 'smith': 4038, 'bob': 524, 'personally': 3243, 'settings': 3901, 'soviet': 4089, 'union': 4661, 'filmed': 1717, 'over': 3148, 'embarrassing': 1454, 'briefly': 580, 'places': 3284, 'texas': 4418, 'testament': 4417, 'tired': 4501, 'talents': 4356, 'danny': 1112, 'glover': 1923, 'goldberg': 1933, 'produced': 3414, 'stars': 4155, 'tame': 4363, 'covers': 1024, 'blah': 496, 'hilarious': 2106, '1990s': 25, 'badly': 383, 'foot': 1781, 'grave': 1962, 'etc': 1527, 'age': 148, '1970s': 17, 'explore': 1594, 'revolution': 3680, 'twenty': 4612, 'political': 3324, 'confusion': 943, 'themes': 4434, 'bitter': 491, 'slightly': 4029, 'outrageous': 3145, 'contemporary': 965, 'compare': 911, 'cynical': 1093, '90s': 61, 'country': 1014, 'houses': 2180, 'george': 1893, 'mildred': 2841, 'creators': 1044, 'continued': 970, 'television': 4394, 'snake': 4042, 'plane': 3288, 'draws': 1352, 'situation': 4008, 'hundreds': 2196, 'firstly': 1737, 'written': 4972, 'tongue': 4518, 'cheek': 779, 'smile': 4036, 'yourself': 4993, 'trailer': 4554, 'genuinely': 1892, 'represents': 3639, 'youre': 4992, 'expecting': 1578, 'wont': 4932, 'disappointed': 1273, 'stand': 4143, 'attention': 345, 'wear': 4830, 'rating': 3529, 'add': 115, 'reviews': 3679, 'user': 4696, 'ratings': 3530, 'less': 2575, 'giving': 1915, 'grinch': 1975, 'stole': 4194, 'christmas': 810, 'nor': 3032, 'enjoyable': 1485, 'jim': 2402, 'carrey': 696, 'education': 1424, 'person': 3238, 'scenery': 3810, 'inside': 2297, 'cave': 727, 'parts': 3199, 'laughed': 2532, 'couldve': 1009, 'personality': 3242, 'included': 2262, 'anyway': 261, 'elaborate': 1439, 'red': 3576, 'queen': 3485, 'big': 478, 'convoluted': 987, 'nonsense': 3030, 'complicated': 925, 'rushed': 3760, 'able': 66, 'subtitles': 4259, 'explanation': 1590, 'fabulous': 1615, 'ladies': 2506, 'constantly': 958, 'accompanied': 86, 'score': 3822, 'pieces': 3273, 'colour': 880, 'minimal': 2855, 'super': 4295, 'opens': 3115, 'factory': 1623, 'workers': 4943, 'weve': 4856, 'things': 4451, 'rare': 3523, 'horribly': 2164, 'angle': 236, 'narrator': 2967, 'pictures': 3270, 'areas': 287, 'landscapes': 2514, 'sense': 3877, 'pacing': 3163, 'jerk': 2395, 'pleasantly': 3303, 'sandra': 3782, 'decided': 1149, 'numbers': 3061, 'ms': 2931, 'speed': 4103, 'desired': 1206, 'confused': 941, 'sub': 4252, 'across': 96, 'needless': 2989, 'develop': 1222, 'shallow': 3917, 'teenage': 4389, 'boys': 559, 'catch': 714, 'errors': 1516, 'scream': 3826, 'chris': 806, 'ben': 463, 'partner': 3198, 'interest': 2323, 'spoilers': 4124, 'ahead': 159, 'mediocre': 2791, 'biggest': 480, 'flaws': 1752, 'week': 4837, 'buying': 641, 'motives': 2916, 'mentioned': 2811, 'hanging': 2023, 'bored': 541, 'strictly': 4223, 'disappointing': 1274, 'climactic': 848, 'arrived': 301, 'moment': 2886, 'final': 1722, 'lacked': 2503, 'arrive': 300, 'conclusion': 936, 'promising': 3433, 'concept': 930, 'poorly': 3329, 'executed': 1565, 'process': 3412, 'empathy': 1462, 'jake': 2377, 'army': 295, 'force': 1786, 'system': 4345, 'noble': 3021, 'east': 1407, 'joined': 2413, 'leaves': 2556, 'certainly': 738, 'louise': 2666, 'moving': 2928, 'rachel': 3500, 'son': 4070, 'patient': 3211, 'haunted': 2050, 'ghost': 1902, 'pet': 3246, 'death': 1141, 'sister': 4001, 'flashback': 1746, 'next': 3007, 'shocked': 3939, 'buried': 624, 'says': 3801, 'drop': 1369, 'wind': 4893, 'blow': 514, 'near': 2979, 'road': 3709, 'closer': 856, 'jaw': 2384, 'floor': 1759, 'soon': 4074, 'china': 795, 'community': 908, 'rarely': 3524, 'explored': 1595, 'solid': 4057, 'drawn': 1351, 'following': 1774, 'reading': 3544, 'retarded': 3663, 'brother': 598, 'shining': 3933, 'exploitation': 1592, 'trip': 4588, 'bunch': 623, 'lives': 2628, 'awesome': 371, 'rape': 3521, 'vicious': 4728, 'killings': 2473, 'massacre': 2754, 'believable': 453, 'ages': 152, 'ride': 3692, 'pile': 3275, 'arguably': 289, 'sits': 4006, 'castle': 712, 'incredibly': 2270, 'haunting': 2051, 'gothic': 1945, 'mario': 2738, 'la': 2500, 'del': 1165, 'sunday': 4293, 'roger': 3724, 'pit': 3278, 'starring': 4154, 'vincent': 4746, 'price': 3389, 'earned': 1401, 'barbara': 397, 'fame': 1642, 'important': 2247, 'female': 1693, 'icon': 2211, 'motion': 2913, 'actresses': 106, 'co': 867, 'cinematic': 818, 'directed': 1259, 'western': 4853, 'silence': 3974, '1968': 16, 'field': 1704, 'masters': 2761, 'greatest': 1966, 'achievement': 94, 'hardly': 2036, 'brilliantly': 584, 'creepy': 1052, 'encounters': 1467, 'famous': 1647, 'edgar': 1417, 'allen': 188, 'london': 2641, 'journalist': 2420, 'foster': 1809, 'georges': 1894, 'bet': 470, 'spend': 4105, 'eve': 1532, 'enters': 1496, 'resident': 3647, 'bears': 421, 'setting': 3900, 'create': 1036, 'mood': 2898, 'beyond': 476, 'comparison': 914, 'praise': 3364, 'capable': 672, 'beauty': 430, 'besides': 468, 'contains': 964, 'stunning': 4244, 'delivers': 1172, 'terror': 4412, 'atmospheric': 334, 'missed': 2867, 'hippie': 2115, 'mainstream': 2709, 'ideas': 2215, 'counter': 1011, 'established': 1524, 'credit': 1049, 'itself': 2371, 'popular': 3333, 'pink': 3277, 'careful': 688, 'suits': 4287, 'explosions': 1597, 'absence': 70, 'gives': 1914, 'quiet': 3492, 'messages': 2820, 'overlooked': 3154, 'hints': 2113, 'boredom': 542, 'stolen': 4195, 'seek': 3858, 'album': 175, 'shall': 3916, 'quote': 3496, 'essential': 1522, 'driving': 1368, 'car': 680, 'families': 1644, 'hitting': 2126, 'creatures': 1046, 'painted': 3174, 'identity': 2217, 'war': 4792, 'bucks': 606, 'sucks': 4271, 'risk': 3704, 'caring': 691, 'destiny': 1212, 'environment': 1505, 'airport': 167, 'met': 2822, 'officers': 3093, 'shoots': 3944, 'returned': 3666, 'radio': 3504, 'decides': 1150, 'mansion': 2731, 'alien': 183, 'adventures': 131, 'enjoys': 1489, 'water': 4816, 'swimming': 4338, 'pool': 3327, 'once': 3106, 'anti': 254, 'glass': 1917, 'holding': 2130, 'trapped': 4564, 'losing': 2658, 'blowing': 515, 'herself': 2092, 'destroyed': 1214, 'meeting': 2794, 'negative': 2991, 'useful': 4694, 'sit': 4003, 'taking': 4352, 'clearly': 840, 'feelings': 1686, 'wants': 4791, 'mind': 2849, 'uses': 4697, 'town': 4541, 'commercial': 902, 'future': 1856, 'et': 1526, 'unhappy': 4656, 'situations': 4009, 'caught': 722, 'meaningless': 2782, 'post': 3352, 'message': 2819, 'acid': 95, 'seeking': 3859, 'conventional': 979, 'larry': 2520, 'distinct': 1296, 'crucial': 1068, 'baseball': 403, 'cost': 1003, 'championship': 745, 'convinced': 984, 'breaks': 571, 'bar': 396, 'truck': 4595, 'mike': 2838, 'alternate': 200, 'likes': 2602, 'signs': 3973, 'recent': 3566, 'sandler': 3781, '1990': 24, 'james': 2378, 'led': 2558, 'largely': 2518, 'charm': 767, 'ultimate': 4627, 'serves': 3895, 'notice': 3048, 'smart': 4035, 'engaged': 1480, 'heat': 2067, 'street': 4216, 'along': 195, 'linda': 2609, 'hamilton': 2012, 'michael': 2829, 'caine': 647, 'jon': 2416, 'hart': 2041, 'jay': 2386, 'cox': 1026, 'heart': 2064, 'relationships': 3598, 'winning': 4898, 'contest': 967, 'contract': 973, 'tonight': 4519, 'turner': 4607, 'singing': 3995, 'rain': 3506, 'taken': 4350, 'lady': 2507, 'studio': 4240, 'concerning': 933, '1930s': 11, 'supporting': 4304, 'comments': 901, 'command': 897, 'realizes': 3554, 'nobody': 3022, 'dick': 1239, 'powell': 3358, 'won': 4925, 'impressive': 2253, 'drives': 1367, 'proper': 3436, 'interesting': 2325, 'purpose': 3474, 'johnny': 2410, 'lyrics': 2692, 'references': 3583, 'max': 2774, 'factor': 1622, 'tarzan': 4367, 'power': 3359, 'jack': 2373, 'warner': 4799, 'brothers': 599, '20th': 38, 'century': 736, 'fox': 1814, 'donald': 1321, 'event': 1535, 'singers': 3994, 'minute': 2858, 'player': 3298, 'musicals': 2948, 'involving': 2349, 'owner': 3159, 'grant': 1956, 'mitchell': 2875, 'busy': 635, 'tends': 4402, 'necessary': 2984, 'room': 3735, 'studios': 4241, 'lane': 2515, 'hugh': 2186, 'todd': 4510, 'assistant': 326, 'jean': 2389, 'dan': 1102, 'alexander': 180, 'stealing': 4171, 'ease': 1404, 'difference': 1246, 'gene': 1879, 'wrapped': 4964, 'ego': 1435, 'fully': 1847, 'aware': 368, 'fit': 1740, 'passed': 3202, 'refuses': 3587, 'attend': 344, 'latest': 2526, 'double': 1331, 'party': 3200, 'wanting': 4790, 'otherwise': 3137, 'evening': 1534, 'attractive': 351, 'attacked': 338, 'gang': 1867, 'bought': 552, 'working': 4944, 'photographer': 3259, 'agent': 150, 'ted': 4386, 'imitation': 2241, 'kennedy': 2454, 'slow': 4031, 'burns': 628, 'eventually': 1537, 'break': 569, 'hired': 2117, 'rip': 3700, 'appealing': 272, 'aspects': 322, 'due': 1382, 'longer': 2645, 'accidentally': 85, 'mentions': 2813, 'fashion': 1659, 'reminds': 3620, 'tragic': 4552, 'comedian': 887, 'disappoint': 1272, 'wes': 4851, 'craven': 1034, 'eye': 1611, 'spent': 4108, 'weeks': 4839, 'seat': 3845, 'space': 4090, 'row': 3744, 'painfully': 3172, 'build': 614, 'surrounded': 4318, 'strangers': 4214, 'immediately': 2242, 'threatening': 4468, 'ya': 4976, 'daddy': 1096, 'forgive': 1795, 'slaughter': 4021, 'therefore': 4439, 'required': 3641, 'unreal': 4676, 'dumb': 1385, 'dress': 1357, 'sound': 4081, 'terrorist': 4413, 'massive': 2756, 'security': 3854, 'steal': 4170, 'trek': 4578, 'instantly': 2306, 'thousand': 4465, 'destroying': 1215, 'plan': 3287, 'handful': 2017, 'boom': 537, '50': 51, 'drive': 1363, 'crazy': 1035, 'chased': 770, 'cops': 993, 'coffee': 870, 'moves': 2925, 'elsewhere': 1449, 'magazine': 2701, 'runs': 3757, 'guns': 1998, 'pulled': 3462, 'direct': 1258, 'warn': 4797, 'garden': 1872, 'afternoon': 144, 'fails': 1628, 'thus': 4486, '15': 7, 'hide': 2097, 'duo': 1386, 'vast': 4716, 'hurts': 2203, 'un': 4630, 'ice': 2210, 'inept': 2281, 'drivel': 1364, 'hadnt': 2004, 'allowed': 190, 'dear': 1140, 'journey': 2421, 'second': 3846, 'juvenile': 2441, 'idiots': 2220, 'themselves': 4435, 'brains': 563, 'bruce': 602, 'willis': 4890, 'arnold': 296, 'blockbuster': 509, 'feature': 1678, 'directing': 1260, 'comedies': 889, 'effective': 1429, 'hates': 2048, 'values': 4710, 'represented': 3638, 'dire': 1257, 'disappear': 1270, 'everyday': 1541, 'spirit': 4113, 'locked': 2637, 'within': 4912, 'rules': 3754, 'ticket': 4487, 'survive': 4321, 'mother': 2911, 'central': 735, 'regard': 3588, 'nostalgia': 3038, 'raise': 3507, 'shows': 3960, 'opposite': 3123, 'freedom': 1828, 'individual': 2277, 'stands': 4147, 'sin': 3988, 'disagree': 1269, 'sure': 4308, 'agree': 155, 'text': 4419, 'shots': 3950, 'emotions': 1461, 'brings': 587, 'please': 3304, 'fake': 1635, 'ones': 3108, 'lie': 2590, 'existence': 1571, 'jewish': 2401, 'ah': 158, 'memories': 2803, '14': 6, 'english': 1483, 'dutch': 1389, 'nowadays': 3055, 'voices': 4763, 'language': 2516, 'third': 4455, 'nazi': 2977, 'von': 4765, 'enemy': 1477, 'disappeared': 1271, 'escaped': 1518, 'germany': 1898, 'convincing': 985, 'portraying': 3343, 'obsession': 3070, 'revenge': 3675, 'england': 1482, 'delight': 1167, 'youth': 4994, 'hunt': 2198, 'older': 3101, 'standing': 4146, 'memory': 2804, 'prisoner': 3402, 'copies': 992, 'canada': 666, 'charming': 768, 'land': 2511, 'france': 1816, 'easy': 1410, 'kings': 2481, 'seven': 3903, 'noticed': 3049, 'soldiers': 4054, 'sent': 3880, 'ranks': 3519, 'gerard': 1895, 'escapes': 1519, 'marriage': 2743, 'believing': 457, 'win': 4892, 'fortune': 1806, 'marry': 2745, 'alas': 172, 'hand': 2015, 'rescue': 3643, 'attack': 337, 'discover': 1279, 'sword': 4340, 'battles': 415, 'romantic': 3733, 'enthusiasm': 1501, 'quick': 3490, 'belief': 451, 'stage': 4139, 'pages': 3168, 'handsome': 2021, 'charismatic': 763, 'sharp': 3922, 'passionate': 3206, 'innocent': 2294, 'fool': 1779, 'sings': 3997, 'endless': 1473, 'amusing': 221, 'steps': 4177, 'meets': 2795, 'private': 3404, 'belongs': 460, 'asks': 319, 'pleasure': 3306, 'merits': 2817, 'thank': 4421, 'proof': 3434, 'clever': 841, 'wave': 4818, 'mere': 2814, 'attacks': 339, 'christian': 808, 'prime': 3395, 'satire': 3788, 'seemed': 3862, 'appreciate': 279, 'goodness': 1938, 'recognize': 3569, 'masses': 2755, 'degree': 1164, 'popularity': 3334, 'theyve': 4446, 'harry': 2039, 'eat': 1411, 'stretch': 4221, 'formula': 1802, 'falls': 1640, 'collection': 874, 'letters': 2582, 'describe': 1194, 'friday': 1834, '13th': 5, 'lets': 2580, 'summary': 4290, 'prison': 3401, 'shakespeare': 3915, 'serving': 3897, 'crimes': 1056, 'costumes': 1006, 'occurred': 3077, 'ship': 3934, 'contact': 961, 'outside': 3146, 'surrounding': 4319, 'cameos': 658, 'lesson': 2577, 'redemption': 3578, 'tear': 4379, 'spoke': 4125, 'shooting': 3943, 'actions': 101, 'present': 3374, 'relief': 3605, 'depressing': 1188, 'map': 2733, 'benefit': 465, 'prisoners': 3403, 'confidence': 938, 'mothers': 2912, 'wound': 4960, 'period': 3236, 'grew': 1972, 'opening': 3114, 'paul': 3214, 'remembered': 3617, 'vs': 4767, 'earlier': 1399, 'speech': 4102, 'editing': 1421, 'beaten': 424, 'cuts': 1091, 'em': 1452, 'yeah': 4977, 'network': 3000, 'ruins': 3752, 'effect': 1428, 'terms': 4406, 'okay': 3099, 'explaining': 1588, 'follows': 1775, 'include': 2261, 'shake': 3914, 'versions': 4721, 'proved': 3446, 'mentioning': 2812, 'cares': 690, 'hold': 2129, 'european': 1530, 'possible': 3350, 'birth': 486, 'artistic': 308, 'creative': 1041, 'enjoyment': 1488, 'perform': 3227, 'john': 2409, 'stephen': 4176, 'fell': 1690, 'performing': 3233, 'ed': 1415, 'sullivan': 4288, 'accurate': 90, 'pre': 3365, 'critical': 1062, 'gotta': 1946, 'cameras': 660, 'cheap': 774, 'impossible': 2249, 'driven': 1365, 'escape': 1517, 'spirits': 4115, 'suffered': 4276, 'treats': 4575, 'viewers': 4739, 'ignorant': 2223, 'complexity': 924, 'examples': 1554, 'politics': 3326, 'trees': 4577, 'expectations': 1576, 'mtv': 2933, 'overly': 3155, 'god': 1926, 'compared': 912, 'streep': 4215, 'plain': 3286, 'sing': 3992, 'sounding': 4083, 'clichéd': 845, 'broke': 593, 'flat': 1748, 'display': 1291, 'emotion': 1458, 'miserably': 2864, 'neil': 2995, 'harris': 2038, 'edward': 1426, 'small': 4033, 'amount': 219, 'predictable': 3367, 'understood': 4647, 'depth': 1190, 'suppose': 4305, 'built': 618, 'explained': 1587, 'sign': 3970, 'originally': 3131, 'cried': 1054, 'crap': 1031, 'fiction': 1702, 'calling': 653, 'cube': 1076, 'utter': 4701, 'complete': 921, 'definition': 1163, 'inventive': 2341, 'core': 995, 'introduction': 2339, 'kept': 2456, 'watchable': 4812, 'jones': 2418, 'bland': 500, 'standard': 4144, 'detective': 1220, 'per': 3223, 'lead': 2545, 'murdered': 2940, 'resolution': 3649, 'betty': 474, 'asking': 318, 'law': 2538, 'buddy': 609, 'witty': 4917, 'jerry': 2396, 'theme': 4433, 'strangely': 4212, 'sequence': 3887, 'wished': 4905, 'interview': 2329, 'yes': 4982, 'hearted': 2065, 'enjoyed': 1486, 'served': 3894, 'appearance': 274, 'talented': 4355, 'centered': 733, 'gain': 1863, 'directions': 1262, 'pamela': 3179, 'relationship': 3597, 'visually': 4758, 'lengthy': 2570, 'contained': 963, 'anymore': 258, 'asian': 314, 'tiger': 4491, 'hidden': 2096, 'dragon': 1344, 'suggest': 4280, 'rent': 3626, 'japanese': 2382, 'grown': 1984, 'hate': 2046, 'horrors': 2169, 'uncle': 4636, 'renting': 3629, 'vhs': 4725, 'lol': 2640, 'mighty': 2836, 'rangers': 3517, 'animated': 241, 'wouldve': 4959, 'campy': 664, 'wearing': 4831, 'teens': 4392, 'battle': 414, 'arts': 310, 'horrid': 2165, 'reminiscent': 3621, 'track': 4544, 'choreography': 802, 'lame': 2510, 'van': 4713, 'jumping': 2431, 'dancing': 1107, 'ballet': 389, 'cartoons': 705, 'heavily': 2069, 'sequences': 3888, 'japan': 2381, 'borrowed': 545, 'onto': 3111, 'stick': 4185, 'equivalent': 1512, 'subplots': 4256, 'timing': 4498, 'moody': 2899, 'younger': 4990, 'consequences': 947, 'symbolism': 4341, 'catholic': 720, 'church': 813, 'falling': 1639, 'timeless': 4496, 'smooth': 4041, 'grandfather': 1954, 'rough': 3741, 'daniel': 1111, 'lewis': 2586, 'brown': 601, 'artist': 307, 'managed': 2723, 'dealing': 1136, 'becoming': 435, 'respected': 3653, 'review': 3676, 'fortunately': 1805, 'spoken': 4126, 'brave': 567, 'subject': 4253, 'device': 1227, 'loving': 2675, 'troubled': 4593, 'rage': 3505, 'drinking': 1362, 'brenda': 575, 'warm': 4794, 'poignant': 3315, 'detailed': 1218, 'stayed': 4167, 'circumstances': 822, 'detail': 1217, 'frame': 1815, 'oscars': 3134, 'ray': 3533, 'spends': 4107, 'added': 116, 'worthwhile': 4955, 'adults': 126, 'purposes': 3475, 'embarrassed': 1453, 'essentially': 1523, 'lazy': 2543, 'neighbor': 2992, 'subplot': 4255, 'ends': 1474, 'mom': 2885, 'advice': 133, 'buy': 640, 'hood': 2151, 'flick': 1754, 'nudity': 3059, 'cable': 644, 'everybody': 1540, 'brian': 576, '1983': 22, 'greed': 1968, 'ring': 3698, 'critics': 1064, 'epic': 1506, 'gangster': 1868, 'grasp': 1960, 'happiness': 2031, 'de': 1131, 'oliver': 3102, 'stone': 4197, 'wrote': 4974, 'dealt': 1138, 'offer': 3087, 'likable': 2598, 'learn': 2550, 'thinks': 4454, 'irony': 2357, 'tragedy': 4551, 'deliver': 1169, 'gangsters': 1869, 'adult': 125, 'share': 3920, 'carefully': 689, 'aliens': 184, 'drugs': 1374, 'indeed': 2271, 'pulls': 3464, 'tears': 4380, 'al': 170, 'pacino': 3164, 'puts': 3481, 'steven': 4182, 'michelle': 2830, 'gem': 1877, 'elvira': 1450, 'embarrassment': 1455, 'mary': 2751, 'elizabeth': 1445, 'lord': 2652, 'portrays': 3344, 'torn': 4528, 'reviewer': 3677, 'learned': 2551, 'hype': 2207, 'glimpse': 1919, 'ignore': 2224, 'rap': 3520, 'mindless': 2851, 'fix': 1744, 'rocks': 3722, 'viewing': 4740, 'overrated': 3156, 'unique': 4662, 'driver': 1366, 'strip': 4228, 'ground': 1979, 'breaking': 570, 'lynch': 2691, 'hill': 2108, 'blues': 519, 'werent': 4849, 'wild': 4885, 'merely': 2815, 'corner': 996, 'nowhere': 3056, 'forced': 1787, 'behave': 445, 'idiotic': 2219, 'whenever': 4863, 'cliché': 844, 'models': 2881, 'plastic': 3294, 'flynn': 1765, 'faced': 1617, 'madonna': 2699, 'spell': 4104, 'charisma': 762, 'polished': 3323, 'reputation': 3640, 'edge': 1418, 'elephant': 1444, 'par': 3184, 'relatively': 3600, 'intellectual': 2312, 'laura': 2536, 'obsessed': 3069, 'bright': 581, 'romance': 3732, 'widow': 4883, 'planning': 3291, 'comfortable': 892, 'nicholas': 3010, 'accents': 79, 'york': 4985, 'primarily': 3393, 'drew': 1360, 'awkward': 374, 'dennis': 1179, 'christopher': 811, 'uncomfortable': 4637, 'rid': 3690, 'confusing': 942, 'overdone': 3152, 'nude': 3058, 'guilty': 1995, 'diamond': 1236, 'generally': 1881, 'admire': 121, 'amateur': 206, 'remain': 3609, 'includes': 2263, 'designed': 1203, 'shock': 3938, 'liking': 2604, 'judging': 2425, 'amateurish': 207, 'initially': 2291, 'maker': 2714, 'tedious': 4387, 'pretentious': 3383, 'virtually': 4751, 'endure': 1475, 'raised': 3508, 'problems': 3409, 'separate': 3883, 'adorable': 124, 'favourite': 1673, 'rabbit': 3498, 'menacing': 2807, 'sports': 4130, 'memorable': 2802, 'toys': 4543, 'woody': 4936, 'wrap': 4963, 'punch': 3466, 'closing': 859, 'intriguing': 2335, 'argument': 291, 'understanding': 4645, 'exact': 1550, 'differences': 1247, 'scripted': 3835, 'parody': 3192, 'prevent': 3385, 'meant': 2784, 'adding': 117, 'walked': 4776, 'wish': 4904, 'erotic': 1515, 'revolves': 3682, 'lawyer': 2541, 'clear': 839, 'accused': 91, 'plots': 3310, 'drunk': 1375, 'ugly': 4625, 'hot': 2174, 'sleazy': 4023, 'porno': 3337, 'master': 2757, 'burned': 626, 'hardcore': 2034, 'dawson': 1128, 'thrillers': 4473, 'chemistry': 782, 'masterpieces': 2760, 'pushing': 3479, 'hollywoods': 2138, 'resort': 3650, 'backdrop': 379, 'focus': 1766, 'centers': 734, 'response': 3654, 'anyways': 262, 'tomatoes': 4515, 'scripts': 3836, 'opened': 3113, 'minimum': 2856, 'bottom': 551, 'class': 833, 'torture': 4529, 'piano': 3264, 'sinatra': 3989, 'hours': 2177, 'credits': 1050, 'university': 4667, 'frank': 1821, 'sentimental': 3882, 'liners': 2611, 'goofy': 1939, 'adam': 111, 'suffers': 4278, 'butt': 638, 'joke': 2414, 'victims': 4730, '45': 50, 'catherine': 719, 'julia': 2427, 'roberts': 3714, 'justice': 2438, 'complain': 919, 'deserve': 1199, 'means': 2783, 'diana': 1237, 'facing': 1620, 'fourth': 1813, 'anger': 235, 'tiny': 4500, 'demons': 1178, 'plague': 3285, 'stops': 4203, 'ironically': 2356, 'boxing': 556, 'determined': 1221, 'dollars': 1315, 'costs': 1004, 'gender': 1878, 'realistic': 3550, 'honest': 2146, 'portrait': 3339, 'desperation': 1210, 'candy': 668, 'fighter': 1708, 'lose': 2654, 'honesty': 2148, 'portrayed': 3342, 'bleak': 503, 'debut': 1143, 'intensity': 2317, 'waves': 4819, 'inspiration': 2300, 'available': 361, 'note': 3044, 'feet': 1688, 'headed': 2058, 'term': 4405, 'realism': 3549, 'arms': 294, 'keeping': 2450, 'approach': 282, 'filmmaker': 1719, 'appropriate': 283, 'douglas': 1334, 'ashley': 313, 'thomas': 4458, 'identify': 2216, 'welcome': 4842, 'nightmare': 3014, 'newly': 3004, 'married': 2744, 'lily': 2605, 'bride': 577, 'insane': 2296, 'learning': 2552, 'mistress': 2874, 'finale': 1723, 'swear': 4334, 'godzilla': 1929, 'snow': 4045, 'inspector': 2299, 'large': 2517, 'method': 2824, 'alice': 182, 'serial': 3889, 'creation': 1040, 'fictional': 1703, 'creep': 1051, 'favor': 1670, 'ann': 244, 'dawn': 1127, 'jane': 2380, 'gradually': 1952, 'learns': 2553, 'shocking': 3940, 'pleasant': 3302, 'entry': 1504, 'clues': 865, 'revelation': 3674, 'downright': 1337, 'tortured': 4530, 'rogers': 3725, 'museum': 2945, 'helped': 2080, 'lighting': 2596, 'suspense': 4330, 'pace': 3161, 'builds': 617, 'mile': 2842, 'lower': 2677, 'higher': 2101, 'acceptable': 81, 'veteran': 4724, 'upset': 4687, 'vampire': 4711, 'store': 4204, 'pitt': 3280, 'prove': 3445, 'imagination': 2236, 'scares': 3806, 'attempted': 341, 'weakest': 4825, 'similar': 3978, 'pg': 3250, '13': 4, 'company': 910, 'teeth': 4393, 'account': 89, 'deals': 1137, 'friendship': 1838, 'extreme': 1609, 'jail': 2376, 'lust': 2689, 'claire': 831, 'danes': 1108, 'kate': 2446, 'russian': 3762, 'chaplin': 756, 'unpredictable': 4675, 'carries': 699, 'sexy': 3911, 'angles': 237, 'gorgeous': 1942, 'presence': 3373, 'holy': 2140, 'hysterical': 2208, 'anybody': 257, 'wit': 4908, 'six': 4010, 'shelf': 3926, 'gags': 1862, 'dozens': 1339, 'butler': 637, 'robinson': 3716, 'cousin': 1021, 'wow': 4962, 'cusack': 1088, 'walken': 4777, 'hank': 2024, 'greedy': 1969, 'youd': 4987, 'americas': 215, 'names': 2963, 'gonna': 1936, 'cruise': 1071, 'somebody': 4062, 'carry': 700, 'painful': 3171, 'suck': 4269, 'suit': 4284, 'happening': 2028, '30': 42, 'decisions': 1152, 'choices': 798, 'orson': 3132, 'image': 2233, 'conflict': 939, 'photographed': 3258, 'unexpected': 4650, 'details': 1219, 'murderous': 2942, 'acted': 98, 'underlying': 4641, 'showdown': 3955, 'sun': 4292, 'web': 4833, 'mirror': 2861, 'cartoon': 704, 'exercise': 1568, 'undoubtedly': 4648, '40s': 49, '50s': 52, 'troops': 4591, 'tales': 4357, 'bumbling': 622, 'nazis': 2978, 'jungle': 2434, 'fred': 1825, 'lips': 2615, 'football': 1783, 'hits': 2125, 'gun': 1996, 'scared': 3805, 'manner': 2729, 'remarkably': 3614, 'womans': 4922, 'psychotic': 3459, 'wounded': 4961, 'cold': 872, 'mini': 2854, 'gas': 1874, '80': 58, 'miles': 2843, 'gruesome': 1986, 'cake': 648, 'ears': 1402, 'background': 380, 'recording': 3575, 'sympathy': 4343, 'revolutionary': 3681, 'rolling': 3730, 'stones': 4198, 'richards': 3687, 'charlie': 765, 'faithful': 1634, 'movements': 2924, 'pulp': 3465, 'novel': 3052, 'sight': 3969, 'uneven': 4649, 'careers': 687, 'documentary': 1307, 'unbearable': 4633, 'vote': 4766, 'brazil': 568, 'jennifer': 2392, 'returns': 3668, 'recently': 3567, 'deceased': 1146, 'fay': 1674, 'sell': 3871, 'nightmares': 3015, 'relate': 3593, 'distant': 1295, 'whereas': 4865, 'grade': 1951, 'poetic': 3313, 'accomplished': 87, 'melodramatic': 2798, 'understated': 4646, 'pot': 3354, 'train': 4556, 'thrown': 4481, 'succeeded': 4263, 'namely': 2962, 'delivering': 1171, 'thrills': 4475, 'delivered': 1170, 'shouldnt': 3952, 'reasonable': 3558, 'sloppy': 4030, 'steve': 4181, 'funniest': 1851, 'mistaken': 2872, 'unfunny': 4655, 'solely': 4056, 'normally': 3034, 'productions': 3420, 'toilet': 4512, 'french': 1830, 'spanish': 4092, 'greatly': 1967, 'industry': 2280, 'melodrama': 2797, 'types': 4622, 'dimensional': 1253, 'historically': 2120, 'philip': 3252, 'attracted': 349, 'information': 2288, 'awards': 367, 'ludicrous': 2685, 'hitchcock': 2123, 'convey': 982, 'landscape': 2513, 'dying': 1393, 'unwatchable': 4682, '70': 55, 'length': 2569, 'button': 639, 'scenario': 3808, 'moon': 2900, 'junk': 2436, 'native': 2972, 'killers': 2471, 'offered': 3088, 'thousands': 4466, 'government': 1948, 'destruction': 1216, 'nation': 2969, 'hunting': 2201, 'robert': 3713, 'theory': 4437, 'heavy': 2070, 'characterization': 759, 'stewart': 4184, 'evident': 1547, 'limited': 2606, 'indians': 2275, 'horses': 2171, 'generous': 1886, 'hunters': 2200, 'lloyd': 2630, 'drunken': 1376, 'ford': 1789, 'steals': 4172, 'richard': 3686, 'brooks': 596, 'animals': 240, 'surprisingly': 4316, 'spooky': 4128, 'flawless': 1751, 'dubbing': 1380, 'logical': 2639, 'news': 3005, 'reporter': 3636, 'conversation': 980, 'reveals': 3673, 'offers': 3090, '100': 1, 'walk': 4775, 'afford': 138, 'unlike': 4670, 'surprising': 4315, 'pity': 3281, 'recorded': 3574, 'depicts': 1186, 'achieved': 93, 'proves': 3447, 'range': 3516, 'san': 3780, 'male': 2719, 'nurse': 3063, 'moved': 2922, 'load': 2631, 'ashamed': 312, 'terrifying': 4410, 'wise': 4903, 'innovative': 2295, 'relies': 3606, 'ingredients': 2289, 'insight': 2298, 'consists': 955, 'handle': 2018, 'dialogs': 1233, 'jenny': 2393, 'unconvincing': 4638, 'asleep': 320, 'poster': 3353, 'pointless': 3318, 'graphic': 1958, 'bloody': 513, 'explains': 1589, 'isolated': 2363, 'accident': 84, 'deaths': 1142, 'passes': 3203, 'promise': 3430, 'coach': 868, 'illness': 2230, 'navy': 2976, '80s': 59, 'brutally': 604, 'murderer': 2941, 'abandoned': 62, 'stock': 4193, 'dust': 1388, 'warned': 4798, 'return': 3665, 'murders': 2943, 'unknown': 4668, 'figure': 1711, 'afterwards': 145, 'unoriginal': 4673, 'independent': 2272, 'australian': 357, 'slasher': 4020, 'forgettable': 1794, 'lasted': 2522, 'helping': 2081, 'urban': 4688, 'structure': 4233, 'treatment': 4574, 'surprises': 4314, 'molly': 2884, 'returning': 3667, 'finish': 1732, 'laughably': 2531, 'send': 3875, 'jessica': 2398, 'singer': 3993, 'sudden': 4272, 'madness': 2698, 'stated': 4161, 'touches': 4535, 'gore': 1941, 'lacking': 2504, 'ass': 323, 'notes': 3046, 'execution': 1566, 'sheer': 3925, 'matches': 2764, 'lousy': 2667, 'digital': 1251, 'sentence': 3881, 'sky': 4017, 'fill': 1714, 'vivid': 4760, 'imagery': 2234, 'homer': 2144, 'rocket': 3721, 'staff': 4138, 'joe': 2407, 'witness': 4914, 'chilling': 794, 'plight': 3308, 'blue': 518, 'placed': 3283, 'match': 2762, 'endearing': 1469, 'buffs': 612, 'development': 1225, 'profound': 3423, 'truth': 4599, 'intentions': 2321, 'granted': 1957, 'expected': 1577, 'jesus': 2399, 'scare': 3803, 'morgan': 2905, 'freeman': 1829, 'meet': 2793, 'mexican': 2826, 'bobby': 525, 'tender': 4401, 'joan': 2404, 'sappy': 3784, 'mayor': 2777, 'lesser': 2576, 'limits': 2607, 'doubt': 1332, 'began': 441, 'kinda': 2477, 'itll': 2369, 'worry': 4950, 'endings': 1472, 'horrifying': 2167, 'voight': 4764, 'burt': 629, 'reynolds': 3684, 'magnificent': 2705, 'shell': 3927, 'staring': 4152, 'shy': 3962, 'gratuitous': 1961, 'defense': 1159, 'seemingly': 3863, 'expect': 1575, 'viewed': 4737, 'rooms': 3736, 'clue': 864, 'conversations': 981, 'storytelling': 4209, 'media': 2789, 'features': 1680, 'keaton': 2448, 'ron': 3734, 'howard': 2182, 'letting': 2583, 'push': 3477, 'spots': 4132, 'cars': 702, 'visits': 4756, 'roots': 3738, 'witch': 4909, 'wondering': 4930, 'alcohol': 176, 'drag': 1342, 'prequel': 3372, 'rise': 3702, '2005': 35, 'agreed': 156, 'producing': 3417, 'fest': 1696, 'hat': 2045, 'reminded': 3619, 'niro': 3019, 'shoes': 3941, 'brando': 566, 'portray': 3340, 'don': 1320, 'godfather': 1927, 'oscar': 3133, 'guts': 1999, 'sat': 3786, 'mouth': 2920, 'various': 4715, 'spider': 4109, 'remains': 3611, 'traditional': 4550, 'villains': 4745, 'overacting': 3149, 'wars': 4804, 'doom': 1326, 'bela': 450, 'lugosi': 2686, 'doc': 1303, 'iron': 2354, 'sounded': 4082, 'mel': 2796, 'animation': 242, 'movement': 2923, 'heroes': 2089, 'square': 4136, 'wedding': 4836, 'spoil': 4121, 'peters': 3248, 'critic': 1061, 'calls': 654, 'charge': 761, 'block': 508, 'comics': 895, 'insulting': 2310, 'ourselves': 3140, 'commit': 904, 'mans': 2730, 'blake': 498, 'flash': 1745, 'gordon': 1940, 'rose': 3739, 'marie': 2737, 'beating': 425, 'allow': 189, 'hanks': 2025, 'perfection': 3225, 'position': 3345, 'occurs': 3078, 'rob': 3710, 'bond': 532, 'value': 4709, 'combined': 885, 'exaggerated': 1552, 'quotes': 3497, 'clothing': 861, 'credible': 1048, 'shadow': 3912, 'professor': 3422, 'influenced': 2287, 'connect': 944, 'fashioned': 1660, 'prefer': 3368, 'toy': 4542, 'simplicity': 3984, 'relation': 3595, 'franco': 1820, 'buddies': 608, '90': 60, 'similarities': 3979, 'harsh': 2040, 'purchased': 3470, 'gripping': 1976, 'pilot': 3276, 'survivor': 4324, 'crying': 1074, 'wolf': 4920, 'crappy': 1032, 'copy': 994, 'forget': 1793, 'tension': 4404, 'jump': 2429, 'ethan': 1528, 'walter': 4784, 'international': 2326, 'forms': 1801, 'known': 2492, 'wood': 4933, 'maggie': 2702, 'nick': 3012, 'quirky': 3493, 'alex': 179, 'study': 4242, 'desire': 1205, 'presented': 3376, 'picked': 3266, 'paris': 3189, '20': 29, 'emotionally': 1460, 'receives': 3565, 'annoyed': 248, 'persons': 3244, 'games': 1865, 'bin': 483, 'amazed': 208, 'alongside': 196, 'kicking': 2462, 'twice': 4613, 'size': 4012, 'nasty': 2968, 'hed': 2072, 'bomb': 531, 'uk': 4626, 'installment': 2303, 'eric': 1514, 'sea': 3838, 'grows': 1985, 'forbidden': 1785, 'trouble': 4592, 'control': 977, 'angel': 231, 'rule': 3753, 'beat': 423, 'olivier': 3103, 'worlds': 4947, 'dies': 1245, 'odd': 3080, 'priceless': 3390, 'laughs': 2534, 'logic': 2638, 'vietnam': 4735, 'machine': 2693, 'energy': 1478, 'failure': 1629, 'levels': 2585, 'moronic': 2907, 'aint': 163, 'trite': 4589, 'sci': 3815, 'fi': 1701, 'skip': 4016, 'funnier': 1850, 'hence': 2083, 'plans': 3292, 'rubber': 3747, 'doll': 1313, 'bag': 384, 'finally': 1724, 'idiot': 2218, 'harvey': 2042, 'metal': 2823, 'hoping': 2160, 'engaging': 1481, 'eighties': 1437, 'warren': 4801, 'beatty': 427, 'starred': 4153, 'reed': 3580, 'tracy': 4546, 'tons': 4520, 'competition': 918, 'target': 4366, 'hoffman': 2128, 'author': 359, 'nomination': 3026, 'saturday': 3792, 'broadcast': 591, 'armed': 293, 'jimmy': 2403, 'judy': 2426, 'andrews': 229, 'struck': 4232, 'twin': 4615, 'childhood': 790, 'citizen': 824, 'report': 3635, 'victim': 4729, 'satisfy': 3790, 'ruined': 3751, 'gotten': 1947, 'category': 718, 'illogical': 2231, 'funeral': 1849, 'reunion': 3669, 'theatre': 4429, 'overlook': 3153, 'leslie': 2574, 'ian': 2209, 'ball': 388, 'fare': 1655, 'ie': 2221, 'reference': 3582, 'tommy': 4516, 'airplane': 166, 'moral': 2902, 'hudson': 2184, 'tape': 4365, 'spectacular': 4101, 'connected': 945, 'competent': 917, 'spoiler': 4123, 'dare': 1113, 'forever': 1792, 'switch': 4339, 'bound': 553, 'suffer': 4275, 'matters': 2770, 'pay': 3216, 'doomed': 1327, 'faults': 1669, 'loads': 2633, 'everywhere': 1545, 'disaster': 1276, 'clips': 852, 'accepted': 82, 'glory': 1922, 'dignity': 1252, 'ran': 3513, 'morning': 2906, 'slightest': 4028, 'zombie': 4997, 'dozen': 1338, 'blame': 499, 'celluloid': 731, 'uwe': 4703, 'boll': 529, 'card': 681, 'incoherent': 2265, 'league': 2549, 'extras': 1608, 'warning': 4800, 'bother': 548, 'fallen': 1638, 'trap': 4563, 'birthday': 487, 'edited': 1420, 'regardless': 3590, 'visit': 4755, 'remaining': 3610, 'sue': 4274, 'anderson': 227, 'research': 3644, 'damn': 1100, '24': 39, 'occur': 3076, 'rat': 3525, 'virginia': 4750, 'till': 4493, 'claim': 828, 'months': 2897, 'prior': 3400, 'secrets': 3852, 'revealed': 3671, 'avoided': 364, 'multiple': 2936, 'react': 3540, 'extraordinary': 1607, 'oddly': 3081, 'definite': 1161, 'harder': 2035, 'thankfully': 4422, 'influence': 2286, 'incomprehensible': 2267, 'twisted': 4618, 'occasionally': 3075, 'translation': 4562, 'fire': 1734, 'random': 3514, 'havent': 2053, 'techniques': 4384, 'impression': 2252, 'mysteries': 2954, 'strength': 4219, 'mistakes': 2873, 'commented': 900, 'practically': 3362, 'captured': 677, 'sum': 4289, 'terry': 4415, 'adams': 112, 'twilight': 4614, 'zone': 4999, 'bringing': 586, 'dave': 1123, 'andrew': 228, 'bold': 528, 'developed': 1223, 'demands': 1175, 'proud': 3444, 'glad': 1916, 'stuck': 4237, 'sellers': 3872, 'award': 366, 'chinese': 796, 'caliber': 649, 'partly': 3197, 'pearl': 3220, 'buck': 605, 'prize': 3405, 'matched': 2763, 'description': 1197, 'comparing': 913, 'australia': 356, 'asked': 317, 'slave': 4022, 'sons': 4073, 'record': 3573, 'expressions': 1603, 'silent': 3975, 'property': 3438, 'causes': 725, 'tribute': 4581, 'kung': 2498, 'fu': 1844, 'location': 2635, 'screening': 3830, 'mickey': 2831, 'involves': 2348, 'crocodile': 1065, 'cia': 814, 'choreographed': 801, 'fights': 1710, 'via': 4726, 'service': 3896, 'station': 4164, 'scott': 3824, 'concerns': 934, 'lab': 2501, 'aid': 160, 'city': 825, 'psychic': 3456, 'experiments': 1584, 'hideous': 2098, 'closet': 858, 'wreck': 4965, 'jason': 2383, 'spite': 4117, 'nonsensical': 3031, 'unintentionally': 4659, 'joseph': 2419, 'clip': 851, 'restored': 3659, 'recall': 3562, 'talks': 4361, 'usa': 4691, 'jaws': 2385, 'current': 1084, 'joy': 2422, 'italy': 2368, 'lucky': 2683, 'annie': 247, 'dancers': 1105, 'performers': 3232, 'passion': 3205, 'strike': 4224, 'allows': 192, 'survival': 4320, 'woods': 4935, 'fx': 1858, 'knock': 2488, 'consider': 949, 'training': 4558, 'winds': 4895, 'distracting': 1297, 'audio': 354, 'fed': 1682, '2004': 34, 'homage': 2141, 'importantly': 2248, 'progress': 3425, 'wizard': 4919, 'oz': 3160, 'robots': 3718, 'superman': 4301, 'giant': 1905, 'phantom': 3251, 'menace': 2806, 'beings': 449, 'smiling': 4037, 'wet': 4855, 'vampires': 4712, 'providing': 3451, 'ripped': 3701, 'reaching': 3539, 'huh': 2187, 'jumps': 2432, 'hello': 2078, 'sticks': 4186, 'removed': 3624, 'continues': 971, 'manager': 2724, 'fired': 1735, 'carried': 698, 'suffering': 4277, 'worthless': 4954, 'wide': 4880, 'construction': 960, 'building': 615, 'winner': 4897, 'pie': 3271, 'spirited': 4114, 'resources': 3651, 'sold': 4052, 'altogether': 202, 'robbery': 3711, 'properly': 3437, 'brad': 560, 'touched': 4534, 'genuine': 1891, 'montana': 2895, 'breathtaking': 574, 'mountains': 2918, 'wishes': 4906, 'directs': 1267, 'chicago': 785, 'waters': 4817, 'fond': 1776, 'facts': 1624, 'statement': 4162, 'serve': 3893, 'entertained': 1498, 'claimed': 829, 'controversial': 978, 'rented': 3628, 'yesterday': 4983, 'global': 1920, 'combination': 883, 'merit': 2816, 'strongly': 4231, 'paying': 3217, 'wanna': 4786, 'virgin': 4749, 'causing': 726, 'student': 4238, 'suddenly': 4273, 'died': 1244, 'cared': 685, 'ramones': 3512, 'bands': 392, 'mid': 2832, 'fifteen': 1706, 'subsequent': 4257, 'joey': 2408, 'responsible': 3656, 'pregnant': 3369, 'kicked': 2461, 'tall': 4362, 'race': 3499, 'bollywood': 530, 'advise': 134, 'concern': 931, 'teen': 4388, '1980s': 21, 'manage': 2722, 'freak': 1824, 'ships': 3935, 'smoke': 4039, 'videos': 4734, 'wasting': 4810, 'mall': 2720, 'demand': 1174, 'evidence': 1546, 'titled': 4505, 'content': 966, 'striking': 4226, 'occasional': 3074, 'rental': 3627, 'valuable': 4708, 'color': 877, 'refreshing': 3586, 'regular': 3592, 'principal': 3398, 'area': 286, 'shop': 3945, 'ancient': 225, 'theatrical': 4430, 'walks': 4780, 'pathetic': 3210, 'macy': 2695, 'luck': 2681, 'selling': 3873, 'enter': 1494, 'cinemas': 817, 'recognized': 3570, 'johnson': 2411, 'leonard': 2572, 'court': 1020, 'discovers': 1281, 'punishment': 3467, 'develops': 1226, 'experiment': 1583, 'faster': 1662, 'shines': 3932, 'legendary': 2565, 'arthur': 305, 'transition': 4561, 'importance': 2246, 'notable': 3041, 'elegant': 1441, 'intention': 2319, 'travel': 4567, 'subjects': 4254, 'addition': 118, 'anywhere': 263, 'st': 4137, 'abc': 63, 'loyal': 2679, 'beloved': 461, 'cash': 709, 'task': 4368, 'commercials': 903, 'grace': 1950, 'india': 2273, 'kapoor': 2443, 'reached': 3537, 'bridge': 578, 'growing': 1983, 'kirk': 2482, 'jesse': 2397, 'riding': 3695, 'appeared': 276, 'apparent': 269, 'royal': 3746, 'exposed': 1598, 'specific': 4099, 'market': 2740, 'gag': 1861, 'host': 2173, 'cook': 988, 'pair': 3176, 'legs': 2566, 'sucked': 4270, 'offering': 3089, 'received': 3564, 'national': 2970, 'brilliance': 582, 'waited': 4771, 'bible': 477, 'code': 869, 'clumsy': 866, 'reflect': 3584, 'monkey': 2890, 'intrigue': 2333, 'racist': 3503, 'leader': 2546, 'yellow': 4981, 'falk': 1636, 'vegas': 4717, 'vacation': 4704, 'redeeming': 3577, 'seventies': 3904, 'apartment': 265, '17': 9, 'elm': 1447, 'lisa': 2616, 'amanda': 205, '3d': 46, 'print': 3399, 'universal': 4665, 'versus': 4722, 'whoever': 4872, 'blonde': 511, 'miller': 2846, 'primary': 3394, 'ape': 266, 'weapons': 4829, 'heroic': 2090, 'wrestling': 4966, 'monsters': 2893, 'portrayal': 3341, 'bedroom': 437, 'involve': 2345, 'aging': 153, 'cinematographer': 819, 'francis': 1818, 'finest': 1730, 'gentle': 1890, 'engage': 1479, 'adaptation': 113, 'paltrow': 3178, 'davies': 1125, 'albeit': 173, 'gifted': 1907, 'wives': 4918, 'inspired': 2301, 'snl': 4044, 'bone': 533, 'williams': 4888, 'terrorists': 4414, 'amazingly': 210, 'homeless': 2143, 'eating': 1413, 'mental': 2808, 'aged': 149, 'unable': 4631, 'manipulative': 2727, 'practice': 3363, 'dreary': 1356, 'comical': 894, 'albert': 174, 'sink': 3999, 'bothered': 549, 'reactions': 3542, 'cuba': 1075, 'lucy': 2684, 'aired': 165, 'heaven': 2068, 'bacall': 377, 'dorothy': 1330, 'academy': 77, 'highlight': 2103, 'turning': 4608, 'raped': 3522, 'sympathetic': 4342, 'impact': 2244, 'stood': 4199, 'karen': 2444, 'spielberg': 4110, 'succeed': 4262, 'bullets': 621, 'amy': 222, 'slap': 4018, 'slapstick': 4019, 'cliche': 843, 'dolls': 1316, 'amongst': 218, 'books': 536, 'previously': 3388, 'strikes': 4225, '1980': 20, 'resemblance': 3645, 'gary': 1873, 'boot': 538, 'savage': 3793, 'occasion': 3073, 'noted': 3045, 'adapted': 114, 'pal': 3177, 'pitch': 3279, 'petty': 3249, 'priest': 3392, 'christ': 807, 'producer': 3415, 'spain': 4091, 'vulnerable': 4768, 'assault': 324, 'ensemble': 1492, 'hopes': 2159, 'stale': 4141, 'stretched': 4222, 'easier': 1405, 'akshay': 169, 'abraham': 69, 'extent': 1605, 'baby': 376, 'financial': 1725, 'committed': 905, 'suicide': 4283, 'imagined': 2239, 'husbands': 2205, 'smoking': 4040, 'majority': 2712, 'wholly': 4874, 'beast': 422, 'kinds': 2478, 'thumbs': 4485, 'horse': 2170, 'tour': 4538, 'mate': 2765, 'banned': 395, 'sexuality': 3909, 'upper': 4685, 'persona': 3239, 'contrast': 975, 'flight': 1757, 'admittedly': 123, 'scientist': 3818, 'animal': 239, 'window': 4894, 'santa': 3783, 'round': 3742, 'hundred': 2195, 'theyd': 4443, 'assume': 328, 'authentic': 358, 'winter': 4900, 'meanwhile': 2785, 'ensues': 1493, 'familys': 1646, 'flies': 1756, 'flaw': 1749, 'punk': 3468, 'sneak': 4043, 'stinker': 4191, 'paced': 3162, 'catchy': 717, 'omen': 3104, 'latin': 2527, 'dirty': 1268, 'clint': 850, 'eastwood': 1409, 'humble': 2191, 'francisco': 1819, 'gritty': 1977, 'dollar': 1314, 'pat': 3208, 'chief': 788, 'furthermore': 1854, 'stanley': 4148, 'disgusting': 1286, 'absolute': 71, 'checking': 778, 'teenagers': 4391, 'mature': 2773, 'realized': 3553, 'methods': 2825, 'teach': 4374, 'dinosaurs': 1256, 'couples': 1017, 'dangerous': 1110, 'according': 88, 'divorce': 1301, 'colors': 879, 'shorts': 3948, 'ralph': 3510, 'soldier': 4053, 'nominated': 3025, 'westerns': 4854, 'appalling': 268, 'supposedly': 4307, 'obscure': 3068, 'fury': 1855, 'million': 2847, 'listen': 2619, 'suggests': 4282, 'lesbian': 2573, 'companion': 909, 'blatant': 502, 'jealous': 2388, 'suspicious': 4332, 'exotic': 1574, 'eyre': 1614, 'bbc': 417, 'charlotte': 766, 'literature': 2623, 'timothy': 4499, 'rochester': 3719, 'estate': 1525, 'laws': 2540, 'closely': 855, 'deeply': 1156, 'september': 3884, '2007': 37, 'midnight': 2834, 'mgm': 2828, 'grab': 1949, 'babe': 375, 'pain': 3170, 'gray': 1963, 'spending': 4106, 'marty': 2749, 'excitement': 1562, 'festival': 1697, 'parties': 3196, 'diane': 1238, 'lonely': 2643, 'anna': 245, 'crowd': 1067, 'decades': 1145, 'purchase': 3469, 'secretary': 3850, 'futuristic': 1857, 'repeat': 3630, 'precious': 3366, 'burning': 627, 'trade': 4547, 'tree': 4576, 'west': 4852, 'appreciated': 280, 'cgi': 740, 'blew': 505, 'psycho': 3457, 'dated': 1119, 'quest': 3486, 'superbly': 4297, 'bakshi': 386, 'pleased': 3305, 'terribly': 4408, 'stopped': 4202, 'alert': 178, 'hasnt': 2044, 'intentionally': 2320, 'technology': 4385, 'damage': 1099, 'felix': 1689, 'broadway': 592, 'matthau': 2771, 'lemmon': 2567, 'consistent': 953, 'gold': 1932, 'nine': 3017, 'depressed': 1187, 'shelley': 3928, 'matrix': 2767, 'stargate': 4151, 'tune': 4602, 'korean': 2495, 'drawing': 1350, 'medical': 2790, 'kidnapped': 2466, 'invisible': 2344, 'unfolds': 4651, 'darker': 1116, 'generation': 1883, 'captivating': 675, 'minds': 2852, 'dry': 1377, 'advanced': 128, 'nail': 2957, 'format': 1799, 'glorious': 1921, 'conceived': 929, 'jeff': 2390, 'stiller': 4189, 'complaint': 920, 'cowboy': 1025, 'humorous': 2193, 'moore': 2901, 'lovable': 2668, 'sir': 4000, 'wealth': 4826, 'discovery': 1282, 'fail': 1625, 'photos': 3261, 'unseen': 4678, 'throwing': 4480, 'yelling': 4980, 'kicks': 2463, 'bugs': 613, 'believed': 455, 'stupidity': 4248, 'ho': 2127, 'shirley': 3936, 'bed': 436, 'sole': 4055, 'wilson': 4891, 'luke': 2687, 'constructed': 959, 'handed': 2016, 'bette': 471, 'favorites': 1672, 'generations': 1884, 'performer': 3231, 'bathroom': 412, 'ha': 2002, 'mann': 2728, 'devils': 1229, 'sidekick': 3966, 'reach': 3536, 'draw': 1349, 'dean': 1139, 'deadly': 1133, 'winters': 4901, 'mars': 2746, 'hip': 2114, 'gandhi': 1866, 'khan': 2459, 'mission': 2870, 'larger': 2519, 'ideal': 2214, 'basis': 408, 'parent': 3187, 'educational': 1425, 'devoted': 1231, 'seeks': 3860, 'considerable': 950, 'staged': 4140, 'medium': 2792, 'promises': 3432, 'poverty': 3357, 'developing': 1224, 'heights': 2073, 'stronger': 4230, 'troubles': 4594, 'handled': 2019, 'cup': 1080, 'patients': 3212, 'fooled': 1780, 'helen': 2075, 'phone': 3255, 'students': 4239, 'raising': 3509, 'demented': 1176, 'tap': 4364, 'dancer': 1104, 'quit': 3494, 'titles': 4506, 'bits': 490, 'stereotype': 4178, 'alright': 198, '40': 48, 'spoiled': 4122, 'southern': 4088, 'resulting': 3661, 'toward': 4539, 'nyc': 3065, 'neighborhood': 2993, 'threat': 4467, 'ruby': 3749, 'editor': 1423, 'irritating': 2359, 'semi': 3874, 'mixture': 2878, 'saga': 3773, 'empire': 1464, 'chapter': 757, 'lucas': 2680, 'relative': 3599, 'fisher': 1739, 'outfit': 3144, 'victoria': 4732, 'attitudes': 347, 'prince': 3396, 'shadows': 3913, 'focused': 1767, 'attempting': 342, 'figures': 1713, 'maintain': 2710, 'integrity': 2311, 'britain': 588, 'designs': 1204, 'styles': 4250, 'photography': 3260, 'dramas': 1347, 'emily': 1456, 'blunt': 520, 'conflicts': 940, 'warmth': 4796, 'fault': 1668, 'storm': 4206, 'mill': 2845, 'jamie': 2379, 'ward': 4793, 'succeeds': 4264, 'solve': 4060, 'press': 3379, 'rival': 3706, 'poetry': 3314, 'disturbed': 1299, 'skin': 4015, 'technique': 4383, 'ear': 1397, 'contain': 962, 'string': 4227, 'cringe': 1059, 'scientists': 3819, 'worker': 4942, 'chain': 741, 'mail': 2706, 'cardboard': 682, 'corny': 997, 'aids': 161, 'health': 2060, 'machines': 2694, 'defend': 1158, 'superior': 4300, 'landing': 2512, 'reaction': 3541, 'innocence': 2293, 'robot': 3717, 'artificial': 306, 'kenneth': 2455, 'branagh': 564, 'witnessed': 4915, 'calm': 655, 'imaginative': 2237, 'safe': 3771, 'countries': 1013, '75': 57, 'ninja': 3018, 'provided': 3449, 'worn': 4948, 'barry': 401, 'dude': 1381, 'horrendous': 2162, 'damon': 1101, 'classics': 837, 'laid': 2508, 'ellen': 1446, 'curse': 1086, 'europe': 1529, 'expressed': 1601, 'julie': 2428, 'shut': 3961, 'farm': 1656, 'uninteresting': 4660, 'scores': 3823, 'rural': 3758, 'powers': 3361, 'eaten': 1412, 'tea': 4373, 'farce': 1654, 'focuses': 1768, 'showcase': 3954, 'riveting': 3708, 'spy': 4135, 'attorney': 348, 'depiction': 1185, 'dedicated': 1153, 'hung': 2197, '2001': 31, 'dinosaur': 1255, 'awake': 365, 'mild': 2839, 'misses': 2868, 'teachers': 4376, 'dolph': 1317, 'teaching': 4377, 'duty': 1390, 'abysmal': 76, 'remotely': 3623, 'loser': 2655, 'wicked': 4879, 'splatter': 4118, 'appearing': 277, 'seagal': 3839, '16': 8, 'territory': 4411, 'drink': 1361, 'orders': 3127, 'females': 1694, 'carradine': 695, 'assumed': 329, 'corpse': 999, 'synopsis': 4344, 'ireland': 2352, 'repeatedly': 3632, 'flesh': 1753, 'transformation': 4560, 'wells': 4845, 'shower': 3957, 'montage': 2894, 'floating': 1758, 'carol': 693, 'forth': 1804, 'curiosity': 1082, 'performed': 3230, 'kissing': 2484, 'shine': 3931, 'mrs': 2930, 'inane': 2258, 'advance': 127, 'sinister': 3998, 'disease': 1285, 'motivations': 2915, 'staying': 4168, 'guest': 1992, 'split': 4120, 'inner': 2292, 'sarah': 3785, '25': 40, 'advertising': 132, 'obnoxious': 3067, 'immensely': 2243, 'revealing': 3672, 'implausible': 2245, 'possibilities': 3348, 'millions': 2848, 'christians': 809, 'religious': 3608, 'views': 4742, 'weekend': 4838, 'segment': 3867, 'struggle': 4234, 'united': 4664, 'oil': 3097, 'greater': 1965, 'paper': 3183, 'knowledge': 2491, 'ironic': 2355, 'weapon': 4828, 'arrested': 298, 'frequent': 1831, 'president': 3378, 'wake': 4774, 'taught': 4370, 'wealthy': 4827, 'classes': 834, 'selfish': 3870, 'proceeds': 3411, 'jeremy': 2394, 'tiresome': 4502, 'heroine': 2091, 'misery': 2865, 'peoples': 3222, 'relatives': 3601, 'angela': 232, 'incompetent': 2266, 'simon': 3982, 'whilst': 4869, 'sidney': 3968, 'dinner': 1254, 'fears': 1677, 'viewings': 4741, 'matthew': 2772, '1996': 26, 'blob': 507, 'parker': 3191, 'matt': 2768, 'appearances': 275, 'minor': 2857, 'alive': 186, 'advantage': 129, 'solo': 4058, 'princess': 3397, 'discuss': 1283, 'possessed': 3347, 'suspenseful': 4331, 'stinks': 4192, 'commentary': 899, 'lifetime': 2594, 'warming': 4795, 'internet': 2327, 'receive': 3563, 'daughters': 1122, 'spring': 4134, 'rendition': 3625, 'failing': 1627, 'visible': 4753, 'bird': 484, 'robbins': 3712, 'chick': 786, 'ryan': 3765, 'bo': 521, 'table': 4346, 'supernatural': 4302, 'blair': 497, 'vaguely': 4706, 'melting': 2799, 'forgot': 1796, 'surfing': 4311, 'channels': 754, 'con': 928, 'suffice': 4279, 'trashy': 4566, 'affect': 136, 'capital': 673, 'rings': 3699, 'nicholson': 3011, 'website': 4834, 'boyfriend': 558, 'lights': 2597, 'segments': 3868, 'hbo': 2055, 'exploration': 1593, 'theaters': 4428, 'suspend': 4329, 'paranoia': 3186, 'covered': 1023, 'boss': 546, 'tag': 4348, 'derek': 1192, 'initial': 2290, '1984': 23, 'makers': 2715, 'silver': 3977, 'universe': 4666, 'painting': 3175, 'losers': 2656, 'travels': 4569, 'lou': 2663, 'displayed': 1292, 'sincere': 3991, 'baker': 385, 'vice': 4727, 'chuck': 812, 'instinct': 2308, 'crack': 1027, 'andy': 230, 'compelled': 915, 'clown': 862, 'unfortunate': 4653, 'eastern': 1408, 'celebrity': 729, 'witches': 4910, 'arrogant': 303, 'cats': 721, 'guessing': 1991, 'aunt': 355, 'earl': 1398, 'richardson': 3688, 'roy': 3745, 'beer': 439, 'relevant': 3604, 'cheated': 775, '1st': 28, 'graphics': 1959, 'scientific': 3817, 'possibility': 3349, 'explosion': 1596, 'listening': 2620, 'analysis': 224, 'blown': 516, 'buildings': 616, 'cities': 823, 'outer': 3143, 'phony': 3256, 'urge': 4689, 'discovered': 1280, 'surviving': 4323, 'reasonably': 3559, 'reaches': 3538, 'stylish': 4251, 'neo': 2998, 'unlikely': 4671, 'racial': 3501, 'questionable': 3488, 'fatal': 1664, 'expensive': 1579, 'loosely': 2651, 'library': 2589, 'interviews': 2330, 'hop': 2154, 'regret': 3591, 'turkey': 4604, 'holiday': 2134, 'believes': 456, 'irrelevant': 2358, 'cheating': 776, 'los': 2653, 'angeles': 233, 'answers': 252, 'ad': 110, 'unintentional': 4658, 'rotten': 3740, 'miserable': 2863, 'deaf': 1134, 'offended': 3085, 'dialogues': 1235, 'robin': 3715, 'repetitive': 3633, 'awfully': 373, 'parallel': 3185, 'marks': 2742, 'spare': 4093, 'cd': 728, 'walker': 4778, 'emphasis': 1463, 'dating': 1120, 'contrary': 974, 'authority': 360, 'gods': 1928, 'chest': 784, 'finger': 1731, 'miracle': 2860, 'survived': 4322, 'notorious': 3051, 'bettie': 473, 'lay': 2542, 'conspiracy': 956, 'picks': 3268, 'bus': 631, 'distance': 1294, 'cruel': 1070, 'realizing': 3555, 'florida': 1761, 'stellar': 4174, '2000': 30, 'doors': 1329, 'newspaper': 3006, 'planned': 3290, 'household': 2179, 'rocky': 3723, 'pride': 3391, 'morality': 2903, 'expression': 1602, 'genres': 1889, 'thin': 4449, 'naked': 2959, 'numerous': 3062, 'scarecrow': 3804, 'miike': 2837, 'lees': 2560, 'satisfied': 3789, 'da': 1094, 'liberal': 2588, 'ignored': 2225, 'wed': 4835, 'mundane': 2938, 'transfer': 4559, 'sunshine': 4294, 'nelson': 2997, 'threw': 4470, 'false': 1641, 'subtlety': 4261, 'portion': 3338, 'useless': 4695, 'root': 3737, 'le': 2544, 'unsettling': 4679, 'flop': 1760, 'dvds': 1392, 'blond': 510, 'stilted': 4190, 'uninspired': 4657, 'kurt': 2499, 'russell': 3761, 'basement': 405, 'forty': 1807, 'overwhelming': 3157, 'relations': 3596, 'trademark': 4548, 'africa': 141, 'bottle': 550, 'pack': 3165, 'featured': 1679, 'pig': 3274, 'hyde': 2206, 'listed': 2618, 'bare': 398, 'werewolf': 4850, 'karloff': 2445, 'reads': 3545, 'cooper': 990, 'lying': 2690, 'bay': 416, 'trailers': 4555, 'dropped': 1370, 'brady': 561, 'mexico': 2827, 'prostitute': 3440, 'discussion': 1284, 'cultural': 1078, 'eccentric': 1414, 'props': 3439, 'thugs': 4484, 'wwii': 4975, 'superhero': 4299, 'basketball': 409, 'messed': 2821, 'exceptionally': 1559, 'guilt': 1994, 'stanwyck': 4149, 'changing': 752, 'fbi': 1675, 'circle': 821, 'bonus': 534, 'defeat': 1157, 'vague': 4705, 'highlights': 2104, 'beats': 426, 'blank': 501, 'condition': 937, 'duke': 1383, 'samurai': 3779, 'carrying': 701, 'topless': 4527, 'fish': 1738, 'chicks': 787, 'stunt': 4245, 'cell': 730, 'pseudo': 3454, 'personalities': 3241, 'holly': 2136, 'lively': 2627, 'pretend': 3381, 'significant': 3972, 'classical': 836, 'dubbed': 1379, 'blade': 495, 'jumped': 2430, '30s': 44, 'progresses': 3426, 'folk': 1770, 'domestic': 1318, 'delivery': 1173, 'hoped': 2156, 'remind': 3618, 'extended': 1604, 'psychiatrist': 3455, 'shirt': 3937, 'chooses': 800, 'generic': 1885, 'propaganda': 3435, 'thick': 4447, 'kitchen': 2485, 'valley': 4707, 'described': 1195, 'inspiring': 2302, 'artists': 309, 'psychological': 3458, 'anime': 243, 'gift': 1906, 'traveling': 4568, 'bergman': 466, 'intrigued': 2334, 'manhattan': 2726, 'noise': 3024, 'catches': 715, 'eva': 1531, 'halfway': 2008, 'stevens': 4183, 'measure': 2786, 'deliberately': 1166, 'guessed': 1990, 'nuts': 3064, 'belong': 459, 'preview': 3386, 'wishing': 4907, 'ps': 3453, 'horrific': 2166, 'virus': 4752, 'morris': 2908, 'tooth': 4524, '1999': 27, 'loaded': 2632, 'slight': 4027, 'realise': 3548, 'dentist': 1180, 'mafia': 2700, 'presumably': 3380, 'sleeping': 4025, 'ought': 3138, 'wandering': 4785, 'atrocious': 335, 'potentially': 3356, 'proceedings': 3410, 'adequate': 120, 'appreciation': 281, 'bat': 410, 'combine': 884, '1940s': 13, 'generated': 1882, 'taxi': 4371, 'wing': 4896, 'date': 1118, 'tremendous': 4579, 'hiding': 2099, 'breath': 573, 'descent': 1193, 'highest': 2102, 'hole': 2132, 'wins': 4899, 'replaced': 3634, 'drags': 1345, '1933': 12, 'masterful': 2758, 'berlin': 467, 'official': 3094, 'documentaries': 1306, 'entertain': 1497, 'expert': 1585, 'pops': 3332, 'pants': 3182, 'disc': 1278, 'beliefs': 452, 'raw': 3532, 'secretly': 3851, 'tunes': 4603, 'interaction': 2322, 'goal': 1925, 'glenn': 1918, 'craig': 1030, 'site': 4005, 'dickens': 1240, 'scrooge': 3837, 'businessman': 634, 'wore': 4939, 'dracula': 1341, 'plant': 3293, 'exceptional': 1558, 'operation': 3117, 'stooges': 4200, 'sophisticated': 4075, 'march': 2734, 'grim': 1974, 'month': 2896, 'seed': 3856, 'lowest': 2678, 'scooby': 3820, 'doo': 1325, 'scope': 3821, 'widmark': 4882, 'lena': 2568, 'justin': 2440, 'denzel': 1181, 'unit': 4663, 'pushed': 3478, 'variety': 4714, 'swim': 4337, 'donna': 1323, 'ken': 2453, 'ruth': 3763, 'sean': 3840, 'border': 539, 'responsibility': 3655, 'bell': 458, 'catching': 716, 'june': 2433, 'widely': 4881, 'creativity': 1042, 'intimate': 2331, 'burn': 625, 'kingdom': 2480, 'susan': 4326, 'raymond': 3534, 'ghosts': 1903, 'severe': 3906, 'exposure': 1599, 'april': 284, 'access': 83, 'sutherland': 4333, 'travesty': 4570, 'nights': 3016, 'popcorn': 3331, 'ultra': 4629, 'drops': 1372, 'cliff': 847, 'titanic': 4503, 'flawed': 1750, 'reflection': 3585, 'rick': 3689, 'nancy': 2964, 'alike': 185, 'thief': 4448, 'nations': 2971, 'treasure': 4571, 'margaret': 2735, 'cameron': 661, 'nostalgic': 3039, 'experienced': 1581, 'balls': 390, 'kay': 2447, 'agents': 151, 'resembles': 3646, 'wisdom': 4902, 'typically': 4624, 'safety': 3772, 'jet': 2400, 'li': 2587, 'birds': 485, 'paulie': 3215, 'activities': 102, 'jackson': 2375, 'splendid': 4119, 'jazz': 2387, 'executive': 1567, 'perry': 3237, 'edition': 1422, 'edie': 1419, 'jackie': 2374, 'disjointed': 1287, 'alcoholic': 177, 'stranger': 4213, 'cole': 873, 'shark': 3921, 'cary': 706, 'hills': 2109, 'davis': 1126, 'rebel': 3561, '2002': 32, 'atlantis': 332, 'understandable': 4644, 'improve': 2254, 'leo': 2571, 'thru': 4483, 'mob': 2879, 'mummy': 2937, 'wallace': 4782, 'promised': 3431, 'impressed': 2251, 'kidding': 2465, 'frankenstein': 1822, 'wannabe': 4787, 'abusive': 75, 'thrill': 4471, 'prom': 3429, 'wendy': 4846, 'ritter': 3705, 'rush': 3759, 'shape': 3919, 'outcome': 3142, 'plausible': 3295, 'illegal': 2229, 'introduces': 2338, 'ned': 2986, 'describes': 1196, 'conservative': 948, 'screenwriter': 3833, 'lumet': 2688, 'agrees': 157, 'aforementioned': 139, 'doubts': 1333, 'dynamic': 1394, 'bull': 619, 'aimed': 162, 'pokemon': 3320, 'distribution': 1298, 'involvement': 2347, 'inevitably': 2283, 'germans': 1897, 'guarantee': 1987, 'performs': 3234, 'dances': 1106, 'trio': 4587, '1973': 19, 'clark': 832, 'cure': 1081, 'crisis': 1060, 'survivors': 4325, 'downhill': 1336, 'spread': 4133, 'panic': 3181, 'eg': 1434, 'breasts': 572, 'curtis': 1087, 'pursuit': 3476, 'twins': 4616, 'signed': 3971, 'likewise': 2603, 'dressing': 1359, '35': 45, 'alfred': 181, 'corruption': 1002, 'wayne': 4821, 'chess': 783, 'attraction': 350, 'amitabh': 216, 'enterprise': 1495, 'motivation': 2914, 'object': 3066, 'buff': 611, 'stan': 4142, 'jonathan': 2417, 'hilariously': 2107, 'displays': 1293, 'protagonist': 3441, 'ambitious': 211, 'voiced': 4762, 'cannibal': 669, 'soccer': 4048, 'opinions': 3119, 'opposed': 3122, 'astaire': 330, 'ginger': 1908, 'monkeys': 2891, 'improvement': 2256, 'sally': 3776, 'iraq': 2351, 'blows': 517, 'cabin': 643, 'guard': 1988, 'holmes': 2139, 'legal': 2563, 'rolled': 3729, 'cagney': 646, 'lawrence': 2539, 'sport': 4129, 'myers': 2952, 'triumph': 4590, 'lifestyle': 2593, 'simpson': 3987, '3rd': 47, 'depicting': 1184, 'watches': 4814, 'closest': 857, 'emma': 1457, 'introduce': 2336, 'gundam': 1997, 'rambo': 3511, 'meat': 2787, 'trail': 4553, 'twelve': 4611, 'brosnan': 597, 'reel': 3581, 'cg': 739, 'argue': 290, 'depression': 1189, 'suited': 4286, 'waitress': 4773, 'unpleasant': 4674, 'encounter': 1466, 'defined': 1160, 'polanski': 3321, 'sid': 3964, 'carpenter': 694, 'hooked': 2153, 'womens': 4924, 'fever': 1699, 'solution': 4059, 'corrupt': 1001, 'resist': 3648, 'ocean': 3079, 'disbelief': 1277, 'lincoln': 2608, 'fonda': 1777, 'iran': 2350, 'fascinated': 1657, 'population': 3335, 'screens': 3832, 'retired': 3664, 'tracks': 4545, 'despair': 1207, 'grey': 1973, 'cleverly': 842, 'hopper': 2161, 'impress': 2250, 'warrior': 4802, 'carl': 692, 'helicopter': 2076, 'invasion': 2340, 'capturing': 679, 'blacks': 494, 'investigation': 2343, 'steel': 4173, 'corporate': 998, 'schools': 3814, 'chases': 771, 'hal': 2006, 'simmons': 3981, 'hamlet': 2013, 'frustration': 1843, 'laurel': 2537, 'hardy': 2037, 'bud': 607, 'mechanical': 2788, 'roman': 3731, 'stress': 4220, 'assigned': 325, 'shortly': 3947, 'hook': 2152, 'hammer': 2014, 'improved': 2255, 'dub': 1378, 'der': 1191, 'campbell': 663, 'randomly': 3515, 'antics': 255, 'fields': 1705, 'columbo': 881, 'kubrick': 2496, 'rats': 3531, 'communist': 907, 'che': 773, 'jeffrey': 2391, 'bush': 632, 'combat': 882, 'orange': 3125, 'streisand': 4218, 'giallo': 1904, 'bourne': 554, 'gadget': 1860, 'luckily': 2682, 'challenging': 744, 'fulci': 1845, 'whale': 4857, 'domino': 1319, 'gabriel': 1859, 'garbo': 1871}\n"
     ]
    }
   ],
   "source": [
    "print(str(vocabulary))"
   ]
  },
  {
   "cell_type": "markdown",
   "metadata": {},
   "source": [
    "Once you have added the endpoint name to the Lambda function, click on **Save**. Your Lambda function is now up and running. Next we need to create a way for our web app to execute the Lambda function."
   ]
  },
  {
   "cell_type": "markdown",
   "metadata": {},
   "source": [
    "### Setting up API Gateway\n",
    "\n",
    "Now that our Lambda function is set up, it is time to create a new API using API Gateway that will trigger the Lambda function we have just created.\n",
    "\n",
    "Using AWS Console, navigate to **Amazon API Gateway** and then click on **Get started**.\n",
    "\n",
    "On the next page, make sure that **New API** is selected and give the new api a name, for example, `sentiment_analysis_web_app`. Then, click on **Create API**.\n",
    "\n",
    "Now we have created an API, however it doesn't currently do anything. What we want it to do is to trigger the Lambda function that we created earlier.\n",
    "\n",
    "Select the **Actions** dropdown menu and click **Create Method**. A new blank method will be created, select its dropdown menu and select **POST**, then click on the check mark beside it.\n",
    "\n",
    "For the integration point, make sure that **Lambda Function** is selected and click on the **Use Lambda Proxy integration**. This option makes sure that the data that is sent to the API is then sent directly to the Lambda function with no processing. It also means that the return value must be a proper response object as it will also not be processed by API Gateway.\n",
    "\n",
    "Type the name of the Lambda function you created earlier into the **Lambda Function** text entry box and then click on **Save**. Click on **OK** in the pop-up box that then appears, giving permission to API Gateway to invoke the Lambda function you created.\n",
    "\n",
    "The last step in creating the API Gateway is to select the **Actions** dropdown and click on **Deploy API**. You will need to create a new Deployment stage and name it anything you like, for example `prod`.\n",
    "\n",
    "You have now successfully set up a public API to access your SageMaker model. Make sure to copy or write down the URL provided to invoke your newly created public API as this will be needed in the next step. This URL can be found at the top of the page, highlighted in blue next to the text **Invoke URL**."
   ]
  },
  {
   "cell_type": "markdown",
   "metadata": {},
   "source": [
    "## Step 7: Deploying our web app\n",
    "\n",
    "Now that we have a publicly available API, we can start using it in a web app. For our purposes, we have provided a simple static html file which can make use of the public api you created earlier.\n",
    "\n",
    "In the `website` folder there should be a file called `index.html`. Download the file to your computer and open that file up in a text editor of your choice. There should be a line which contains **\\*\\*REPLACE WITH PUBLIC API URL\\*\\***. Replace this string with the url that you wrote down in the last step and then save the file.\n",
    "\n",
    "Now, if you open `index.html` on your local computer, your browser will behave as a local web server and you can use the provided site to interact with your SageMaker model.\n",
    "\n",
    "If you'd like to go further, you can host this html file anywhere you'd like, for example using github or hosting a static site on Amazon's S3. Once you have done this you can share the link with anyone you'd like and have them play with it too!\n",
    "\n",
    "> **Important Note** In order for the web app to communicate with the SageMaker endpoint, the endpoint has to actually be deployed and running. This means that you are paying for it. Make sure that the endpoint is running when you want to use the web app but that you shut it down when you don't need it, otherwise you will end up with a surprisingly large AWS bill."
   ]
  },
  {
   "cell_type": "markdown",
   "metadata": {},
   "source": [
    "### Delete the endpoint\n",
    "\n",
    "Remember to always shut down your endpoint if you are no longer using it. You are charged for the length of time that the endpoint is running so if you forget and leave it on you could end up with an unexpectedly large bill."
   ]
  },
  {
   "cell_type": "code",
   "execution_count": 51,
   "metadata": {},
   "outputs": [],
   "source": [
    "xgb_predictor.delete_endpoint()"
   ]
  },
  {
   "cell_type": "markdown",
   "metadata": {},
   "source": [
    "## Optional: Clean up\n",
    "\n",
    "The default notebook instance on SageMaker doesn't have a lot of excess disk space available. As you continue to complete and execute notebooks you will eventually fill up this disk space, leading to errors which can be difficult to diagnose. Once you are completely finished using a notebook it is a good idea to remove the files that you created along the way. Of course, you can do this from the terminal or from the notebook hub if you would like. The cell below contains some commands to clean up the created files from within the notebook."
   ]
  },
  {
   "cell_type": "code",
   "execution_count": 52,
   "metadata": {},
   "outputs": [],
   "source": [
    "# First we will remove all of the files contained in the data_dir directory\n",
    "!rm $data_dir/*\n",
    "\n",
    "# And then we delete the directory itself\n",
    "!rmdir $data_dir\n",
    "\n",
    "# Similarly we remove the files in the cache_dir directory and the directory itself\n",
    "!rm $cache_dir/*\n",
    "!rmdir $cache_dir"
   ]
  },
  {
   "cell_type": "code",
   "execution_count": null,
   "metadata": {},
   "outputs": [],
   "source": []
  }
 ],
 "metadata": {
  "kernelspec": {
   "display_name": "conda_python3",
   "language": "python",
   "name": "conda_python3"
  },
  "language_info": {
   "codemirror_mode": {
    "name": "ipython",
    "version": 3
   },
   "file_extension": ".py",
   "mimetype": "text/x-python",
   "name": "python",
   "nbconvert_exporter": "python",
   "pygments_lexer": "ipython3",
   "version": "3.6.10"
  }
 },
 "nbformat": 4,
 "nbformat_minor": 2
}
